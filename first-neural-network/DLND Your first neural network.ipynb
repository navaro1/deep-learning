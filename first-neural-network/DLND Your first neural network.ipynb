{
 "cells": [
  {
   "cell_type": "markdown",
   "metadata": {
    "deletable": true,
    "editable": true
   },
   "source": [
    "# Your first neural network\n",
    "\n",
    "In this project, you'll build your first neural network and use it to predict daily bike rental ridership. We've provided some of the code, but left the implementation of the neural network up to you (for the most part). After you've submitted this project, feel free to explore the data and the model more.\n",
    "\n"
   ]
  },
  {
   "cell_type": "code",
   "execution_count": 4,
   "metadata": {
    "collapsed": false,
    "deletable": true,
    "editable": true
   },
   "outputs": [],
   "source": [
    "%matplotlib inline\n",
    "%config InlineBackend.figure_format = 'retina'\n",
    "\n",
    "import numpy as np\n",
    "import pandas as pd\n",
    "import matplotlib.pyplot as plt"
   ]
  },
  {
   "cell_type": "markdown",
   "metadata": {
    "deletable": true,
    "editable": true
   },
   "source": [
    "## Load and prepare the data\n",
    "\n",
    "A critical step in working with neural networks is preparing the data correctly. Variables on different scales make it difficult for the network to efficiently learn the correct weights. Below, we've written the code to load and prepare the data. You'll learn more about this soon!"
   ]
  },
  {
   "cell_type": "code",
   "execution_count": 5,
   "metadata": {
    "collapsed": false,
    "deletable": true,
    "editable": true
   },
   "outputs": [],
   "source": [
    "data_path = 'Bike-Sharing-Dataset/hour.csv'\n",
    "\n",
    "rides = pd.read_csv(data_path)"
   ]
  },
  {
   "cell_type": "code",
   "execution_count": 6,
   "metadata": {
    "collapsed": false,
    "deletable": true,
    "editable": true
   },
   "outputs": [
    {
     "data": {
      "text/html": [
       "<div>\n",
       "<table border=\"1\" class=\"dataframe\">\n",
       "  <thead>\n",
       "    <tr style=\"text-align: right;\">\n",
       "      <th></th>\n",
       "      <th>instant</th>\n",
       "      <th>dteday</th>\n",
       "      <th>season</th>\n",
       "      <th>yr</th>\n",
       "      <th>mnth</th>\n",
       "      <th>hr</th>\n",
       "      <th>holiday</th>\n",
       "      <th>weekday</th>\n",
       "      <th>workingday</th>\n",
       "      <th>weathersit</th>\n",
       "      <th>temp</th>\n",
       "      <th>atemp</th>\n",
       "      <th>hum</th>\n",
       "      <th>windspeed</th>\n",
       "      <th>casual</th>\n",
       "      <th>registered</th>\n",
       "      <th>cnt</th>\n",
       "    </tr>\n",
       "  </thead>\n",
       "  <tbody>\n",
       "    <tr>\n",
       "      <th>0</th>\n",
       "      <td>1</td>\n",
       "      <td>2011-01-01</td>\n",
       "      <td>1</td>\n",
       "      <td>0</td>\n",
       "      <td>1</td>\n",
       "      <td>0</td>\n",
       "      <td>0</td>\n",
       "      <td>6</td>\n",
       "      <td>0</td>\n",
       "      <td>1</td>\n",
       "      <td>0.24</td>\n",
       "      <td>0.2879</td>\n",
       "      <td>0.81</td>\n",
       "      <td>0.0</td>\n",
       "      <td>3</td>\n",
       "      <td>13</td>\n",
       "      <td>16</td>\n",
       "    </tr>\n",
       "    <tr>\n",
       "      <th>1</th>\n",
       "      <td>2</td>\n",
       "      <td>2011-01-01</td>\n",
       "      <td>1</td>\n",
       "      <td>0</td>\n",
       "      <td>1</td>\n",
       "      <td>1</td>\n",
       "      <td>0</td>\n",
       "      <td>6</td>\n",
       "      <td>0</td>\n",
       "      <td>1</td>\n",
       "      <td>0.22</td>\n",
       "      <td>0.2727</td>\n",
       "      <td>0.80</td>\n",
       "      <td>0.0</td>\n",
       "      <td>8</td>\n",
       "      <td>32</td>\n",
       "      <td>40</td>\n",
       "    </tr>\n",
       "    <tr>\n",
       "      <th>2</th>\n",
       "      <td>3</td>\n",
       "      <td>2011-01-01</td>\n",
       "      <td>1</td>\n",
       "      <td>0</td>\n",
       "      <td>1</td>\n",
       "      <td>2</td>\n",
       "      <td>0</td>\n",
       "      <td>6</td>\n",
       "      <td>0</td>\n",
       "      <td>1</td>\n",
       "      <td>0.22</td>\n",
       "      <td>0.2727</td>\n",
       "      <td>0.80</td>\n",
       "      <td>0.0</td>\n",
       "      <td>5</td>\n",
       "      <td>27</td>\n",
       "      <td>32</td>\n",
       "    </tr>\n",
       "    <tr>\n",
       "      <th>3</th>\n",
       "      <td>4</td>\n",
       "      <td>2011-01-01</td>\n",
       "      <td>1</td>\n",
       "      <td>0</td>\n",
       "      <td>1</td>\n",
       "      <td>3</td>\n",
       "      <td>0</td>\n",
       "      <td>6</td>\n",
       "      <td>0</td>\n",
       "      <td>1</td>\n",
       "      <td>0.24</td>\n",
       "      <td>0.2879</td>\n",
       "      <td>0.75</td>\n",
       "      <td>0.0</td>\n",
       "      <td>3</td>\n",
       "      <td>10</td>\n",
       "      <td>13</td>\n",
       "    </tr>\n",
       "    <tr>\n",
       "      <th>4</th>\n",
       "      <td>5</td>\n",
       "      <td>2011-01-01</td>\n",
       "      <td>1</td>\n",
       "      <td>0</td>\n",
       "      <td>1</td>\n",
       "      <td>4</td>\n",
       "      <td>0</td>\n",
       "      <td>6</td>\n",
       "      <td>0</td>\n",
       "      <td>1</td>\n",
       "      <td>0.24</td>\n",
       "      <td>0.2879</td>\n",
       "      <td>0.75</td>\n",
       "      <td>0.0</td>\n",
       "      <td>0</td>\n",
       "      <td>1</td>\n",
       "      <td>1</td>\n",
       "    </tr>\n",
       "  </tbody>\n",
       "</table>\n",
       "</div>"
      ],
      "text/plain": [
       "<div>\n",
       "<table border=\"1\" class=\"dataframe\">\n",
       "  <thead>\n",
       "    <tr style=\"text-align: right;\">\n",
       "      <th></th>\n",
       "      <th>instant</th>\n",
       "      <th>dteday</th>\n",
       "      <th>season</th>\n",
       "      <th>yr</th>\n",
       "      <th>mnth</th>\n",
       "      <th>hr</th>\n",
       "      <th>holiday</th>\n",
       "      <th>weekday</th>\n",
       "      <th>workingday</th>\n",
       "      <th>weathersit</th>\n",
       "      <th>temp</th>\n",
       "      <th>atemp</th>\n",
       "      <th>hum</th>\n",
       "      <th>windspeed</th>\n",
       "      <th>casual</th>\n",
       "      <th>registered</th>\n",
       "      <th>cnt</th>\n",
       "    </tr>\n",
       "  </thead>\n",
       "  <tbody>\n",
       "    <tr>\n",
       "      <th>0</th>\n",
       "      <td>1</td>\n",
       "      <td>2011-01-01</td>\n",
       "      <td>1</td>\n",
       "      <td>0</td>\n",
       "      <td>1</td>\n",
       "      <td>0</td>\n",
       "      <td>0</td>\n",
       "      <td>6</td>\n",
       "      <td>0</td>\n",
       "      <td>1</td>\n",
       "      <td>0.24</td>\n",
       "      <td>0.2879</td>\n",
       "      <td>0.81</td>\n",
       "      <td>0.0</td>\n",
       "      <td>3</td>\n",
       "      <td>13</td>\n",
       "      <td>16</td>\n",
       "    </tr>\n",
       "    <tr>\n",
       "      <th>1</th>\n",
       "      <td>2</td>\n",
       "      <td>2011-01-01</td>\n",
       "      <td>1</td>\n",
       "      <td>0</td>\n",
       "      <td>1</td>\n",
       "      <td>1</td>\n",
       "      <td>0</td>\n",
       "      <td>6</td>\n",
       "      <td>0</td>\n",
       "      <td>1</td>\n",
       "      <td>0.22</td>\n",
       "      <td>0.2727</td>\n",
       "      <td>0.80</td>\n",
       "      <td>0.0</td>\n",
       "      <td>8</td>\n",
       "      <td>32</td>\n",
       "      <td>40</td>\n",
       "    </tr>\n",
       "    <tr>\n",
       "      <th>2</th>\n",
       "      <td>3</td>\n",
       "      <td>2011-01-01</td>\n",
       "      <td>1</td>\n",
       "      <td>0</td>\n",
       "      <td>1</td>\n",
       "      <td>2</td>\n",
       "      <td>0</td>\n",
       "      <td>6</td>\n",
       "      <td>0</td>\n",
       "      <td>1</td>\n",
       "      <td>0.22</td>\n",
       "      <td>0.2727</td>\n",
       "      <td>0.80</td>\n",
       "      <td>0.0</td>\n",
       "      <td>5</td>\n",
       "      <td>27</td>\n",
       "      <td>32</td>\n",
       "    </tr>\n",
       "    <tr>\n",
       "      <th>3</th>\n",
       "      <td>4</td>\n",
       "      <td>2011-01-01</td>\n",
       "      <td>1</td>\n",
       "      <td>0</td>\n",
       "      <td>1</td>\n",
       "      <td>3</td>\n",
       "      <td>0</td>\n",
       "      <td>6</td>\n",
       "      <td>0</td>\n",
       "      <td>1</td>\n",
       "      <td>0.24</td>\n",
       "      <td>0.2879</td>\n",
       "      <td>0.75</td>\n",
       "      <td>0.0</td>\n",
       "      <td>3</td>\n",
       "      <td>10</td>\n",
       "      <td>13</td>\n",
       "    </tr>\n",
       "    <tr>\n",
       "      <th>4</th>\n",
       "      <td>5</td>\n",
       "      <td>2011-01-01</td>\n",
       "      <td>1</td>\n",
       "      <td>0</td>\n",
       "      <td>1</td>\n",
       "      <td>4</td>\n",
       "      <td>0</td>\n",
       "      <td>6</td>\n",
       "      <td>0</td>\n",
       "      <td>1</td>\n",
       "      <td>0.24</td>\n",
       "      <td>0.2879</td>\n",
       "      <td>0.75</td>\n",
       "      <td>0.0</td>\n",
       "      <td>0</td>\n",
       "      <td>1</td>\n",
       "      <td>1</td>\n",
       "    </tr>\n",
       "  </tbody>\n",
       "</table>\n",
       "</div>"
      ]
     },
     "execution_count": 6,
     "metadata": {},
     "output_type": "execute_result"
    }
   ],
   "source": [
    "rides.head()"
   ]
  },
  {
   "cell_type": "markdown",
   "metadata": {
    "deletable": true,
    "editable": true
   },
   "source": [
    "## Checking out the data\n",
    "\n",
    "This dataset has the number of riders for each hour of each day from January 1 2011 to December 31 2012. The number of riders is split between casual and registered, summed up in the `cnt` column. You can see the first few rows of the data above.\n",
    "\n",
    "Below is a plot showing the number of bike riders over the first 10 days or so in the data set. (Some days don't have exactly 24 entries in the data set, so it's not exactly 10 days.) You can see the hourly rentals here. This data is pretty complicated! The weekends have lower over all ridership and there are spikes when people are biking to and from work during the week. Looking at the data above, we also have information about temperature, humidity, and windspeed, all of these likely affecting the number of riders. You'll be trying to capture all this with your model."
   ]
  },
  {
   "cell_type": "code",
   "execution_count": 9,
   "metadata": {
    "collapsed": false,
    "deletable": true,
    "editable": true
   },
   "outputs": [
    {
     "data": {
      "text/plain": [
       "<matplotlib.axes._subplots.AxesSubplot at 0x7fafb49c9828>"
      ]
     },
     "execution_count": 9,
     "metadata": {},
     "output_type": "execute_result"
    },
    {
     "data": {
      "image/png": "[encoded data removed]",
      "text/plain": [
       "<matplotlib.figure.Figure at 0x7fafaefd9208>"
      ]
     },
     "metadata": {},
     "output_type": "display_data"
    }
   ],
   "source": [
    "rides[:24*10].plot(x='dteday', y='cnt')"
   ]
  },
  {
   "cell_type": "markdown",
   "metadata": {
    "deletable": true,
    "editable": true
   },
   "source": [
    "### Dummy variables\n",
    "Here we have some categorical variables like season, weather, month. To include these in our model, we'll need to make binary dummy variables. This is simple to do with Pandas thanks to `get_dummies()`."
   ]
  },
  {
   "cell_type": "code",
   "execution_count": 10,
   "metadata": {
    "collapsed": false,
    "deletable": true,
    "editable": true
   },
   "outputs": [
    {
     "data": {
      "text/html": [
       "<div>\n",
       "<table border=\"1\" class=\"dataframe\">\n",
       "  <thead>\n",
       "    <tr style=\"text-align: right;\">\n",
       "      <th></th>\n",
       "      <th>yr</th>\n",
       "      <th>holiday</th>\n",
       "      <th>temp</th>\n",
       "      <th>hum</th>\n",
       "      <th>windspeed</th>\n",
       "      <th>casual</th>\n",
       "      <th>registered</th>\n",
       "      <th>cnt</th>\n",
       "      <th>season_1</th>\n",
       "      <th>season_2</th>\n",
       "      <th>...</th>\n",
       "      <th>hr_21</th>\n",
       "      <th>hr_22</th>\n",
       "      <th>hr_23</th>\n",
       "      <th>weekday_0</th>\n",
       "      <th>weekday_1</th>\n",
       "      <th>weekday_2</th>\n",
       "      <th>weekday_3</th>\n",
       "      <th>weekday_4</th>\n",
       "      <th>weekday_5</th>\n",
       "      <th>weekday_6</th>\n",
       "    </tr>\n",
       "  </thead>\n",
       "  <tbody>\n",
       "    <tr>\n",
       "      <th>0</th>\n",
       "      <td>0</td>\n",
       "      <td>0</td>\n",
       "      <td>0.24</td>\n",
       "      <td>0.81</td>\n",
       "      <td>0.0</td>\n",
       "      <td>3</td>\n",
       "      <td>13</td>\n",
       "      <td>16</td>\n",
       "      <td>1</td>\n",
       "      <td>0</td>\n",
       "      <td>...</td>\n",
       "      <td>0</td>\n",
       "      <td>0</td>\n",
       "      <td>0</td>\n",
       "      <td>0</td>\n",
       "      <td>0</td>\n",
       "      <td>0</td>\n",
       "      <td>0</td>\n",
       "      <td>0</td>\n",
       "      <td>0</td>\n",
       "      <td>1</td>\n",
       "    </tr>\n",
       "    <tr>\n",
       "      <th>1</th>\n",
       "      <td>0</td>\n",
       "      <td>0</td>\n",
       "      <td>0.22</td>\n",
       "      <td>0.80</td>\n",
       "      <td>0.0</td>\n",
       "      <td>8</td>\n",
       "      <td>32</td>\n",
       "      <td>40</td>\n",
       "      <td>1</td>\n",
       "      <td>0</td>\n",
       "      <td>...</td>\n",
       "      <td>0</td>\n",
       "      <td>0</td>\n",
       "      <td>0</td>\n",
       "      <td>0</td>\n",
       "      <td>0</td>\n",
       "      <td>0</td>\n",
       "      <td>0</td>\n",
       "      <td>0</td>\n",
       "      <td>0</td>\n",
       "      <td>1</td>\n",
       "    </tr>\n",
       "    <tr>\n",
       "      <th>2</th>\n",
       "      <td>0</td>\n",
       "      <td>0</td>\n",
       "      <td>0.22</td>\n",
       "      <td>0.80</td>\n",
       "      <td>0.0</td>\n",
       "      <td>5</td>\n",
       "      <td>27</td>\n",
       "      <td>32</td>\n",
       "      <td>1</td>\n",
       "      <td>0</td>\n",
       "      <td>...</td>\n",
       "      <td>0</td>\n",
       "      <td>0</td>\n",
       "      <td>0</td>\n",
       "      <td>0</td>\n",
       "      <td>0</td>\n",
       "      <td>0</td>\n",
       "      <td>0</td>\n",
       "      <td>0</td>\n",
       "      <td>0</td>\n",
       "      <td>1</td>\n",
       "    </tr>\n",
       "    <tr>\n",
       "      <th>3</th>\n",
       "      <td>0</td>\n",
       "      <td>0</td>\n",
       "      <td>0.24</td>\n",
       "      <td>0.75</td>\n",
       "      <td>0.0</td>\n",
       "      <td>3</td>\n",
       "      <td>10</td>\n",
       "      <td>13</td>\n",
       "      <td>1</td>\n",
       "      <td>0</td>\n",
       "      <td>...</td>\n",
       "      <td>0</td>\n",
       "      <td>0</td>\n",
       "      <td>0</td>\n",
       "      <td>0</td>\n",
       "      <td>0</td>\n",
       "      <td>0</td>\n",
       "      <td>0</td>\n",
       "      <td>0</td>\n",
       "      <td>0</td>\n",
       "      <td>1</td>\n",
       "    </tr>\n",
       "    <tr>\n",
       "      <th>4</th>\n",
       "      <td>0</td>\n",
       "      <td>0</td>\n",
       "      <td>0.24</td>\n",
       "      <td>0.75</td>\n",
       "      <td>0.0</td>\n",
       "      <td>0</td>\n",
       "      <td>1</td>\n",
       "      <td>1</td>\n",
       "      <td>1</td>\n",
       "      <td>0</td>\n",
       "      <td>...</td>\n",
       "      <td>0</td>\n",
       "      <td>0</td>\n",
       "      <td>0</td>\n",
       "      <td>0</td>\n",
       "      <td>0</td>\n",
       "      <td>0</td>\n",
       "      <td>0</td>\n",
       "      <td>0</td>\n",
       "      <td>0</td>\n",
       "      <td>1</td>\n",
       "    </tr>\n",
       "  </tbody>\n",
       "</table>\n",
       "<p>5 rows × 59 columns</p>\n",
       "</div>"
      ],
      "text/plain": [
       "<div>\n",
       "<table border=\"1\" class=\"dataframe\">\n",
       "  <thead>\n",
       "    <tr style=\"text-align: right;\">\n",
       "      <th></th>\n",
       "      <th>yr</th>\n",
       "      <th>holiday</th>\n",
       "      <th>temp</th>\n",
       "      <th>hum</th>\n",
       "      <th>windspeed</th>\n",
       "      <th>casual</th>\n",
       "      <th>registered</th>\n",
       "      <th>cnt</th>\n",
       "      <th>season_1</th>\n",
       "      <th>season_2</th>\n",
       "      <th>...</th>\n",
       "      <th>hr_21</th>\n",
       "      <th>hr_22</th>\n",
       "      <th>hr_23</th>\n",
       "      <th>weekday_0</th>\n",
       "      <th>weekday_1</th>\n",
       "      <th>weekday_2</th>\n",
       "      <th>weekday_3</th>\n",
       "      <th>weekday_4</th>\n",
       "      <th>weekday_5</th>\n",
       "      <th>weekday_6</th>\n",
       "    </tr>\n",
       "  </thead>\n",
       "  <tbody>\n",
       "    <tr>\n",
       "      <th>0</th>\n",
       "      <td>0</td>\n",
       "      <td>0</td>\n",
       "      <td>0.24</td>\n",
       "      <td>0.81</td>\n",
       "      <td>0.0</td>\n",
       "      <td>3</td>\n",
       "      <td>13</td>\n",
       "      <td>16</td>\n",
       "      <td>1</td>\n",
       "      <td>0</td>\n",
       "      <td>...</td>\n",
       "      <td>0</td>\n",
       "      <td>0</td>\n",
       "      <td>0</td>\n",
       "      <td>0</td>\n",
       "      <td>0</td>\n",
       "      <td>0</td>\n",
       "      <td>0</td>\n",
       "      <td>0</td>\n",
       "      <td>0</td>\n",
       "      <td>1</td>\n",
       "    </tr>\n",
       "    <tr>\n",
       "      <th>1</th>\n",
       "      <td>0</td>\n",
       "      <td>0</td>\n",
       "      <td>0.22</td>\n",
       "      <td>0.80</td>\n",
       "      <td>0.0</td>\n",
       "      <td>8</td>\n",
       "      <td>32</td>\n",
       "      <td>40</td>\n",
       "      <td>1</td>\n",
       "      <td>0</td>\n",
       "      <td>...</td>\n",
       "      <td>0</td>\n",
       "      <td>0</td>\n",
       "      <td>0</td>\n",
       "      <td>0</td>\n",
       "      <td>0</td>\n",
       "      <td>0</td>\n",
       "      <td>0</td>\n",
       "      <td>0</td>\n",
       "      <td>0</td>\n",
       "      <td>1</td>\n",
       "    </tr>\n",
       "    <tr>\n",
       "      <th>2</th>\n",
       "      <td>0</td>\n",
       "      <td>0</td>\n",
       "      <td>0.22</td>\n",
       "      <td>0.80</td>\n",
       "      <td>0.0</td>\n",
       "      <td>5</td>\n",
       "      <td>27</td>\n",
       "      <td>32</td>\n",
       "      <td>1</td>\n",
       "      <td>0</td>\n",
       "      <td>...</td>\n",
       "      <td>0</td>\n",
       "      <td>0</td>\n",
       "      <td>0</td>\n",
       "      <td>0</td>\n",
       "      <td>0</td>\n",
       "      <td>0</td>\n",
       "      <td>0</td>\n",
       "      <td>0</td>\n",
       "      <td>0</td>\n",
       "      <td>1</td>\n",
       "    </tr>\n",
       "    <tr>\n",
       "      <th>3</th>\n",
       "      <td>0</td>\n",
       "      <td>0</td>\n",
       "      <td>0.24</td>\n",
       "      <td>0.75</td>\n",
       "      <td>0.0</td>\n",
       "      <td>3</td>\n",
       "      <td>10</td>\n",
       "      <td>13</td>\n",
       "      <td>1</td>\n",
       "      <td>0</td>\n",
       "      <td>...</td>\n",
       "      <td>0</td>\n",
       "      <td>0</td>\n",
       "      <td>0</td>\n",
       "      <td>0</td>\n",
       "      <td>0</td>\n",
       "      <td>0</td>\n",
       "      <td>0</td>\n",
       "      <td>0</td>\n",
       "      <td>0</td>\n",
       "      <td>1</td>\n",
       "    </tr>\n",
       "    <tr>\n",
       "      <th>4</th>\n",
       "      <td>0</td>\n",
       "      <td>0</td>\n",
       "      <td>0.24</td>\n",
       "      <td>0.75</td>\n",
       "      <td>0.0</td>\n",
       "      <td>0</td>\n",
       "      <td>1</td>\n",
       "      <td>1</td>\n",
       "      <td>1</td>\n",
       "      <td>0</td>\n",
       "      <td>...</td>\n",
       "      <td>0</td>\n",
       "      <td>0</td>\n",
       "      <td>0</td>\n",
       "      <td>0</td>\n",
       "      <td>0</td>\n",
       "      <td>0</td>\n",
       "      <td>0</td>\n",
       "      <td>0</td>\n",
       "      <td>0</td>\n",
       "      <td>1</td>\n",
       "    </tr>\n",
       "  </tbody>\n",
       "</table>\n",
       "<p>5 rows × 59 columns</p>\n",
       "</div>"
      ]
     },
     "execution_count": 10,
     "metadata": {},
     "output_type": "execute_result"
    }
   ],
   "source": [
    "dummy_fields = ['season', 'weathersit', 'mnth', 'hr', 'weekday']\n",
    "for each in dummy_fields:\n",
    "    dummies = pd.get_dummies(rides[each], prefix=each, drop_first=False)\n",
    "    rides = pd.concat([rides, dummies], axis=1)\n",
    "\n",
    "fields_to_drop = ['instant', 'dteday', 'season', 'weathersit', \n",
    "                  'weekday', 'atemp', 'mnth', 'workingday', 'hr']\n",
    "data = rides.drop(fields_to_drop, axis=1)\n",
    "data.head()"
   ]
  },
  {
   "cell_type": "markdown",
   "metadata": {
    "deletable": true,
    "editable": true
   },
   "source": [
    "### Scaling target variables\n",
    "To make training the network easier, we'll standardize each of the continuous variables. That is, we'll shift and scale the variables such that they have zero mean and a standard deviation of 1.\n",
    "\n",
    "The scaling factors are saved so we can go backwards when we use the network for predictions."
   ]
  },
  {
   "cell_type": "code",
   "execution_count": 11,
   "metadata": {
    "collapsed": false,
    "deletable": true,
    "editable": true
   },
   "outputs": [],
   "source": [
    "quant_features = ['casual', 'registered', 'cnt', 'temp', 'hum', 'windspeed']\n",
    "# Store scalings in a dictionary so we can convert back later\n",
    "scaled_features = {}\n",
    "for each in quant_features:\n",
    "    mean, std = data[each].mean(), data[each].std()\n",
    "    scaled_features[each] = [mean, std]\n",
    "    data.loc[:, each] = (data[each] - mean)/std"
   ]
  },
  {
   "cell_type": "markdown",
   "metadata": {
    "deletable": true,
    "editable": true
   },
   "source": [
    "### Splitting the data into training, testing, and validation sets\n",
    "\n",
    "We'll save the data for the last approximately 21 days to use as a test set after we've trained the network. We'll use this set to make predictions and compare them with the actual number of riders."
   ]
  },
  {
   "cell_type": "code",
   "execution_count": 12,
   "metadata": {
    "collapsed": false,
    "deletable": true,
    "editable": true
   },
   "outputs": [],
   "source": [
    "# Save data for approximately the last 21 days \n",
    "test_data = data[-21*24:]\n",
    "\n",
    "# Now remove the test data from the data set \n",
    "data = data[:-21*24]\n",
    "\n",
    "# Separate the data into features and targets\n",
    "target_fields = ['cnt', 'casual', 'registered']\n",
    "features, targets = data.drop(target_fields, axis=1), data[target_fields]\n",
    "test_features, test_targets = test_data.drop(target_fields, axis=1), test_data[target_fields]"
   ]
  },
  {
   "cell_type": "markdown",
   "metadata": {
    "deletable": true,
    "editable": true
   },
   "source": [
    "We'll split the data into two sets, one for training and one for validating as the network is being trained. Since this is time series data, we'll train on historical data, then try to predict on future data (the validation set)."
   ]
  },
  {
   "cell_type": "code",
   "execution_count": 13,
   "metadata": {
    "collapsed": false,
    "deletable": true,
    "editable": true
   },
   "outputs": [],
   "source": [
    "# Hold out the last 60 days or so of the remaining data as a validation set\n",
    "train_features, train_targets = features[:-60*24], targets[:-60*24]\n",
    "val_features, val_targets = features[-60*24:], targets[-60*24:]"
   ]
  },
  {
   "cell_type": "markdown",
   "metadata": {
    "deletable": true,
    "editable": true
   },
   "source": [
    "## Time to build the network\n",
    "\n",
    "Below you'll build your network. We've built out the structure and the backwards pass. You'll implement the forward pass through the network. You'll also set the hyperparameters: the learning rate, the number of hidden units, and the number of training passes.\n",
    "\n",
    "<img src=\"assets/neural_network.png\" width=300px>\n",
    "\n",
    "The network has two layers, a hidden layer and an output layer. The hidden layer will use the sigmoid function for activations. The output layer has only one node and is used for the regression, the output of the node is the same as the input of the node. That is, the activation function is $f(x)=x$. A function that takes the input signal and generates an output signal, but takes into account the threshold, is called an activation function. We work through each layer of our network calculating the outputs for each neuron. All of the outputs from one layer become inputs to the neurons on the next layer. This process is called *forward propagation*.\n",
    "\n",
    "We use the weights to propagate signals forward from the input to the output layers in a neural network. We use the weights to also propagate error backwards from the output back into the network to update our weights. This is called *backpropagation*.\n",
    "\n",
    "> **Hint:** You'll need the derivative of the output activation function ($f(x) = x$) for the backpropagation implementation. If you aren't familiar with calculus, this function is equivalent to the equation $y = x$. What is the slope of that equation? That is the derivative of $f(x)$.\n",
    "\n",
    "Below, you have these tasks:\n",
    "1. Implement the sigmoid function to use as the activation function. Set `self.activation_function` in `__init__` to your sigmoid function.\n",
    "2. Implement the forward pass in the `train` method.\n",
    "3. Implement the backpropagation algorithm in the `train` method, including calculating the output error.\n",
    "4. Implement the forward pass in the `run` method.\n",
    "  "
   ]
  },
  {
   "cell_type": "code",
   "execution_count": 36,
   "metadata": {
    "collapsed": true,
    "deletable": true,
    "editable": true
   },
   "outputs": [],
   "source": [
    "class NeuralNetwork(object):\n",
    "    def __init__(self, input_nodes, hidden_nodes, output_nodes, learning_rate):\n",
    "        # Set number of nodes in input, hidden and output layers.\n",
    "        self.input_nodes = input_nodes\n",
    "        self.hidden_nodes = hidden_nodes\n",
    "        self.output_nodes = output_nodes\n",
    "\n",
    "        # Initialize weights\n",
    "        self.weights_input_to_hidden = np.random.normal(0.0, self.input_nodes ** -0.5,\n",
    "                                                        (self.input_nodes, self.hidden_nodes))\n",
    "\n",
    "        self.weights_hidden_to_output = np.random.normal(0.0, self.hidden_nodes ** -0.5,\n",
    "                                                         (self.hidden_nodes, self.output_nodes))\n",
    "        self.lr = learning_rate\n",
    "\n",
    "        #### TODO: Set self.activation_function to your implemented sigmoid function ####\n",
    "        #\n",
    "        # Note: in Python, you can define a function with a lambda expression,\n",
    "        # as shown below.\n",
    "        self.activation_function = lambda x: 1 / (1 + np.exp(-x))  # Replace 0 with your sigmoid calculation.\n",
    "\n",
    "        ### If the lambda code above is not something you're familiar with,\n",
    "        # You can uncomment out the following three lines and put your \n",
    "        # implementation there instead.\n",
    "        #\n",
    "        # def sigmoid(x):\n",
    "        #    return 0  # Replace 0 with your sigmoid calculation here\n",
    "        # self.activation_function = sigmoid\n",
    "\n",
    "\n",
    "    def train(self, features, targets):\n",
    "        ''' Train the network on batch of features and targets. \n",
    "        \n",
    "            Arguments\n",
    "            ---------\n",
    "            \n",
    "            features: 2D array, each row is one data record, each column is a feature\n",
    "            targets: 1D array of target values\n",
    "        \n",
    "        '''\n",
    "        n_records = features.shape[0]\n",
    "        delta_weights_i_h = np.zeros(self.weights_input_to_hidden.shape)\n",
    "        delta_weights_h_o = np.zeros(self.weights_hidden_to_output.shape)\n",
    "        for X, y in zip(features, targets):\n",
    "            #### Implement the forward pass here ####\n",
    "            ### Forward pass ###\n",
    "            # TODO: Hidden layer - Replace these values with your calculations.\n",
    "            hidden_inputs = np.dot(X, self.weights_input_to_hidden)  # signals into hidden layer\n",
    "            hidden_outputs = self.activation_function(hidden_inputs)  # signals from hidden layer\n",
    "\n",
    "            # TODO: Output layer - Replace these values with your calculations.\n",
    "            final_inputs = np.dot(hidden_outputs, self.weights_hidden_to_output)  # signals into final output layer\n",
    "            final_outputs = final_inputs  # signals from final output layer\n",
    "\n",
    "            #### Implement the backward pass here ####\n",
    "            ### Backward pass ###\n",
    "\n",
    "            # TODO: Output error - Replace this value with your calculations.\n",
    "            error = y - final_outputs  # Output layer error is the difference between desired target and actual output.\n",
    "            hidden_error = np.dot(error, self.weights_hidden_to_output.T)\n",
    "            output_error_term = error\n",
    "            hidden_error_term = hidden_error * hidden_outputs * (1 - hidden_outputs)\n",
    "\n",
    "            # Weight step (hidden to output)\n",
    "            delta_weights_h_o += output_error_term * hidden_outputs[:, None]\n",
    "            # Weight step (input to hidden)\n",
    "            delta_weights_i_h += hidden_error_term * X[:, None]\n",
    "\n",
    "\n",
    "        # TODO: Update the weights - Replace these values with your calculations.\n",
    "        self.weights_hidden_to_output += self.lr * delta_weights_h_o\n",
    "        self.weights_input_to_hidden += self.lr * delta_weights_i_h\n",
    "\n",
    "    def run(self, features):\n",
    "        ''' Run a forward pass through the network with input features \n",
    "        \n",
    "            Arguments\n",
    "            ---------\n",
    "            features: 1D array of feature values\n",
    "        '''\n",
    "\n",
    "        #### Implement the forward pass here ####\n",
    "        # TODO: Hidden layer - replace these values with the appropriate calculations.\n",
    "        hidden_inputs = np.dot(features, self.weights_input_to_hidden)  # signals into hidden layer\n",
    "        hidden_outputs = self.activation_function(hidden_inputs)  # signals from hidden layer\n",
    "\n",
    "        # TODO: Output layer - Replace these values with the appropriate calculations.\n",
    "        final_inputs = np.dot(hidden_outputs, self.weights_hidden_to_output)  # signals into final output layer\n",
    "        final_outputs = final_inputs  # signals from final output layer\n",
    "\n",
    "        return final_outputs"
   ]
  },
  {
   "cell_type": "code",
   "execution_count": 15,
   "metadata": {
    "collapsed": true,
    "deletable": true,
    "editable": true
   },
   "outputs": [],
   "source": [
    "def MSE(y, Y):\n",
    "    return np.mean((y-Y)**2)"
   ]
  },
  {
   "cell_type": "markdown",
   "metadata": {
    "deletable": true,
    "editable": true
   },
   "source": [
    "## Unit tests\n",
    "\n",
    "Run these unit tests to check the correctness of your network implementation. This will help you be sure your network was implemented correctly befor you starting trying to train it. These tests must all be successful to pass the project."
   ]
  },
  {
   "cell_type": "code",
   "execution_count": 37,
   "metadata": {
    "collapsed": false,
    "deletable": true,
    "editable": true
   },
   "outputs": [
    {
     "name": "stderr",
     "output_type": "stream",
     "text": [
      "."
     ]
    },
    {
     "name": "stderr",
     "output_type": "stream",
     "text": [
      "."
     ]
    },
    {
     "name": "stderr",
     "output_type": "stream",
     "text": [
      "."
     ]
    },
    {
     "name": "stderr",
     "output_type": "stream",
     "text": [
      "."
     ]
    },
    {
     "name": "stderr",
     "output_type": "stream",
     "text": [
      "."
     ]
    },
    {
     "name": "stderr",
     "output_type": "stream",
     "text": [
      "\n----------------------------------------------------------------------\nRan 5 tests in 0.008s\n\nOK\n"
     ]
    },
    {
     "data": {
      "text/plain": [
       "<unittest.runner.TextTestResult run=5 errors=0 failures=0>"
      ]
     },
     "execution_count": 37,
     "metadata": {},
     "output_type": "execute_result"
    }
   ],
   "source": [
    "import unittest\n",
    "\n",
    "inputs = np.array([[0.5, -0.2, 0.1]])\n",
    "targets = np.array([[0.4]])\n",
    "test_w_i_h = np.array([[0.1, -0.2],\n",
    "                       [0.4, 0.5],\n",
    "                       [-0.3, 0.2]])\n",
    "test_w_h_o = np.array([[0.3],\n",
    "                       [-0.1]])\n",
    "\n",
    "class TestMethods(unittest.TestCase):\n",
    "    \n",
    "    ##########\n",
    "    # Unit tests for data loading\n",
    "    ##########\n",
    "    \n",
    "    def test_data_path(self):\n",
    "        # Test that file path to dataset has been unaltered\n",
    "        self.assertTrue(data_path.lower() == 'bike-sharing-dataset/hour.csv')\n",
    "        \n",
    "    def test_data_loaded(self):\n",
    "        # Test that data frame loaded\n",
    "        self.assertTrue(isinstance(rides, pd.DataFrame))\n",
    "    \n",
    "    ##########\n",
    "    # Unit tests for network functionality\n",
    "    ##########\n",
    "\n",
    "    def test_activation(self):\n",
    "        network = NeuralNetwork(3, 2, 1, 0.5)\n",
    "        # Test that the activation function is a sigmoid\n",
    "        self.assertTrue(np.all(network.activation_function(0.5) == 1/(1+np.exp(-0.5))))\n",
    "\n",
    "    def test_train(self):\n",
    "        # Test that weights are updated correctly on training\n",
    "        network = NeuralNetwork(3, 2, 1, 0.5)\n",
    "        network.weights_input_to_hidden = test_w_i_h.copy()\n",
    "        network.weights_hidden_to_output = test_w_h_o.copy()\n",
    "        \n",
    "        network.train(inputs, targets)\n",
    "        self.assertTrue(np.allclose(network.weights_hidden_to_output, \n",
    "                                    np.array([[ 0.37275328], \n",
    "                                              [-0.03172939]])))\n",
    "        self.assertTrue(np.allclose(network.weights_input_to_hidden,\n",
    "                                    np.array([[ 0.10562014, -0.20185996], \n",
    "                                              [0.39775194, 0.50074398], \n",
    "                                              [-0.29887597, 0.19962801]])))\n",
    "\n",
    "    def test_run(self):\n",
    "        # Test correctness of run method\n",
    "        network = NeuralNetwork(3, 2, 1, 0.5)\n",
    "        network.weights_input_to_hidden = test_w_i_h.copy()\n",
    "        network.weights_hidden_to_output = test_w_h_o.copy()\n",
    "\n",
    "        self.assertTrue(np.allclose(network.run(inputs), 0.09998924))\n",
    "\n",
    "suite = unittest.TestLoader().loadTestsFromModule(TestMethods())\n",
    "unittest.TextTestRunner().run(suite)"
   ]
  },
  {
   "cell_type": "markdown",
   "metadata": {
    "deletable": true,
    "editable": true
   },
   "source": [
    "## Training the network\n",
    "\n",
    "Here you'll set the hyperparameters for the network. The strategy here is to find hyperparameters such that the error on the training set is low, but you're not overfitting to the data. If you train the network too long or have too many hidden nodes, it can become overly specific to the training set and will fail to generalize to the validation set. That is, the loss on the validation set will start increasing as the training set loss drops.\n",
    "\n",
    "You'll also be using a method know as Stochastic Gradient Descent (SGD) to train the network. The idea is that for each training pass, you grab a random sample of the data instead of using the whole data set. You use many more training passes than with normal gradient descent, but each pass is much faster. This ends up training the network more efficiently. You'll learn more about SGD later.\n",
    "\n",
    "### Choose the number of iterations\n",
    "This is the number of batches of samples from the training data we'll use to train the network. The more iterations you use, the better the model will fit the data. However, if you use too many iterations, then the model with not generalize well to other data, this is called overfitting. You want to find a number here where the network has a low training loss, and the validation loss is at a minimum. As you start overfitting, you'll see the training loss continue to decrease while the validation loss starts to increase.\n",
    "\n",
    "### Choose the learning rate\n",
    "This scales the size of weight updates. If this is too big, the weights tend to explode and the network fails to fit the data. A good choice to start at is 0.1. If the network has problems fitting the data, try reducing the learning rate. Note that the lower the learning rate, the smaller the steps are in the weight updates and the longer it takes for the neural network to converge.\n",
    "\n",
    "### Choose the number of hidden nodes\n",
    "The more hidden nodes you have, the more accurate predictions the model will make. Try a few different numbers and see how it affects the performance. You can look at the losses dictionary for a metric of the network performance. If the number of hidden units is too low, then the model won't have enough space to learn and if it is too high there are too many options for the direction that the learning can take. The trick here is to find the right balance in number of hidden units you choose."
   ]
  },
  {
   "cell_type": "code",
   "execution_count": 30,
   "metadata": {
    "collapsed": false,
    "deletable": true,
    "editable": true
   },
   "outputs": [
    {
     "name": "stdout",
     "output_type": "stream",
     "text": [
      "\rProgress: 0.0% ... Training loss: 1.144 ... Validation loss: 1.472"
     ]
    },
    {
     "name": "stdout",
     "output_type": "stream",
     "text": [
      "\rProgress: 0.1% ... Training loss: 0.954 ... Validation loss: 1.404"
     ]
    },
    {
     "name": "stdout",
     "output_type": "stream",
     "text": [
      "\rProgress: 0.2% ... Training loss: 0.917 ... Validation loss: 1.394"
     ]
    },
    {
     "name": "stdout",
     "output_type": "stream",
     "text": [
      "\rProgress: 0.3% ... Training loss: 0.880 ... Validation loss: 1.411"
     ]
    },
    {
     "name": "stdout",
     "output_type": "stream",
     "text": [
      "\rProgress: 0.4% ... Training loss: 0.814 ... Validation loss: 1.254"
     ]
    },
    {
     "name": "stdout",
     "output_type": "stream",
     "text": [
      "\rProgress: 0.5% ... Training loss: 0.773 ... Validation loss: 1.307"
     ]
    },
    {
     "name": "stdout",
     "output_type": "stream",
     "text": [
      "\rProgress: 0.6% ... Training loss: 0.727 ... Validation loss: 1.065"
     ]
    },
    {
     "name": "stdout",
     "output_type": "stream",
     "text": [
      "\rProgress: 0.7% ... Training loss: 0.653 ... Validation loss: 1.079"
     ]
    },
    {
     "name": "stdout",
     "output_type": "stream",
     "text": [
      "\rProgress: 0.8% ... Training loss: 0.628 ... Validation loss: 1.082"
     ]
    },
    {
     "name": "stdout",
     "output_type": "stream",
     "text": [
      "\rProgress: 0.9% ... Training loss: 0.635 ... Validation loss: 0.888"
     ]
    },
    {
     "name": "stdout",
     "output_type": "stream",
     "text": [
      "\rProgress: 1.0% ... Training loss: 0.678 ... Validation loss: 1.167"
     ]
    },
    {
     "name": "stdout",
     "output_type": "stream",
     "text": [
      "\rProgress: 1.1% ... Training loss: 0.571 ... Validation loss: 0.879"
     ]
    },
    {
     "name": "stdout",
     "output_type": "stream",
     "text": [
      "\rProgress: 1.2% ... Training loss: 0.561 ... Validation loss: 0.905"
     ]
    },
    {
     "name": "stdout",
     "output_type": "stream",
     "text": [
      "\rProgress: 1.3% ... Training loss: 0.786 ... Validation loss: 0.821"
     ]
    },
    {
     "name": "stdout",
     "output_type": "stream",
     "text": [
      "\rProgress: 1.4% ... Training loss: 0.783 ... Validation loss: 1.235"
     ]
    },
    {
     "name": "stdout",
     "output_type": "stream",
     "text": [
      "\rProgress: 1.5% ... Training loss: 0.576 ... Validation loss: 0.851"
     ]
    },
    {
     "name": "stdout",
     "output_type": "stream",
     "text": [
      "\rProgress: 1.6% ... Training loss: 0.512 ... Validation loss: 0.833"
     ]
    },
    {
     "name": "stdout",
     "output_type": "stream",
     "text": [
      "\rProgress: 1.7% ... Training loss: 0.516 ... Validation loss: 0.837"
     ]
    },
    {
     "name": "stdout",
     "output_type": "stream",
     "text": [
      "\rProgress: 1.8% ... Training loss: 0.554 ... Validation loss: 0.766"
     ]
    },
    {
     "name": "stdout",
     "output_type": "stream",
     "text": [
      "\rProgress: 1.9% ... Training loss: 0.594 ... Validation loss: 0.951"
     ]
    },
    {
     "name": "stdout",
     "output_type": "stream",
     "text": [
      "\rProgress: 2.0% ... Training loss: 0.452 ... Validation loss: 0.747"
     ]
    },
    {
     "name": "stdout",
     "output_type": "stream",
     "text": [
      "\rProgress: 2.1% ... Training loss: 0.430 ... Validation loss: 0.713"
     ]
    },
    {
     "name": "stdout",
     "output_type": "stream",
     "text": [
      "\rProgress: 2.2% ... Training loss: 0.430 ... Validation loss: 0.689"
     ]
    },
    {
     "name": "stdout",
     "output_type": "stream",
     "text": [
      "\rProgress: 2.3% ... Training loss: 0.461 ... Validation loss: 0.749"
     ]
    },
    {
     "name": "stdout",
     "output_type": "stream",
     "text": [
      "\rProgress: 2.4% ... Training loss: 0.473 ... Validation loss: 0.670"
     ]
    },
    {
     "name": "stdout",
     "output_type": "stream",
     "text": [
      "\rProgress: 2.5% ... Training loss: 0.611 ... Validation loss: 0.830"
     ]
    },
    {
     "name": "stdout",
     "output_type": "stream",
     "text": [
      "\rProgress: 2.6% ... Training loss: 0.434 ... Validation loss: 0.667"
     ]
    },
    {
     "name": "stdout",
     "output_type": "stream",
     "text": [
      "\rProgress: 2.7% ... Training loss: 0.447 ... Validation loss: 0.694"
     ]
    },
    {
     "name": "stdout",
     "output_type": "stream",
     "text": [
      "\rProgress: 2.8% ... Training loss: 0.621 ... Validation loss: 0.699"
     ]
    },
    {
     "name": "stdout",
     "output_type": "stream",
     "text": [
      "\rProgress: 2.9% ... Training loss: 0.424 ... Validation loss: 0.672"
     ]
    },
    {
     "name": "stdout",
     "output_type": "stream",
     "text": [
      "\rProgress: 3.0% ... Training loss: 0.397 ... Validation loss: 0.590"
     ]
    },
    {
     "name": "stdout",
     "output_type": "stream",
     "text": [
      "\rProgress: 3.1% ... Training loss: 0.368 ... Validation loss: 0.595"
     ]
    },
    {
     "name": "stdout",
     "output_type": "stream",
     "text": [
      "\rProgress: 3.2% ... Training loss: 0.361 ... Validation loss: 0.621"
     ]
    },
    {
     "name": "stdout",
     "output_type": "stream",
     "text": [
      "\rProgress: 3.3% ... Training loss: 0.342 ... Validation loss: 0.558"
     ]
    },
    {
     "name": "stdout",
     "output_type": "stream",
     "text": [
      "\rProgress: 3.4% ... Training loss: 0.352 ... Validation loss: 0.602"
     ]
    },
    {
     "name": "stdout",
     "output_type": "stream",
     "text": [
      "\rProgress: 3.5% ... Training loss: 0.451 ... Validation loss: 0.702"
     ]
    },
    {
     "name": "stdout",
     "output_type": "stream",
     "text": [
      "\rProgress: 3.6% ... Training loss: 0.498 ... Validation loss: 0.598"
     ]
    },
    {
     "name": "stdout",
     "output_type": "stream",
     "text": [
      "\rProgress: 3.7% ... Training loss: 0.799 ... Validation loss: 0.837"
     ]
    },
    {
     "name": "stdout",
     "output_type": "stream",
     "text": [
      "\rProgress: 3.8% ... Training loss: 0.581 ... Validation loss: 0.889"
     ]
    },
    {
     "name": "stdout",
     "output_type": "stream",
     "text": [
      "\rProgress: 3.9% ... Training loss: 0.431 ... Validation loss: 0.622"
     ]
    },
    {
     "name": "stdout",
     "output_type": "stream",
     "text": [
      "\rProgress: 4.0% ... Training loss: 0.373 ... Validation loss: 0.595"
     ]
    },
    {
     "name": "stdout",
     "output_type": "stream",
     "text": [
      "\rProgress: 4.1% ... Training loss: 0.348 ... Validation loss: 0.547"
     ]
    },
    {
     "name": "stdout",
     "output_type": "stream",
     "text": [
      "\rProgress: 4.2% ... Training loss: 0.330 ... Validation loss: 0.570"
     ]
    },
    {
     "name": "stdout",
     "output_type": "stream",
     "text": [
      "\rProgress: 4.3% ... Training loss: 0.335 ... Validation loss: 0.513"
     ]
    },
    {
     "name": "stdout",
     "output_type": "stream",
     "text": [
      "\rProgress: 4.4% ... Training loss: 0.336 ... Validation loss: 0.563"
     ]
    },
    {
     "name": "stdout",
     "output_type": "stream",
     "text": [
      "\rProgress: 4.5% ... Training loss: 0.321 ... Validation loss: 0.479"
     ]
    },
    {
     "name": "stdout",
     "output_type": "stream",
     "text": [
      "\rProgress: 4.6% ... Training loss: 0.378 ... Validation loss: 0.591"
     ]
    },
    {
     "name": "stdout",
     "output_type": "stream",
     "text": [
      "\rProgress: 4.7% ... Training loss: 0.474 ... Validation loss: 0.526"
     ]
    },
    {
     "name": "stdout",
     "output_type": "stream",
     "text": [
      "\rProgress: 4.8% ... Training loss: 0.361 ... Validation loss: 0.639"
     ]
    },
    {
     "name": "stdout",
     "output_type": "stream",
     "text": [
      "\rProgress: 4.9% ... Training loss: 0.322 ... Validation loss: 0.507"
     ]
    },
    {
     "name": "stdout",
     "output_type": "stream",
     "text": [
      "\rProgress: 5.0% ... Training loss: 0.299 ... Validation loss: 0.512"
     ]
    },
    {
     "name": "stdout",
     "output_type": "stream",
     "text": [
      "\rProgress: 5.1% ... Training loss: 0.319 ... Validation loss: 0.561"
     ]
    },
    {
     "name": "stdout",
     "output_type": "stream",
     "text": [
      "\rProgress: 5.2% ... Training loss: 0.326 ... Validation loss: 0.508"
     ]
    },
    {
     "name": "stdout",
     "output_type": "stream",
     "text": [
      "\rProgress: 5.3% ... Training loss: 0.304 ... Validation loss: 0.520"
     ]
    },
    {
     "name": "stdout",
     "output_type": "stream",
     "text": [
      "\rProgress: 5.4% ... Training loss: 0.308 ... Validation loss: 0.496"
     ]
    },
    {
     "name": "stdout",
     "output_type": "stream",
     "text": [
      "\rProgress: 5.5% ... Training loss: 0.370 ... Validation loss: 0.538"
     ]
    },
    {
     "name": "stdout",
     "output_type": "stream",
     "text": [
      "\rProgress: 5.6% ... Training loss: 0.355 ... Validation loss: 0.529"
     ]
    },
    {
     "name": "stdout",
     "output_type": "stream",
     "text": [
      "\rProgress: 5.7% ... Training loss: 0.312 ... Validation loss: 0.489"
     ]
    },
    {
     "name": "stdout",
     "output_type": "stream",
     "text": [
      "\rProgress: 5.8% ... Training loss: 0.340 ... Validation loss: 0.525"
     ]
    },
    {
     "name": "stdout",
     "output_type": "stream",
     "text": [
      "\rProgress: 5.9% ... Training loss: 0.457 ... Validation loss: 0.566"
     ]
    },
    {
     "name": "stdout",
     "output_type": "stream",
     "text": [
      "\rProgress: 6.0% ... Training loss: 0.371 ... Validation loss: 0.559"
     ]
    },
    {
     "name": "stdout",
     "output_type": "stream",
     "text": [
      "\rProgress: 6.1% ... Training loss: 0.301 ... Validation loss: 0.471"
     ]
    },
    {
     "name": "stdout",
     "output_type": "stream",
     "text": [
      "\rProgress: 6.2% ... Training loss: 0.279 ... Validation loss: 0.454"
     ]
    },
    {
     "name": "stdout",
     "output_type": "stream",
     "text": [
      "\rProgress: 6.3% ... Training loss: 0.269 ... Validation loss: 0.452"
     ]
    },
    {
     "name": "stdout",
     "output_type": "stream",
     "text": [
      "\rProgress: 6.4% ... Training loss: 0.273 ... Validation loss: 0.485"
     ]
    },
    {
     "name": "stdout",
     "output_type": "stream",
     "text": [
      "\rProgress: 6.5% ... Training loss: 0.295 ... Validation loss: 0.476"
     ]
    },
    {
     "name": "stdout",
     "output_type": "stream",
     "text": [
      "\rProgress: 6.6% ... Training loss: 0.295 ... Validation loss: 0.456"
     ]
    },
    {
     "name": "stdout",
     "output_type": "stream",
     "text": [
      "\rProgress: 6.7% ... Training loss: 0.332 ... Validation loss: 0.494"
     ]
    },
    {
     "name": "stdout",
     "output_type": "stream",
     "text": [
      "\rProgress: 6.8% ... Training loss: 0.350 ... Validation loss: 0.576"
     ]
    },
    {
     "name": "stdout",
     "output_type": "stream",
     "text": [
      "\rProgress: 6.9% ... Training loss: 0.311 ... Validation loss: 0.502"
     ]
    },
    {
     "name": "stdout",
     "output_type": "stream",
     "text": [
      "\rProgress: 7.0% ... Training loss: 0.272 ... Validation loss: 0.450"
     ]
    },
    {
     "name": "stdout",
     "output_type": "stream",
     "text": [
      "\rProgress: 7.1% ... Training loss: 0.299 ... Validation loss: 0.500"
     ]
    },
    {
     "name": "stdout",
     "output_type": "stream",
     "text": [
      "\rProgress: 7.2% ... Training loss: 0.255 ... Validation loss: 0.463"
     ]
    },
    {
     "name": "stdout",
     "output_type": "stream",
     "text": [
      "\rProgress: 7.3% ... Training loss: 0.253 ... Validation loss: 0.440"
     ]
    },
    {
     "name": "stdout",
     "output_type": "stream",
     "text": [
      "\rProgress: 7.4% ... Training loss: 0.241 ... Validation loss: 0.444"
     ]
    },
    {
     "name": "stdout",
     "output_type": "stream",
     "text": [
      "\rProgress: 7.5% ... Training loss: 0.267 ... Validation loss: 0.489"
     ]
    },
    {
     "name": "stdout",
     "output_type": "stream",
     "text": [
      "\rProgress: 7.6% ... Training loss: 0.252 ... Validation loss: 0.456"
     ]
    },
    {
     "name": "stdout",
     "output_type": "stream",
     "text": [
      "\rProgress: 7.7% ... Training loss: 0.242 ... Validation loss: 0.441"
     ]
    },
    {
     "name": "stdout",
     "output_type": "stream",
     "text": [
      "\rProgress: 7.8% ... Training loss: 0.238 ... Validation loss: 0.415"
     ]
    },
    {
     "name": "stdout",
     "output_type": "stream",
     "text": [
      "\rProgress: 7.9% ... Training loss: 0.279 ... Validation loss: 0.470"
     ]
    },
    {
     "name": "stdout",
     "output_type": "stream",
     "text": [
      "\rProgress: 8.0% ... Training loss: 0.299 ... Validation loss: 0.471"
     ]
    },
    {
     "name": "stdout",
     "output_type": "stream",
     "text": [
      "\rProgress: 8.1% ... Training loss: 0.358 ... Validation loss: 0.486"
     ]
    },
    {
     "name": "stdout",
     "output_type": "stream",
     "text": [
      "\rProgress: 8.2% ... Training loss: 0.257 ... Validation loss: 0.411"
     ]
    },
    {
     "name": "stdout",
     "output_type": "stream",
     "text": [
      "\rProgress: 8.3% ... Training loss: 0.239 ... Validation loss: 0.430"
     ]
    },
    {
     "name": "stdout",
     "output_type": "stream",
     "text": [
      "\rProgress: 8.4% ... Training loss: 0.251 ... Validation loss: 0.446"
     ]
    },
    {
     "name": "stdout",
     "output_type": "stream",
     "text": [
      "\rProgress: 8.5% ... Training loss: 0.385 ... Validation loss: 0.548"
     ]
    },
    {
     "name": "stdout",
     "output_type": "stream",
     "text": [
      "\rProgress: 8.6% ... Training loss: 0.277 ... Validation loss: 0.455"
     ]
    },
    {
     "name": "stdout",
     "output_type": "stream",
     "text": [
      "\rProgress: 8.7% ... Training loss: 0.228 ... Validation loss: 0.390"
     ]
    },
    {
     "name": "stdout",
     "output_type": "stream",
     "text": [
      "\rProgress: 8.8% ... Training loss: 0.226 ... Validation loss: 0.387"
     ]
    },
    {
     "name": "stdout",
     "output_type": "stream",
     "text": [
      "\rProgress: 8.9% ... Training loss: 0.211 ... Validation loss: 0.397"
     ]
    },
    {
     "name": "stdout",
     "output_type": "stream",
     "text": [
      "\rProgress: 9.0% ... Training loss: 0.244 ... Validation loss: 0.424"
     ]
    },
    {
     "name": "stdout",
     "output_type": "stream",
     "text": [
      "\rProgress: 9.1% ... Training loss: 0.227 ... Validation loss: 0.398"
     ]
    },
    {
     "name": "stdout",
     "output_type": "stream",
     "text": [
      "\rProgress: 9.2% ... Training loss: 0.263 ... Validation loss: 0.434"
     ]
    },
    {
     "name": "stdout",
     "output_type": "stream",
     "text": [
      "\rProgress: 9.3% ... Training loss: 0.244 ... Validation loss: 0.412"
     ]
    },
    {
     "name": "stdout",
     "output_type": "stream",
     "text": [
      "\rProgress: 9.4% ... Training loss: 0.226 ... Validation loss: 0.395"
     ]
    },
    {
     "name": "stdout",
     "output_type": "stream",
     "text": [
      "\rProgress: 9.5% ... Training loss: 0.207 ... Validation loss: 0.357"
     ]
    },
    {
     "name": "stdout",
     "output_type": "stream",
     "text": [
      "\rProgress: 9.6% ... Training loss: 0.259 ... Validation loss: 0.388"
     ]
    },
    {
     "name": "stdout",
     "output_type": "stream",
     "text": [
      "\rProgress: 9.7% ... Training loss: 0.359 ... Validation loss: 0.449"
     ]
    },
    {
     "name": "stdout",
     "output_type": "stream",
     "text": [
      "\rProgress: 9.8% ... Training loss: 0.305 ... Validation loss: 0.503"
     ]
    },
    {
     "name": "stdout",
     "output_type": "stream",
     "text": [
      "\rProgress: 9.9% ... Training loss: 0.219 ... Validation loss: 0.365"
     ]
    },
    {
     "name": "stdout",
     "output_type": "stream",
     "text": [
      "\rProgress: 10.0% ... Training loss: 0.208 ... Validation loss: 0.361"
     ]
    },
    {
     "name": "stdout",
     "output_type": "stream",
     "text": [
      "\rProgress: 10.1% ... Training loss: 0.199 ... Validation loss: 0.359"
     ]
    },
    {
     "name": "stdout",
     "output_type": "stream",
     "text": [
      "\rProgress: 10.2% ... Training loss: 0.203 ... Validation loss: 0.368"
     ]
    },
    {
     "name": "stdout",
     "output_type": "stream",
     "text": [
      "\rProgress: 10.3% ... Training loss: 0.227 ... Validation loss: 0.358"
     ]
    },
    {
     "name": "stdout",
     "output_type": "stream",
     "text": [
      "\rProgress: 10.4% ... Training loss: 0.203 ... Validation loss: 0.352"
     ]
    },
    {
     "name": "stdout",
     "output_type": "stream",
     "text": [
      "\rProgress: 10.5% ... Training loss: 0.194 ... Validation loss: 0.334"
     ]
    },
    {
     "name": "stdout",
     "output_type": "stream",
     "text": [
      "\rProgress: 10.6% ... Training loss: 0.196 ... Validation loss: 0.342"
     ]
    },
    {
     "name": "stdout",
     "output_type": "stream",
     "text": [
      "\rProgress: 10.7% ... Training loss: 0.200 ... Validation loss: 0.333"
     ]
    },
    {
     "name": "stdout",
     "output_type": "stream",
     "text": [
      "\rProgress: 10.8% ... Training loss: 0.192 ... Validation loss: 0.338"
     ]
    },
    {
     "name": "stdout",
     "output_type": "stream",
     "text": [
      "\rProgress: 10.9% ... Training loss: 0.190 ... Validation loss: 0.334"
     ]
    },
    {
     "name": "stdout",
     "output_type": "stream",
     "text": [
      "\rProgress: 11.0% ... Training loss: 0.187 ... Validation loss: 0.331"
     ]
    },
    {
     "name": "stdout",
     "output_type": "stream",
     "text": [
      "\rProgress: 11.1% ... Training loss: 0.200 ... Validation loss: 0.357"
     ]
    },
    {
     "name": "stdout",
     "output_type": "stream",
     "text": [
      "\rProgress: 11.2% ... Training loss: 0.189 ... Validation loss: 0.337"
     ]
    },
    {
     "name": "stdout",
     "output_type": "stream",
     "text": [
      "\rProgress: 11.3% ... Training loss: 0.202 ... Validation loss: 0.344"
     ]
    },
    {
     "name": "stdout",
     "output_type": "stream",
     "text": [
      "\rProgress: 11.4% ... Training loss: 0.187 ... Validation loss: 0.336"
     ]
    },
    {
     "name": "stdout",
     "output_type": "stream",
     "text": [
      "\rProgress: 11.5% ... Training loss: 0.195 ... Validation loss: 0.339"
     ]
    },
    {
     "name": "stdout",
     "output_type": "stream",
     "text": [
      "\rProgress: 11.6% ... Training loss: 0.186 ... Validation loss: 0.331"
     ]
    },
    {
     "name": "stdout",
     "output_type": "stream",
     "text": [
      "\rProgress: 11.7% ... Training loss: 0.187 ... Validation loss: 0.341"
     ]
    },
    {
     "name": "stdout",
     "output_type": "stream",
     "text": [
      "\rProgress: 11.8% ... Training loss: 0.177 ... Validation loss: 0.322"
     ]
    },
    {
     "name": "stdout",
     "output_type": "stream",
     "text": [
      "\rProgress: 11.9% ... Training loss: 0.176 ... Validation loss: 0.316"
     ]
    },
    {
     "name": "stdout",
     "output_type": "stream",
     "text": [
      "\rProgress: 12.0% ... Training loss: 0.176 ... Validation loss: 0.321"
     ]
    },
    {
     "name": "stdout",
     "output_type": "stream",
     "text": [
      "\rProgress: 12.1% ... Training loss: 0.177 ... Validation loss: 0.324"
     ]
    },
    {
     "name": "stdout",
     "output_type": "stream",
     "text": [
      "\rProgress: 12.2% ... Training loss: 0.173 ... Validation loss: 0.325"
     ]
    },
    {
     "name": "stdout",
     "output_type": "stream",
     "text": [
      "\rProgress: 12.3% ... Training loss: 0.174 ... Validation loss: 0.330"
     ]
    },
    {
     "name": "stdout",
     "output_type": "stream",
     "text": [
      "\rProgress: 12.4% ... Training loss: 0.172 ... Validation loss: 0.320"
     ]
    },
    {
     "name": "stdout",
     "output_type": "stream",
     "text": [
      "\rProgress: 12.5% ... Training loss: 0.173 ... Validation loss: 0.319"
     ]
    },
    {
     "name": "stdout",
     "output_type": "stream",
     "text": [
      "\rProgress: 12.6% ... Training loss: 0.183 ... Validation loss: 0.319"
     ]
    },
    {
     "name": "stdout",
     "output_type": "stream",
     "text": [
      "\rProgress: 12.7% ... Training loss: 0.209 ... Validation loss: 0.358"
     ]
    },
    {
     "name": "stdout",
     "output_type": "stream",
     "text": [
      "\rProgress: 12.8% ... Training loss: 0.218 ... Validation loss: 0.329"
     ]
    },
    {
     "name": "stdout",
     "output_type": "stream",
     "text": [
      "\rProgress: 12.9% ... Training loss: 0.181 ... Validation loss: 0.350"
     ]
    },
    {
     "name": "stdout",
     "output_type": "stream",
     "text": [
      "\rProgress: 13.0% ... Training loss: 0.174 ... Validation loss: 0.352"
     ]
    },
    {
     "name": "stdout",
     "output_type": "stream",
     "text": [
      "\rProgress: 13.1% ... Training loss: 0.167 ... Validation loss: 0.319"
     ]
    },
    {
     "name": "stdout",
     "output_type": "stream",
     "text": [
      "\rProgress: 13.2% ... Training loss: 0.190 ... Validation loss: 0.323"
     ]
    },
    {
     "name": "stdout",
     "output_type": "stream",
     "text": [
      "\rProgress: 13.3% ... Training loss: 0.175 ... Validation loss: 0.335"
     ]
    },
    {
     "name": "stdout",
     "output_type": "stream",
     "text": [
      "\rProgress: 13.4% ... Training loss: 0.173 ... Validation loss: 0.304"
     ]
    },
    {
     "name": "stdout",
     "output_type": "stream",
     "text": [
      "\rProgress: 13.5% ... Training loss: 0.178 ... Validation loss: 0.323"
     ]
    },
    {
     "name": "stdout",
     "output_type": "stream",
     "text": [
      "\rProgress: 13.6% ... Training loss: 0.181 ... Validation loss: 0.326"
     ]
    },
    {
     "name": "stdout",
     "output_type": "stream",
     "text": [
      "\rProgress: 13.7% ... Training loss: 0.166 ... Validation loss: 0.295"
     ]
    },
    {
     "name": "stdout",
     "output_type": "stream",
     "text": [
      "\rProgress: 13.8% ... Training loss: 0.166 ... Validation loss: 0.331"
     ]
    },
    {
     "name": "stdout",
     "output_type": "stream",
     "text": [
      "\rProgress: 13.9% ... Training loss: 0.166 ... Validation loss: 0.308"
     ]
    },
    {
     "name": "stdout",
     "output_type": "stream",
     "text": [
      "\rProgress: 14.0% ... Training loss: 0.168 ... Validation loss: 0.308"
     ]
    },
    {
     "name": "stdout",
     "output_type": "stream",
     "text": [
      "\rProgress: 14.1% ... Training loss: 0.171 ... Validation loss: 0.304"
     ]
    },
    {
     "name": "stdout",
     "output_type": "stream",
     "text": [
      "\rProgress: 14.2% ... Training loss: 0.157 ... Validation loss: 0.325"
     ]
    },
    {
     "name": "stdout",
     "output_type": "stream",
     "text": [
      "\rProgress: 14.3% ... Training loss: 0.157 ... Validation loss: 0.293"
     ]
    },
    {
     "name": "stdout",
     "output_type": "stream",
     "text": [
      "\rProgress: 14.4% ... Training loss: 0.157 ... Validation loss: 0.312"
     ]
    },
    {
     "name": "stdout",
     "output_type": "stream",
     "text": [
      "\rProgress: 14.5% ... Training loss: 0.236 ... Validation loss: 0.309"
     ]
    },
    {
     "name": "stdout",
     "output_type": "stream",
     "text": [
      "\rProgress: 14.6% ... Training loss: 0.170 ... Validation loss: 0.298"
     ]
    },
    {
     "name": "stdout",
     "output_type": "stream",
     "text": [
      "\rProgress: 14.7% ... Training loss: 0.164 ... Validation loss: 0.293"
     ]
    },
    {
     "name": "stdout",
     "output_type": "stream",
     "text": [
      "\rProgress: 14.8% ... Training loss: 0.161 ... Validation loss: 0.321"
     ]
    },
    {
     "name": "stdout",
     "output_type": "stream",
     "text": [
      "\rProgress: 14.9% ... Training loss: 0.172 ... Validation loss: 0.291"
     ]
    },
    {
     "name": "stdout",
     "output_type": "stream",
     "text": [
      "\rProgress: 15.0% ... Training loss: 0.157 ... Validation loss: 0.285"
     ]
    },
    {
     "name": "stdout",
     "output_type": "stream",
     "text": [
      "\rProgress: 15.1% ... Training loss: 0.180 ... Validation loss: 0.297"
     ]
    },
    {
     "name": "stdout",
     "output_type": "stream",
     "text": [
      "\rProgress: 15.2% ... Training loss: 0.230 ... Validation loss: 0.343"
     ]
    },
    {
     "name": "stdout",
     "output_type": "stream",
     "text": [
      "\rProgress: 15.3% ... Training loss: 0.275 ... Validation loss: 0.319"
     ]
    },
    {
     "name": "stdout",
     "output_type": "stream",
     "text": [
      "\rProgress: 15.4% ... Training loss: 0.278 ... Validation loss: 0.367"
     ]
    },
    {
     "name": "stdout",
     "output_type": "stream",
     "text": [
      "\rProgress: 15.5% ... Training loss: 0.352 ... Validation loss: 0.457"
     ]
    },
    {
     "name": "stdout",
     "output_type": "stream",
     "text": [
      "\rProgress: 15.6% ... Training loss: 0.185 ... Validation loss: 0.324"
     ]
    },
    {
     "name": "stdout",
     "output_type": "stream",
     "text": [
      "\rProgress: 15.7% ... Training loss: 0.178 ... Validation loss: 0.305"
     ]
    },
    {
     "name": "stdout",
     "output_type": "stream",
     "text": [
      "\rProgress: 15.8% ... Training loss: 0.160 ... Validation loss: 0.310"
     ]
    },
    {
     "name": "stdout",
     "output_type": "stream",
     "text": [
      "\rProgress: 15.9% ... Training loss: 0.159 ... Validation loss: 0.292"
     ]
    },
    {
     "name": "stdout",
     "output_type": "stream",
     "text": [
      "\rProgress: 16.0% ... Training loss: 0.156 ... Validation loss: 0.299"
     ]
    },
    {
     "name": "stdout",
     "output_type": "stream",
     "text": [
      "\rProgress: 16.1% ... Training loss: 0.162 ... Validation loss: 0.291"
     ]
    },
    {
     "name": "stdout",
     "output_type": "stream",
     "text": [
      "\rProgress: 16.2% ... Training loss: 0.149 ... Validation loss: 0.289"
     ]
    },
    {
     "name": "stdout",
     "output_type": "stream",
     "text": [
      "\rProgress: 16.3% ... Training loss: 0.150 ... Validation loss: 0.289"
     ]
    },
    {
     "name": "stdout",
     "output_type": "stream",
     "text": [
      "\rProgress: 16.4% ... Training loss: 0.148 ... Validation loss: 0.294"
     ]
    },
    {
     "name": "stdout",
     "output_type": "stream",
     "text": [
      "\rProgress: 16.5% ... Training loss: 0.147 ... Validation loss: 0.283"
     ]
    },
    {
     "name": "stdout",
     "output_type": "stream",
     "text": [
      "\rProgress: 16.6% ... Training loss: 0.146 ... Validation loss: 0.290"
     ]
    },
    {
     "name": "stdout",
     "output_type": "stream",
     "text": [
      "\rProgress: 16.7% ... Training loss: 0.153 ... Validation loss: 0.290"
     ]
    },
    {
     "name": "stdout",
     "output_type": "stream",
     "text": [
      "\rProgress: 16.8% ... Training loss: 0.150 ... Validation loss: 0.280"
     ]
    },
    {
     "name": "stdout",
     "output_type": "stream",
     "text": [
      "\rProgress: 16.9% ... Training loss: 0.147 ... Validation loss: 0.279"
     ]
    },
    {
     "name": "stdout",
     "output_type": "stream",
     "text": [
      "\rProgress: 17.0% ... Training loss: 0.142 ... Validation loss: 0.271"
     ]
    },
    {
     "name": "stdout",
     "output_type": "stream",
     "text": [
      "\rProgress: 17.1% ... Training loss: 0.143 ... Validation loss: 0.273"
     ]
    },
    {
     "name": "stdout",
     "output_type": "stream",
     "text": [
      "\rProgress: 17.2% ... Training loss: 0.143 ... Validation loss: 0.260"
     ]
    },
    {
     "name": "stdout",
     "output_type": "stream",
     "text": [
      "\rProgress: 17.3% ... Training loss: 0.160 ... Validation loss: 0.275"
     ]
    },
    {
     "name": "stdout",
     "output_type": "stream",
     "text": [
      "\rProgress: 17.4% ... Training loss: 0.146 ... Validation loss: 0.278"
     ]
    },
    {
     "name": "stdout",
     "output_type": "stream",
     "text": [
      "\rProgress: 17.5% ... Training loss: 0.136 ... Validation loss: 0.265"
     ]
    },
    {
     "name": "stdout",
     "output_type": "stream",
     "text": [
      "\rProgress: 17.6% ... Training loss: 0.139 ... Validation loss: 0.281"
     ]
    },
    {
     "name": "stdout",
     "output_type": "stream",
     "text": [
      "\rProgress: 17.7% ... Training loss: 0.139 ... Validation loss: 0.277"
     ]
    },
    {
     "name": "stdout",
     "output_type": "stream",
     "text": [
      "\rProgress: 17.8% ... Training loss: 0.135 ... Validation loss: 0.263"
     ]
    },
    {
     "name": "stdout",
     "output_type": "stream",
     "text": [
      "\rProgress: 17.9% ... Training loss: 0.138 ... Validation loss: 0.303"
     ]
    },
    {
     "name": "stdout",
     "output_type": "stream",
     "text": [
      "\rProgress: 18.0% ... Training loss: 0.136 ... Validation loss: 0.265"
     ]
    },
    {
     "name": "stdout",
     "output_type": "stream",
     "text": [
      "\rProgress: 18.1% ... Training loss: 0.138 ... Validation loss: 0.251"
     ]
    },
    {
     "name": "stdout",
     "output_type": "stream",
     "text": [
      "\rProgress: 18.2% ... Training loss: 0.136 ... Validation loss: 0.250"
     ]
    },
    {
     "name": "stdout",
     "output_type": "stream",
     "text": [
      "\rProgress: 18.3% ... Training loss: 0.146 ... Validation loss: 0.259"
     ]
    },
    {
     "name": "stdout",
     "output_type": "stream",
     "text": [
      "\rProgress: 18.4% ... Training loss: 0.162 ... Validation loss: 0.259"
     ]
    },
    {
     "name": "stdout",
     "output_type": "stream",
     "text": [
      "\rProgress: 18.5% ... Training loss: 0.157 ... Validation loss: 0.276"
     ]
    },
    {
     "name": "stdout",
     "output_type": "stream",
     "text": [
      "\rProgress: 18.6% ... Training loss: 0.138 ... Validation loss: 0.249"
     ]
    },
    {
     "name": "stdout",
     "output_type": "stream",
     "text": [
      "\rProgress: 18.7% ... Training loss: 0.134 ... Validation loss: 0.259"
     ]
    },
    {
     "name": "stdout",
     "output_type": "stream",
     "text": [
      "\rProgress: 18.8% ... Training loss: 0.136 ... Validation loss: 0.264"
     ]
    },
    {
     "name": "stdout",
     "output_type": "stream",
     "text": [
      "\rProgress: 18.9% ... Training loss: 0.157 ... Validation loss: 0.293"
     ]
    },
    {
     "name": "stdout",
     "output_type": "stream",
     "text": [
      "\rProgress: 19.0% ... Training loss: 0.149 ... Validation loss: 0.253"
     ]
    },
    {
     "name": "stdout",
     "output_type": "stream",
     "text": [
      "\rProgress: 19.1% ... Training loss: 0.178 ... Validation loss: 0.285"
     ]
    },
    {
     "name": "stdout",
     "output_type": "stream",
     "text": [
      "\rProgress: 19.2% ... Training loss: 0.290 ... Validation loss: 0.275"
     ]
    },
    {
     "name": "stdout",
     "output_type": "stream",
     "text": [
      "\rProgress: 19.3% ... Training loss: 0.211 ... Validation loss: 0.338"
     ]
    },
    {
     "name": "stdout",
     "output_type": "stream",
     "text": [
      "\rProgress: 19.4% ... Training loss: 0.169 ... Validation loss: 0.271"
     ]
    },
    {
     "name": "stdout",
     "output_type": "stream",
     "text": [
      "\rProgress: 19.5% ... Training loss: 0.149 ... Validation loss: 0.266"
     ]
    },
    {
     "name": "stdout",
     "output_type": "stream",
     "text": [
      "\rProgress: 19.6% ... Training loss: 0.152 ... Validation loss: 0.259"
     ]
    },
    {
     "name": "stdout",
     "output_type": "stream",
     "text": [
      "\rProgress: 19.7% ... Training loss: 0.137 ... Validation loss: 0.247"
     ]
    },
    {
     "name": "stdout",
     "output_type": "stream",
     "text": [
      "\rProgress: 19.8% ... Training loss: 0.148 ... Validation loss: 0.268"
     ]
    },
    {
     "name": "stdout",
     "output_type": "stream",
     "text": [
      "\rProgress: 19.9% ... Training loss: 0.133 ... Validation loss: 0.247"
     ]
    },
    {
     "name": "stdout",
     "output_type": "stream",
     "text": [
      "\rProgress: 20.0% ... Training loss: 0.145 ... Validation loss: 0.247"
     ]
    },
    {
     "name": "stdout",
     "output_type": "stream",
     "text": [
      "\rProgress: 20.1% ... Training loss: 0.126 ... Validation loss: 0.235"
     ]
    },
    {
     "name": "stdout",
     "output_type": "stream",
     "text": [
      "\rProgress: 20.2% ... Training loss: 0.159 ... Validation loss: 0.274"
     ]
    },
    {
     "name": "stdout",
     "output_type": "stream",
     "text": [
      "\rProgress: 20.3% ... Training loss: 0.131 ... Validation loss: 0.248"
     ]
    },
    {
     "name": "stdout",
     "output_type": "stream",
     "text": [
      "\rProgress: 20.4% ... Training loss: 0.131 ... Validation loss: 0.243"
     ]
    },
    {
     "name": "stdout",
     "output_type": "stream",
     "text": [
      "\rProgress: 20.5% ... Training loss: 0.125 ... Validation loss: 0.246"
     ]
    },
    {
     "name": "stdout",
     "output_type": "stream",
     "text": [
      "\rProgress: 20.6% ... Training loss: 0.137 ... Validation loss: 0.268"
     ]
    },
    {
     "name": "stdout",
     "output_type": "stream",
     "text": [
      "\rProgress: 20.7% ... Training loss: 0.123 ... Validation loss: 0.249"
     ]
    },
    {
     "name": "stdout",
     "output_type": "stream",
     "text": [
      "\rProgress: 20.8% ... Training loss: 0.127 ... Validation loss: 0.284"
     ]
    },
    {
     "name": "stdout",
     "output_type": "stream",
     "text": [
      "\rProgress: 20.9% ... Training loss: 0.119 ... Validation loss: 0.253"
     ]
    },
    {
     "name": "stdout",
     "output_type": "stream",
     "text": [
      "\rProgress: 21.0% ... Training loss: 0.136 ... Validation loss: 0.272"
     ]
    },
    {
     "name": "stdout",
     "output_type": "stream",
     "text": [
      "\rProgress: 21.1% ... Training loss: 0.118 ... Validation loss: 0.237"
     ]
    },
    {
     "name": "stdout",
     "output_type": "stream",
     "text": [
      "\rProgress: 21.2% ... Training loss: 0.125 ... Validation loss: 0.251"
     ]
    },
    {
     "name": "stdout",
     "output_type": "stream",
     "text": [
      "\rProgress: 21.3% ... Training loss: 0.162 ... Validation loss: 0.236"
     ]
    },
    {
     "name": "stdout",
     "output_type": "stream",
     "text": [
      "\rProgress: 21.4% ... Training loss: 0.150 ... Validation loss: 0.297"
     ]
    },
    {
     "name": "stdout",
     "output_type": "stream",
     "text": [
      "\rProgress: 21.5% ... Training loss: 0.152 ... Validation loss: 0.252"
     ]
    },
    {
     "name": "stdout",
     "output_type": "stream",
     "text": [
      "\rProgress: 21.6% ... Training loss: 0.129 ... Validation loss: 0.241"
     ]
    },
    {
     "name": "stdout",
     "output_type": "stream",
     "text": [
      "\rProgress: 21.7% ... Training loss: 0.121 ... Validation loss: 0.241"
     ]
    },
    {
     "name": "stdout",
     "output_type": "stream",
     "text": [
      "\rProgress: 21.8% ... Training loss: 0.116 ... Validation loss: 0.234"
     ]
    },
    {
     "name": "stdout",
     "output_type": "stream",
     "text": [
      "\rProgress: 21.9% ... Training loss: 0.117 ... Validation loss: 0.250"
     ]
    },
    {
     "name": "stdout",
     "output_type": "stream",
     "text": [
      "\rProgress: 22.0% ... Training loss: 0.167 ... Validation loss: 0.261"
     ]
    },
    {
     "name": "stdout",
     "output_type": "stream",
     "text": [
      "\rProgress: 22.1% ... Training loss: 0.212 ... Validation loss: 0.244"
     ]
    },
    {
     "name": "stdout",
     "output_type": "stream",
     "text": [
      "\rProgress: 22.2% ... Training loss: 0.255 ... Validation loss: 0.323"
     ]
    },
    {
     "name": "stdout",
     "output_type": "stream",
     "text": [
      "\rProgress: 22.3% ... Training loss: 0.250 ... Validation loss: 0.274"
     ]
    },
    {
     "name": "stdout",
     "output_type": "stream",
     "text": [
      "\rProgress: 22.4% ... Training loss: 0.190 ... Validation loss: 0.297"
     ]
    },
    {
     "name": "stdout",
     "output_type": "stream",
     "text": [
      "\rProgress: 22.5% ... Training loss: 0.210 ... Validation loss: 0.238"
     ]
    },
    {
     "name": "stdout",
     "output_type": "stream",
     "text": [
      "\rProgress: 22.6% ... Training loss: 0.140 ... Validation loss: 0.267"
     ]
    },
    {
     "name": "stdout",
     "output_type": "stream",
     "text": [
      "\rProgress: 22.7% ... Training loss: 0.121 ... Validation loss: 0.229"
     ]
    },
    {
     "name": "stdout",
     "output_type": "stream",
     "text": [
      "\rProgress: 22.8% ... Training loss: 0.121 ... Validation loss: 0.238"
     ]
    },
    {
     "name": "stdout",
     "output_type": "stream",
     "text": [
      "\rProgress: 22.9% ... Training loss: 0.118 ... Validation loss: 0.218"
     ]
    },
    {
     "name": "stdout",
     "output_type": "stream",
     "text": [
      "\rProgress: 23.0% ... Training loss: 0.112 ... Validation loss: 0.210"
     ]
    },
    {
     "name": "stdout",
     "output_type": "stream",
     "text": [
      "\rProgress: 23.1% ... Training loss: 0.118 ... Validation loss: 0.213"
     ]
    },
    {
     "name": "stdout",
     "output_type": "stream",
     "text": [
      "\rProgress: 23.2% ... Training loss: 0.119 ... Validation loss: 0.209"
     ]
    },
    {
     "name": "stdout",
     "output_type": "stream",
     "text": [
      "\rProgress: 23.3% ... Training loss: 0.147 ... Validation loss: 0.254"
     ]
    },
    {
     "name": "stdout",
     "output_type": "stream",
     "text": [
      "\rProgress: 23.4% ... Training loss: 0.127 ... Validation loss: 0.225"
     ]
    },
    {
     "name": "stdout",
     "output_type": "stream",
     "text": [
      "\rProgress: 23.5% ... Training loss: 0.159 ... Validation loss: 0.250"
     ]
    },
    {
     "name": "stdout",
     "output_type": "stream",
     "text": [
      "\rProgress: 23.6% ... Training loss: 0.128 ... Validation loss: 0.235"
     ]
    },
    {
     "name": "stdout",
     "output_type": "stream",
     "text": [
      "\rProgress: 23.7% ... Training loss: 0.125 ... Validation loss: 0.247"
     ]
    },
    {
     "name": "stdout",
     "output_type": "stream",
     "text": [
      "\rProgress: 23.8% ... Training loss: 0.115 ... Validation loss: 0.219"
     ]
    },
    {
     "name": "stdout",
     "output_type": "stream",
     "text": [
      "\rProgress: 23.9% ... Training loss: 0.137 ... Validation loss: 0.220"
     ]
    },
    {
     "name": "stdout",
     "output_type": "stream",
     "text": [
      "\rProgress: 24.0% ... Training loss: 0.133 ... Validation loss: 0.215"
     ]
    },
    {
     "name": "stdout",
     "output_type": "stream",
     "text": [
      "\rProgress: 24.1% ... Training loss: 0.109 ... Validation loss: 0.209"
     ]
    },
    {
     "name": "stdout",
     "output_type": "stream",
     "text": [
      "\rProgress: 24.2% ... Training loss: 0.108 ... Validation loss: 0.210"
     ]
    },
    {
     "name": "stdout",
     "output_type": "stream",
     "text": [
      "\rProgress: 24.3% ... Training loss: 0.107 ... Validation loss: 0.214"
     ]
    },
    {
     "name": "stdout",
     "output_type": "stream",
     "text": [
      "\rProgress: 24.4% ... Training loss: 0.116 ... Validation loss: 0.216"
     ]
    },
    {
     "name": "stdout",
     "output_type": "stream",
     "text": [
      "\rProgress: 24.5% ... Training loss: 0.113 ... Validation loss: 0.201"
     ]
    },
    {
     "name": "stdout",
     "output_type": "stream",
     "text": [
      "\rProgress: 24.6% ... Training loss: 0.106 ... Validation loss: 0.204"
     ]
    },
    {
     "name": "stdout",
     "output_type": "stream",
     "text": [
      "\rProgress: 24.7% ... Training loss: 0.117 ... Validation loss: 0.249"
     ]
    },
    {
     "name": "stdout",
     "output_type": "stream",
     "text": [
      "\rProgress: 24.8% ... Training loss: 0.128 ... Validation loss: 0.198"
     ]
    },
    {
     "name": "stdout",
     "output_type": "stream",
     "text": [
      "\rProgress: 24.9% ... Training loss: 0.212 ... Validation loss: 0.336"
     ]
    },
    {
     "name": "stdout",
     "output_type": "stream",
     "text": [
      "\rProgress: 25.0% ... Training loss: 0.163 ... Validation loss: 0.232"
     ]
    },
    {
     "name": "stdout",
     "output_type": "stream",
     "text": [
      "\rProgress: 25.1% ... Training loss: 0.209 ... Validation loss: 0.358"
     ]
    },
    {
     "name": "stdout",
     "output_type": "stream",
     "text": [
      "\rProgress: 25.2% ... Training loss: 0.118 ... Validation loss: 0.200"
     ]
    },
    {
     "name": "stdout",
     "output_type": "stream",
     "text": [
      "\rProgress: 25.3% ... Training loss: 0.111 ... Validation loss: 0.216"
     ]
    },
    {
     "name": "stdout",
     "output_type": "stream",
     "text": [
      "\rProgress: 25.4% ... Training loss: 0.106 ... Validation loss: 0.198"
     ]
    },
    {
     "name": "stdout",
     "output_type": "stream",
     "text": [
      "\rProgress: 25.5% ... Training loss: 0.103 ... Validation loss: 0.209"
     ]
    },
    {
     "name": "stdout",
     "output_type": "stream",
     "text": [
      "\rProgress: 25.6% ... Training loss: 0.106 ... Validation loss: 0.202"
     ]
    },
    {
     "name": "stdout",
     "output_type": "stream",
     "text": [
      "\rProgress: 25.7% ... Training loss: 0.101 ... Validation loss: 0.217"
     ]
    },
    {
     "name": "stdout",
     "output_type": "stream",
     "text": [
      "\rProgress: 25.8% ... Training loss: 0.123 ... Validation loss: 0.234"
     ]
    },
    {
     "name": "stdout",
     "output_type": "stream",
     "text": [
      "\rProgress: 25.9% ... Training loss: 0.107 ... Validation loss: 0.192"
     ]
    },
    {
     "name": "stdout",
     "output_type": "stream",
     "text": [
      "\rProgress: 26.0% ... Training loss: 0.105 ... Validation loss: 0.205"
     ]
    },
    {
     "name": "stdout",
     "output_type": "stream",
     "text": [
      "\rProgress: 26.1% ... Training loss: 0.103 ... Validation loss: 0.215"
     ]
    },
    {
     "name": "stdout",
     "output_type": "stream",
     "text": [
      "\rProgress: 26.2% ... Training loss: 0.109 ... Validation loss: 0.211"
     ]
    },
    {
     "name": "stdout",
     "output_type": "stream",
     "text": [
      "\rProgress: 26.3% ... Training loss: 0.120 ... Validation loss: 0.198"
     ]
    },
    {
     "name": "stdout",
     "output_type": "stream",
     "text": [
      "\rProgress: 26.4% ... Training loss: 0.111 ... Validation loss: 0.223"
     ]
    },
    {
     "name": "stdout",
     "output_type": "stream",
     "text": [
      "\rProgress: 26.5% ... Training loss: 0.102 ... Validation loss: 0.199"
     ]
    },
    {
     "name": "stdout",
     "output_type": "stream",
     "text": [
      "\rProgress: 26.6% ... Training loss: 0.097 ... Validation loss: 0.198"
     ]
    },
    {
     "name": "stdout",
     "output_type": "stream",
     "text": [
      "\rProgress: 26.7% ... Training loss: 0.099 ... Validation loss: 0.211"
     ]
    },
    {
     "name": "stdout",
     "output_type": "stream",
     "text": [
      "\rProgress: 26.8% ... Training loss: 0.098 ... Validation loss: 0.207"
     ]
    },
    {
     "name": "stdout",
     "output_type": "stream",
     "text": [
      "\rProgress: 26.9% ... Training loss: 0.094 ... Validation loss: 0.197"
     ]
    },
    {
     "name": "stdout",
     "output_type": "stream",
     "text": [
      "\rProgress: 27.0% ... Training loss: 0.094 ... Validation loss: 0.211"
     ]
    },
    {
     "name": "stdout",
     "output_type": "stream",
     "text": [
      "\rProgress: 27.1% ... Training loss: 0.094 ... Validation loss: 0.204"
     ]
    },
    {
     "name": "stdout",
     "output_type": "stream",
     "text": [
      "\rProgress: 27.2% ... Training loss: 0.092 ... Validation loss: 0.207"
     ]
    },
    {
     "name": "stdout",
     "output_type": "stream",
     "text": [
      "\rProgress: 27.3% ... Training loss: 0.094 ... Validation loss: 0.201"
     ]
    },
    {
     "name": "stdout",
     "output_type": "stream",
     "text": [
      "\rProgress: 27.4% ... Training loss: 0.092 ... Validation loss: 0.198"
     ]
    },
    {
     "name": "stdout",
     "output_type": "stream",
     "text": [
      "\rProgress: 27.5% ... Training loss: 0.096 ... Validation loss: 0.209"
     ]
    },
    {
     "name": "stdout",
     "output_type": "stream",
     "text": [
      "\rProgress: 27.6% ... Training loss: 0.096 ... Validation loss: 0.187"
     ]
    },
    {
     "name": "stdout",
     "output_type": "stream",
     "text": [
      "\rProgress: 27.7% ... Training loss: 0.094 ... Validation loss: 0.186"
     ]
    },
    {
     "name": "stdout",
     "output_type": "stream",
     "text": [
      "\rProgress: 27.8% ... Training loss: 0.098 ... Validation loss: 0.192"
     ]
    },
    {
     "name": "stdout",
     "output_type": "stream",
     "text": [
      "\rProgress: 27.9% ... Training loss: 0.137 ... Validation loss: 0.257"
     ]
    },
    {
     "name": "stdout",
     "output_type": "stream",
     "text": [
      "\rProgress: 28.0% ... Training loss: 0.192 ... Validation loss: 0.217"
     ]
    },
    {
     "name": "stdout",
     "output_type": "stream",
     "text": [
      "\rProgress: 28.1% ... Training loss: 0.160 ... Validation loss: 0.302"
     ]
    },
    {
     "name": "stdout",
     "output_type": "stream",
     "text": [
      "\rProgress: 28.2% ... Training loss: 0.143 ... Validation loss: 0.199"
     ]
    },
    {
     "name": "stdout",
     "output_type": "stream",
     "text": [
      "\rProgress: 28.3% ... Training loss: 0.113 ... Validation loss: 0.233"
     ]
    },
    {
     "name": "stdout",
     "output_type": "stream",
     "text": [
      "\rProgress: 28.4% ... Training loss: 0.092 ... Validation loss: 0.188"
     ]
    },
    {
     "name": "stdout",
     "output_type": "stream",
     "text": [
      "\rProgress: 28.5% ... Training loss: 0.097 ... Validation loss: 0.187"
     ]
    },
    {
     "name": "stdout",
     "output_type": "stream",
     "text": [
      "\rProgress: 28.6% ... Training loss: 0.095 ... Validation loss: 0.184"
     ]
    },
    {
     "name": "stdout",
     "output_type": "stream",
     "text": [
      "\rProgress: 28.7% ... Training loss: 0.097 ... Validation loss: 0.182"
     ]
    },
    {
     "name": "stdout",
     "output_type": "stream",
     "text": [
      "\rProgress: 28.8% ... Training loss: 0.105 ... Validation loss: 0.224"
     ]
    },
    {
     "name": "stdout",
     "output_type": "stream",
     "text": [
      "\rProgress: 28.9% ... Training loss: 0.095 ... Validation loss: 0.181"
     ]
    },
    {
     "name": "stdout",
     "output_type": "stream",
     "text": [
      "\rProgress: 29.0% ... Training loss: 0.097 ... Validation loss: 0.181"
     ]
    },
    {
     "name": "stdout",
     "output_type": "stream",
     "text": [
      "\rProgress: 29.1% ... Training loss: 0.095 ... Validation loss: 0.177"
     ]
    },
    {
     "name": "stdout",
     "output_type": "stream",
     "text": [
      "\rProgress: 29.2% ... Training loss: 0.088 ... Validation loss: 0.188"
     ]
    },
    {
     "name": "stdout",
     "output_type": "stream",
     "text": [
      "\rProgress: 29.3% ... Training loss: 0.094 ... Validation loss: 0.197"
     ]
    },
    {
     "name": "stdout",
     "output_type": "stream",
     "text": [
      "\rProgress: 29.4% ... Training loss: 0.118 ... Validation loss: 0.184"
     ]
    },
    {
     "name": "stdout",
     "output_type": "stream",
     "text": [
      "\rProgress: 29.5% ... Training loss: 0.118 ... Validation loss: 0.237"
     ]
    },
    {
     "name": "stdout",
     "output_type": "stream",
     "text": [
      "\rProgress: 29.6% ... Training loss: 0.161 ... Validation loss: 0.206"
     ]
    },
    {
     "name": "stdout",
     "output_type": "stream",
     "text": [
      "\rProgress: 29.7% ... Training loss: 0.280 ... Validation loss: 0.315"
     ]
    },
    {
     "name": "stdout",
     "output_type": "stream",
     "text": [
      "\rProgress: 29.8% ... Training loss: 0.392 ... Validation loss: 0.405"
     ]
    },
    {
     "name": "stdout",
     "output_type": "stream",
     "text": [
      "\rProgress: 29.9% ... Training loss: 0.257 ... Validation loss: 0.258"
     ]
    },
    {
     "name": "stdout",
     "output_type": "stream",
     "text": [
      "\rProgress: 30.0% ... Training loss: 0.149 ... Validation loss: 0.216"
     ]
    },
    {
     "name": "stdout",
     "output_type": "stream",
     "text": [
      "\rProgress: 30.1% ... Training loss: 0.112 ... Validation loss: 0.199"
     ]
    },
    {
     "name": "stdout",
     "output_type": "stream",
     "text": [
      "\rProgress: 30.2% ... Training loss: 0.104 ... Validation loss: 0.199"
     ]
    },
    {
     "name": "stdout",
     "output_type": "stream",
     "text": [
      "\rProgress: 30.3% ... Training loss: 0.103 ... Validation loss: 0.202"
     ]
    },
    {
     "name": "stdout",
     "output_type": "stream",
     "text": [
      "\rProgress: 30.4% ... Training loss: 0.103 ... Validation loss: 0.204"
     ]
    },
    {
     "name": "stdout",
     "output_type": "stream",
     "text": [
      "\rProgress: 30.5% ... Training loss: 0.105 ... Validation loss: 0.191"
     ]
    },
    {
     "name": "stdout",
     "output_type": "stream",
     "text": [
      "\rProgress: 30.6% ... Training loss: 0.093 ... Validation loss: 0.185"
     ]
    },
    {
     "name": "stdout",
     "output_type": "stream",
     "text": [
      "\rProgress: 30.7% ... Training loss: 0.103 ... Validation loss: 0.190"
     ]
    },
    {
     "name": "stdout",
     "output_type": "stream",
     "text": [
      "\rProgress: 30.8% ... Training loss: 0.104 ... Validation loss: 0.218"
     ]
    },
    {
     "name": "stdout",
     "output_type": "stream",
     "text": [
      "\rProgress: 30.9% ... Training loss: 0.102 ... Validation loss: 0.208"
     ]
    },
    {
     "name": "stdout",
     "output_type": "stream",
     "text": [
      "\rProgress: 31.0% ... Training loss: 0.090 ... Validation loss: 0.190"
     ]
    },
    {
     "name": "stdout",
     "output_type": "stream",
     "text": [
      "\rProgress: 31.1% ... Training loss: 0.098 ... Validation loss: 0.194"
     ]
    },
    {
     "name": "stdout",
     "output_type": "stream",
     "text": [
      "\rProgress: 31.2% ... Training loss: 0.089 ... Validation loss: 0.190"
     ]
    },
    {
     "name": "stdout",
     "output_type": "stream",
     "text": [
      "\rProgress: 31.3% ... Training loss: 0.089 ... Validation loss: 0.188"
     ]
    },
    {
     "name": "stdout",
     "output_type": "stream",
     "text": [
      "\rProgress: 31.4% ... Training loss: 0.088 ... Validation loss: 0.193"
     ]
    },
    {
     "name": "stdout",
     "output_type": "stream",
     "text": [
      "\rProgress: 31.5% ... Training loss: 0.087 ... Validation loss: 0.189"
     ]
    },
    {
     "name": "stdout",
     "output_type": "stream",
     "text": [
      "\rProgress: 31.6% ... Training loss: 0.103 ... Validation loss: 0.200"
     ]
    },
    {
     "name": "stdout",
     "output_type": "stream",
     "text": [
      "\rProgress: 31.7% ... Training loss: 0.095 ... Validation loss: 0.196"
     ]
    },
    {
     "name": "stdout",
     "output_type": "stream",
     "text": [
      "\rProgress: 31.8% ... Training loss: 0.098 ... Validation loss: 0.189"
     ]
    },
    {
     "name": "stdout",
     "output_type": "stream",
     "text": [
      "\rProgress: 31.9% ... Training loss: 0.107 ... Validation loss: 0.203"
     ]
    },
    {
     "name": "stdout",
     "output_type": "stream",
     "text": [
      "\rProgress: 32.0% ... Training loss: 0.087 ... Validation loss: 0.179"
     ]
    },
    {
     "name": "stdout",
     "output_type": "stream",
     "text": [
      "\rProgress: 32.1% ... Training loss: 0.087 ... Validation loss: 0.183"
     ]
    },
    {
     "name": "stdout",
     "output_type": "stream",
     "text": [
      "\rProgress: 32.2% ... Training loss: 0.091 ... Validation loss: 0.176"
     ]
    },
    {
     "name": "stdout",
     "output_type": "stream",
     "text": [
      "\rProgress: 32.3% ... Training loss: 0.087 ... Validation loss: 0.171"
     ]
    },
    {
     "name": "stdout",
     "output_type": "stream",
     "text": [
      "\rProgress: 32.4% ... Training loss: 0.085 ... Validation loss: 0.176"
     ]
    },
    {
     "name": "stdout",
     "output_type": "stream",
     "text": [
      "\rProgress: 32.5% ... Training loss: 0.092 ... Validation loss: 0.202"
     ]
    },
    {
     "name": "stdout",
     "output_type": "stream",
     "text": [
      "\rProgress: 32.6% ... Training loss: 0.117 ... Validation loss: 0.176"
     ]
    },
    {
     "name": "stdout",
     "output_type": "stream",
     "text": [
      "\rProgress: 32.7% ... Training loss: 0.108 ... Validation loss: 0.225"
     ]
    },
    {
     "name": "stdout",
     "output_type": "stream",
     "text": [
      "\rProgress: 32.8% ... Training loss: 0.089 ... Validation loss: 0.171"
     ]
    },
    {
     "name": "stdout",
     "output_type": "stream",
     "text": [
      "\rProgress: 32.9% ... Training loss: 0.092 ... Validation loss: 0.175"
     ]
    },
    {
     "name": "stdout",
     "output_type": "stream",
     "text": [
      "\rProgress: 33.0% ... Training loss: 0.092 ... Validation loss: 0.177"
     ]
    },
    {
     "name": "stdout",
     "output_type": "stream",
     "text": [
      "\rProgress: 33.1% ... Training loss: 0.088 ... Validation loss: 0.174"
     ]
    },
    {
     "name": "stdout",
     "output_type": "stream",
     "text": [
      "\rProgress: 33.2% ... Training loss: 0.090 ... Validation loss: 0.176"
     ]
    },
    {
     "name": "stdout",
     "output_type": "stream",
     "text": [
      "\rProgress: 33.3% ... Training loss: 0.099 ... Validation loss: 0.209"
     ]
    },
    {
     "name": "stdout",
     "output_type": "stream",
     "text": [
      "\rProgress: 33.4% ... Training loss: 0.083 ... Validation loss: 0.170"
     ]
    },
    {
     "name": "stdout",
     "output_type": "stream",
     "text": [
      "\rProgress: 33.5% ... Training loss: 0.086 ... Validation loss: 0.181"
     ]
    },
    {
     "name": "stdout",
     "output_type": "stream",
     "text": [
      "\rProgress: 33.6% ... Training loss: 0.092 ... Validation loss: 0.167"
     ]
    },
    {
     "name": "stdout",
     "output_type": "stream",
     "text": [
      "\rProgress: 33.7% ... Training loss: 0.086 ... Validation loss: 0.177"
     ]
    },
    {
     "name": "stdout",
     "output_type": "stream",
     "text": [
      "\rProgress: 33.8% ... Training loss: 0.086 ... Validation loss: 0.165"
     ]
    },
    {
     "name": "stdout",
     "output_type": "stream",
     "text": [
      "\rProgress: 33.9% ... Training loss: 0.086 ... Validation loss: 0.177"
     ]
    },
    {
     "name": "stdout",
     "output_type": "stream",
     "text": [
      "\rProgress: 34.0% ... Training loss: 0.082 ... Validation loss: 0.173"
     ]
    },
    {
     "name": "stdout",
     "output_type": "stream",
     "text": [
      "\rProgress: 34.1% ... Training loss: 0.080 ... Validation loss: 0.165"
     ]
    },
    {
     "name": "stdout",
     "output_type": "stream",
     "text": [
      "\rProgress: 34.2% ... Training loss: 0.083 ... Validation loss: 0.163"
     ]
    },
    {
     "name": "stdout",
     "output_type": "stream",
     "text": [
      "\rProgress: 34.3% ... Training loss: 0.080 ... Validation loss: 0.179"
     ]
    },
    {
     "name": "stdout",
     "output_type": "stream",
     "text": [
      "\rProgress: 34.4% ... Training loss: 0.092 ... Validation loss: 0.197"
     ]
    },
    {
     "name": "stdout",
     "output_type": "stream",
     "text": [
      "\rProgress: 34.5% ... Training loss: 0.097 ... Validation loss: 0.161"
     ]
    },
    {
     "name": "stdout",
     "output_type": "stream",
     "text": [
      "\rProgress: 34.6% ... Training loss: 0.146 ... Validation loss: 0.235"
     ]
    },
    {
     "name": "stdout",
     "output_type": "stream",
     "text": [
      "\rProgress: 34.7% ... Training loss: 0.156 ... Validation loss: 0.226"
     ]
    },
    {
     "name": "stdout",
     "output_type": "stream",
     "text": [
      "\rProgress: 34.8% ... Training loss: 0.156 ... Validation loss: 0.234"
     ]
    },
    {
     "name": "stdout",
     "output_type": "stream",
     "text": [
      "\rProgress: 34.9% ... Training loss: 0.093 ... Validation loss: 0.186"
     ]
    },
    {
     "name": "stdout",
     "output_type": "stream",
     "text": [
      "\rProgress: 35.0% ... Training loss: 0.089 ... Validation loss: 0.176"
     ]
    },
    {
     "name": "stdout",
     "output_type": "stream",
     "text": [
      "\rProgress: 35.1% ... Training loss: 0.096 ... Validation loss: 0.198"
     ]
    },
    {
     "name": "stdout",
     "output_type": "stream",
     "text": [
      "\rProgress: 35.2% ... Training loss: 0.095 ... Validation loss: 0.178"
     ]
    },
    {
     "name": "stdout",
     "output_type": "stream",
     "text": [
      "\rProgress: 35.3% ... Training loss: 0.085 ... Validation loss: 0.186"
     ]
    },
    {
     "name": "stdout",
     "output_type": "stream",
     "text": [
      "\rProgress: 35.4% ... Training loss: 0.081 ... Validation loss: 0.180"
     ]
    },
    {
     "name": "stdout",
     "output_type": "stream",
     "text": [
      "\rProgress: 35.5% ... Training loss: 0.084 ... Validation loss: 0.194"
     ]
    },
    {
     "name": "stdout",
     "output_type": "stream",
     "text": [
      "\rProgress: 35.6% ... Training loss: 0.097 ... Validation loss: 0.176"
     ]
    },
    {
     "name": "stdout",
     "output_type": "stream",
     "text": [
      "\rProgress: 35.7% ... Training loss: 0.081 ... Validation loss: 0.171"
     ]
    },
    {
     "name": "stdout",
     "output_type": "stream",
     "text": [
      "\rProgress: 35.8% ... Training loss: 0.082 ... Validation loss: 0.171"
     ]
    },
    {
     "name": "stdout",
     "output_type": "stream",
     "text": [
      "\rProgress: 35.9% ... Training loss: 0.078 ... Validation loss: 0.169"
     ]
    },
    {
     "name": "stdout",
     "output_type": "stream",
     "text": [
      "\rProgress: 36.0% ... Training loss: 0.079 ... Validation loss: 0.180"
     ]
    },
    {
     "name": "stdout",
     "output_type": "stream",
     "text": [
      "\rProgress: 36.1% ... Training loss: 0.097 ... Validation loss: 0.216"
     ]
    },
    {
     "name": "stdout",
     "output_type": "stream",
     "text": [
      "\rProgress: 36.2% ... Training loss: 0.086 ... Validation loss: 0.191"
     ]
    },
    {
     "name": "stdout",
     "output_type": "stream",
     "text": [
      "\rProgress: 36.3% ... Training loss: 0.085 ... Validation loss: 0.186"
     ]
    },
    {
     "name": "stdout",
     "output_type": "stream",
     "text": [
      "\rProgress: 36.4% ... Training loss: 0.083 ... Validation loss: 0.181"
     ]
    },
    {
     "name": "stdout",
     "output_type": "stream",
     "text": [
      "\rProgress: 36.5% ... Training loss: 0.083 ... Validation loss: 0.166"
     ]
    },
    {
     "name": "stdout",
     "output_type": "stream",
     "text": [
      "\rProgress: 36.6% ... Training loss: 0.079 ... Validation loss: 0.176"
     ]
    },
    {
     "name": "stdout",
     "output_type": "stream",
     "text": [
      "\rProgress: 36.7% ... Training loss: 0.086 ... Validation loss: 0.199"
     ]
    },
    {
     "name": "stdout",
     "output_type": "stream",
     "text": [
      "\rProgress: 36.8% ... Training loss: 0.081 ... Validation loss: 0.171"
     ]
    },
    {
     "name": "stdout",
     "output_type": "stream",
     "text": [
      "\rProgress: 36.9% ... Training loss: 0.082 ... Validation loss: 0.172"
     ]
    },
    {
     "name": "stdout",
     "output_type": "stream",
     "text": [
      "\rProgress: 37.0% ... Training loss: 0.077 ... Validation loss: 0.171"
     ]
    },
    {
     "name": "stdout",
     "output_type": "stream",
     "text": [
      "\rProgress: 37.1% ... Training loss: 0.084 ... Validation loss: 0.168"
     ]
    },
    {
     "name": "stdout",
     "output_type": "stream",
     "text": [
      "\rProgress: 37.2% ... Training loss: 0.097 ... Validation loss: 0.179"
     ]
    },
    {
     "name": "stdout",
     "output_type": "stream",
     "text": [
      "\rProgress: 37.3% ... Training loss: 0.090 ... Validation loss: 0.169"
     ]
    },
    {
     "name": "stdout",
     "output_type": "stream",
     "text": [
      "\rProgress: 37.4% ... Training loss: 0.098 ... Validation loss: 0.197"
     ]
    },
    {
     "name": "stdout",
     "output_type": "stream",
     "text": [
      "\rProgress: 37.5% ... Training loss: 0.085 ... Validation loss: 0.176"
     ]
    },
    {
     "name": "stdout",
     "output_type": "stream",
     "text": [
      "\rProgress: 37.6% ... Training loss: 0.083 ... Validation loss: 0.171"
     ]
    },
    {
     "name": "stdout",
     "output_type": "stream",
     "text": [
      "\rProgress: 37.7% ... Training loss: 0.079 ... Validation loss: 0.161"
     ]
    },
    {
     "name": "stdout",
     "output_type": "stream",
     "text": [
      "\rProgress: 37.8% ... Training loss: 0.084 ... Validation loss: 0.158"
     ]
    },
    {
     "name": "stdout",
     "output_type": "stream",
     "text": [
      "\rProgress: 37.9% ... Training loss: 0.082 ... Validation loss: 0.174"
     ]
    },
    {
     "name": "stdout",
     "output_type": "stream",
     "text": [
      "\rProgress: 38.0% ... Training loss: 0.084 ... Validation loss: 0.164"
     ]
    },
    {
     "name": "stdout",
     "output_type": "stream",
     "text": [
      "\rProgress: 38.1% ... Training loss: 0.084 ... Validation loss: 0.176"
     ]
    },
    {
     "name": "stdout",
     "output_type": "stream",
     "text": [
      "\rProgress: 38.2% ... Training loss: 0.077 ... Validation loss: 0.165"
     ]
    },
    {
     "name": "stdout",
     "output_type": "stream",
     "text": [
      "\rProgress: 38.3% ... Training loss: 0.076 ... Validation loss: 0.166"
     ]
    },
    {
     "name": "stdout",
     "output_type": "stream",
     "text": [
      "\rProgress: 38.4% ... Training loss: 0.075 ... Validation loss: 0.167"
     ]
    },
    {
     "name": "stdout",
     "output_type": "stream",
     "text": [
      "\rProgress: 38.5% ... Training loss: 0.080 ... Validation loss: 0.167"
     ]
    },
    {
     "name": "stdout",
     "output_type": "stream",
     "text": [
      "\rProgress: 38.6% ... Training loss: 0.078 ... Validation loss: 0.157"
     ]
    },
    {
     "name": "stdout",
     "output_type": "stream",
     "text": [
      "\rProgress: 38.7% ... Training loss: 0.097 ... Validation loss: 0.177"
     ]
    },
    {
     "name": "stdout",
     "output_type": "stream",
     "text": [
      "\rProgress: 38.8% ... Training loss: 0.077 ... Validation loss: 0.176"
     ]
    },
    {
     "name": "stdout",
     "output_type": "stream",
     "text": [
      "\rProgress: 38.9% ... Training loss: 0.085 ... Validation loss: 0.171"
     ]
    },
    {
     "name": "stdout",
     "output_type": "stream",
     "text": [
      "\rProgress: 39.0% ... Training loss: 0.076 ... Validation loss: 0.176"
     ]
    },
    {
     "name": "stdout",
     "output_type": "stream",
     "text": [
      "\rProgress: 39.1% ... Training loss: 0.076 ... Validation loss: 0.172"
     ]
    },
    {
     "name": "stdout",
     "output_type": "stream",
     "text": [
      "\rProgress: 39.2% ... Training loss: 0.079 ... Validation loss: 0.163"
     ]
    },
    {
     "name": "stdout",
     "output_type": "stream",
     "text": [
      "\rProgress: 39.3% ... Training loss: 0.075 ... Validation loss: 0.165"
     ]
    },
    {
     "name": "stdout",
     "output_type": "stream",
     "text": [
      "\rProgress: 39.4% ... Training loss: 0.084 ... Validation loss: 0.184"
     ]
    },
    {
     "name": "stdout",
     "output_type": "stream",
     "text": [
      "\rProgress: 39.5% ... Training loss: 0.081 ... Validation loss: 0.164"
     ]
    },
    {
     "name": "stdout",
     "output_type": "stream",
     "text": [
      "\rProgress: 39.6% ... Training loss: 0.080 ... Validation loss: 0.171"
     ]
    },
    {
     "name": "stdout",
     "output_type": "stream",
     "text": [
      "\rProgress: 39.7% ... Training loss: 0.090 ... Validation loss: 0.172"
     ]
    },
    {
     "name": "stdout",
     "output_type": "stream",
     "text": [
      "\rProgress: 39.8% ... Training loss: 0.077 ... Validation loss: 0.176"
     ]
    },
    {
     "name": "stdout",
     "output_type": "stream",
     "text": [
      "\rProgress: 39.9% ... Training loss: 0.075 ... Validation loss: 0.164"
     ]
    },
    {
     "name": "stdout",
     "output_type": "stream",
     "text": [
      "\rProgress: 40.0% ... Training loss: 0.081 ... Validation loss: 0.174"
     ]
    },
    {
     "name": "stdout",
     "output_type": "stream",
     "text": [
      "\rProgress: 40.1% ... Training loss: 0.083 ... Validation loss: 0.173"
     ]
    },
    {
     "name": "stdout",
     "output_type": "stream",
     "text": [
      "\rProgress: 40.2% ... Training loss: 0.076 ... Validation loss: 0.167"
     ]
    },
    {
     "name": "stdout",
     "output_type": "stream",
     "text": [
      "\rProgress: 40.3% ... Training loss: 0.074 ... Validation loss: 0.166"
     ]
    },
    {
     "name": "stdout",
     "output_type": "stream",
     "text": [
      "\rProgress: 40.4% ... Training loss: 0.089 ... Validation loss: 0.158"
     ]
    },
    {
     "name": "stdout",
     "output_type": "stream",
     "text": [
      "\rProgress: 40.5% ... Training loss: 0.080 ... Validation loss: 0.168"
     ]
    },
    {
     "name": "stdout",
     "output_type": "stream",
     "text": [
      "\rProgress: 40.6% ... Training loss: 0.083 ... Validation loss: 0.161"
     ]
    },
    {
     "name": "stdout",
     "output_type": "stream",
     "text": [
      "\rProgress: 40.7% ... Training loss: 0.088 ... Validation loss: 0.175"
     ]
    },
    {
     "name": "stdout",
     "output_type": "stream",
     "text": [
      "\rProgress: 40.8% ... Training loss: 0.079 ... Validation loss: 0.168"
     ]
    },
    {
     "name": "stdout",
     "output_type": "stream",
     "text": [
      "\rProgress: 40.9% ... Training loss: 0.077 ... Validation loss: 0.175"
     ]
    },
    {
     "name": "stdout",
     "output_type": "stream",
     "text": [
      "\rProgress: 41.0% ... Training loss: 0.079 ... Validation loss: 0.165"
     ]
    },
    {
     "name": "stdout",
     "output_type": "stream",
     "text": [
      "\rProgress: 41.1% ... Training loss: 0.075 ... Validation loss: 0.157"
     ]
    },
    {
     "name": "stdout",
     "output_type": "stream",
     "text": [
      "\rProgress: 41.2% ... Training loss: 0.079 ... Validation loss: 0.175"
     ]
    },
    {
     "name": "stdout",
     "output_type": "stream",
     "text": [
      "\rProgress: 41.3% ... Training loss: 0.076 ... Validation loss: 0.162"
     ]
    },
    {
     "name": "stdout",
     "output_type": "stream",
     "text": [
      "\rProgress: 41.4% ... Training loss: 0.081 ... Validation loss: 0.193"
     ]
    },
    {
     "name": "stdout",
     "output_type": "stream",
     "text": [
      "\rProgress: 41.5% ... Training loss: 0.074 ... Validation loss: 0.166"
     ]
    },
    {
     "name": "stdout",
     "output_type": "stream",
     "text": [
      "\rProgress: 41.6% ... Training loss: 0.074 ... Validation loss: 0.174"
     ]
    },
    {
     "name": "stdout",
     "output_type": "stream",
     "text": [
      "\rProgress: 41.7% ... Training loss: 0.073 ... Validation loss: 0.163"
     ]
    },
    {
     "name": "stdout",
     "output_type": "stream",
     "text": [
      "\rProgress: 41.8% ... Training loss: 0.078 ... Validation loss: 0.166"
     ]
    },
    {
     "name": "stdout",
     "output_type": "stream",
     "text": [
      "\rProgress: 41.9% ... Training loss: 0.073 ... Validation loss: 0.161"
     ]
    },
    {
     "name": "stdout",
     "output_type": "stream",
     "text": [
      "\rProgress: 42.0% ... Training loss: 0.072 ... Validation loss: 0.166"
     ]
    },
    {
     "name": "stdout",
     "output_type": "stream",
     "text": [
      "\rProgress: 42.1% ... Training loss: 0.077 ... Validation loss: 0.186"
     ]
    },
    {
     "name": "stdout",
     "output_type": "stream",
     "text": [
      "\rProgress: 42.2% ... Training loss: 0.084 ... Validation loss: 0.163"
     ]
    },
    {
     "name": "stdout",
     "output_type": "stream",
     "text": [
      "\rProgress: 42.3% ... Training loss: 0.078 ... Validation loss: 0.164"
     ]
    },
    {
     "name": "stdout",
     "output_type": "stream",
     "text": [
      "\rProgress: 42.4% ... Training loss: 0.079 ... Validation loss: 0.156"
     ]
    },
    {
     "name": "stdout",
     "output_type": "stream",
     "text": [
      "\rProgress: 42.5% ... Training loss: 0.076 ... Validation loss: 0.164"
     ]
    },
    {
     "name": "stdout",
     "output_type": "stream",
     "text": [
      "\rProgress: 42.6% ... Training loss: 0.075 ... Validation loss: 0.156"
     ]
    },
    {
     "name": "stdout",
     "output_type": "stream",
     "text": [
      "\rProgress: 42.7% ... Training loss: 0.080 ... Validation loss: 0.178"
     ]
    },
    {
     "name": "stdout",
     "output_type": "stream",
     "text": [
      "\rProgress: 42.8% ... Training loss: 0.074 ... Validation loss: 0.152"
     ]
    },
    {
     "name": "stdout",
     "output_type": "stream",
     "text": [
      "\rProgress: 42.9% ... Training loss: 0.077 ... Validation loss: 0.159"
     ]
    },
    {
     "name": "stdout",
     "output_type": "stream",
     "text": [
      "\rProgress: 43.0% ... Training loss: 0.076 ... Validation loss: 0.181"
     ]
    },
    {
     "name": "stdout",
     "output_type": "stream",
     "text": [
      "\rProgress: 43.1% ... Training loss: 0.074 ... Validation loss: 0.151"
     ]
    },
    {
     "name": "stdout",
     "output_type": "stream",
     "text": [
      "\rProgress: 43.2% ... Training loss: 0.081 ... Validation loss: 0.178"
     ]
    },
    {
     "name": "stdout",
     "output_type": "stream",
     "text": [
      "\rProgress: 43.3% ... Training loss: 0.075 ... Validation loss: 0.160"
     ]
    },
    {
     "name": "stdout",
     "output_type": "stream",
     "text": [
      "\rProgress: 43.4% ... Training loss: 0.074 ... Validation loss: 0.167"
     ]
    },
    {
     "name": "stdout",
     "output_type": "stream",
     "text": [
      "\rProgress: 43.5% ... Training loss: 0.074 ... Validation loss: 0.156"
     ]
    },
    {
     "name": "stdout",
     "output_type": "stream",
     "text": [
      "\rProgress: 43.6% ... Training loss: 0.080 ... Validation loss: 0.195"
     ]
    },
    {
     "name": "stdout",
     "output_type": "stream",
     "text": [
      "\rProgress: 43.7% ... Training loss: 0.078 ... Validation loss: 0.172"
     ]
    },
    {
     "name": "stdout",
     "output_type": "stream",
     "text": [
      "\rProgress: 43.8% ... Training loss: 0.074 ... Validation loss: 0.167"
     ]
    },
    {
     "name": "stdout",
     "output_type": "stream",
     "text": [
      "\rProgress: 43.9% ... Training loss: 0.087 ... Validation loss: 0.158"
     ]
    },
    {
     "name": "stdout",
     "output_type": "stream",
     "text": [
      "\rProgress: 44.0% ... Training loss: 0.083 ... Validation loss: 0.169"
     ]
    },
    {
     "name": "stdout",
     "output_type": "stream",
     "text": [
      "\rProgress: 44.1% ... Training loss: 0.106 ... Validation loss: 0.153"
     ]
    },
    {
     "name": "stdout",
     "output_type": "stream",
     "text": [
      "\rProgress: 44.2% ... Training loss: 0.082 ... Validation loss: 0.186"
     ]
    },
    {
     "name": "stdout",
     "output_type": "stream",
     "text": [
      "\rProgress: 44.3% ... Training loss: 0.079 ... Validation loss: 0.146"
     ]
    },
    {
     "name": "stdout",
     "output_type": "stream",
     "text": [
      "\rProgress: 44.4% ... Training loss: 0.086 ... Validation loss: 0.185"
     ]
    },
    {
     "name": "stdout",
     "output_type": "stream",
     "text": [
      "\rProgress: 44.5% ... Training loss: 0.101 ... Validation loss: 0.147"
     ]
    },
    {
     "name": "stdout",
     "output_type": "stream",
     "text": [
      "\rProgress: 44.6% ... Training loss: 0.090 ... Validation loss: 0.200"
     ]
    },
    {
     "name": "stdout",
     "output_type": "stream",
     "text": [
      "\rProgress: 44.7% ... Training loss: 0.088 ... Validation loss: 0.161"
     ]
    },
    {
     "name": "stdout",
     "output_type": "stream",
     "text": [
      "\rProgress: 44.8% ... Training loss: 0.111 ... Validation loss: 0.198"
     ]
    },
    {
     "name": "stdout",
     "output_type": "stream",
     "text": [
      "\rProgress: 44.9% ... Training loss: 0.108 ... Validation loss: 0.176"
     ]
    },
    {
     "name": "stdout",
     "output_type": "stream",
     "text": [
      "\rProgress: 45.0% ... Training loss: 0.088 ... Validation loss: 0.173"
     ]
    },
    {
     "name": "stdout",
     "output_type": "stream",
     "text": [
      "\rProgress: 45.1% ... Training loss: 0.080 ... Validation loss: 0.156"
     ]
    },
    {
     "name": "stdout",
     "output_type": "stream",
     "text": [
      "\rProgress: 45.2% ... Training loss: 0.076 ... Validation loss: 0.160"
     ]
    },
    {
     "name": "stdout",
     "output_type": "stream",
     "text": [
      "\rProgress: 45.3% ... Training loss: 0.078 ... Validation loss: 0.169"
     ]
    },
    {
     "name": "stdout",
     "output_type": "stream",
     "text": [
      "\rProgress: 45.4% ... Training loss: 0.076 ... Validation loss: 0.169"
     ]
    },
    {
     "name": "stdout",
     "output_type": "stream",
     "text": [
      "\rProgress: 45.5% ... Training loss: 0.074 ... Validation loss: 0.165"
     ]
    },
    {
     "name": "stdout",
     "output_type": "stream",
     "text": [
      "\rProgress: 45.6% ... Training loss: 0.072 ... Validation loss: 0.157"
     ]
    },
    {
     "name": "stdout",
     "output_type": "stream",
     "text": [
      "\rProgress: 45.7% ... Training loss: 0.070 ... Validation loss: 0.153"
     ]
    },
    {
     "name": "stdout",
     "output_type": "stream",
     "text": [
      "\rProgress: 45.8% ... Training loss: 0.074 ... Validation loss: 0.155"
     ]
    },
    {
     "name": "stdout",
     "output_type": "stream",
     "text": [
      "\rProgress: 45.9% ... Training loss: 0.077 ... Validation loss: 0.167"
     ]
    },
    {
     "name": "stdout",
     "output_type": "stream",
     "text": [
      "\rProgress: 46.0% ... Training loss: 0.074 ... Validation loss: 0.156"
     ]
    },
    {
     "name": "stdout",
     "output_type": "stream",
     "text": [
      "\rProgress: 46.1% ... Training loss: 0.100 ... Validation loss: 0.206"
     ]
    },
    {
     "name": "stdout",
     "output_type": "stream",
     "text": [
      "\rProgress: 46.2% ... Training loss: 0.072 ... Validation loss: 0.156"
     ]
    },
    {
     "name": "stdout",
     "output_type": "stream",
     "text": [
      "\rProgress: 46.3% ... Training loss: 0.073 ... Validation loss: 0.152"
     ]
    },
    {
     "name": "stdout",
     "output_type": "stream",
     "text": [
      "\rProgress: 46.4% ... Training loss: 0.073 ... Validation loss: 0.169"
     ]
    },
    {
     "name": "stdout",
     "output_type": "stream",
     "text": [
      "\rProgress: 46.5% ... Training loss: 0.069 ... Validation loss: 0.159"
     ]
    },
    {
     "name": "stdout",
     "output_type": "stream",
     "text": [
      "\rProgress: 46.6% ... Training loss: 0.073 ... Validation loss: 0.164"
     ]
    },
    {
     "name": "stdout",
     "output_type": "stream",
     "text": [
      "\rProgress: 46.7% ... Training loss: 0.080 ... Validation loss: 0.152"
     ]
    },
    {
     "name": "stdout",
     "output_type": "stream",
     "text": [
      "\rProgress: 46.8% ... Training loss: 0.073 ... Validation loss: 0.159"
     ]
    },
    {
     "name": "stdout",
     "output_type": "stream",
     "text": [
      "\rProgress: 46.9% ... Training loss: 0.072 ... Validation loss: 0.166"
     ]
    },
    {
     "name": "stdout",
     "output_type": "stream",
     "text": [
      "\rProgress: 47.0% ... Training loss: 0.072 ... Validation loss: 0.182"
     ]
    },
    {
     "name": "stdout",
     "output_type": "stream",
     "text": [
      "\rProgress: 47.1% ... Training loss: 0.072 ... Validation loss: 0.177"
     ]
    },
    {
     "name": "stdout",
     "output_type": "stream",
     "text": [
      "\rProgress: 47.2% ... Training loss: 0.071 ... Validation loss: 0.169"
     ]
    },
    {
     "name": "stdout",
     "output_type": "stream",
     "text": [
      "\rProgress: 47.3% ... Training loss: 0.069 ... Validation loss: 0.162"
     ]
    },
    {
     "name": "stdout",
     "output_type": "stream",
     "text": [
      "\rProgress: 47.4% ... Training loss: 0.069 ... Validation loss: 0.157"
     ]
    },
    {
     "name": "stdout",
     "output_type": "stream",
     "text": [
      "\rProgress: 47.5% ... Training loss: 0.113 ... Validation loss: 0.158"
     ]
    },
    {
     "name": "stdout",
     "output_type": "stream",
     "text": [
      "\rProgress: 47.6% ... Training loss: 0.076 ... Validation loss: 0.190"
     ]
    },
    {
     "name": "stdout",
     "output_type": "stream",
     "text": [
      "\rProgress: 47.7% ... Training loss: 0.081 ... Validation loss: 0.150"
     ]
    },
    {
     "name": "stdout",
     "output_type": "stream",
     "text": [
      "\rProgress: 47.8% ... Training loss: 0.071 ... Validation loss: 0.167"
     ]
    },
    {
     "name": "stdout",
     "output_type": "stream",
     "text": [
      "\rProgress: 47.9% ... Training loss: 0.074 ... Validation loss: 0.176"
     ]
    },
    {
     "name": "stdout",
     "output_type": "stream",
     "text": [
      "\rProgress: 48.0% ... Training loss: 0.077 ... Validation loss: 0.156"
     ]
    },
    {
     "name": "stdout",
     "output_type": "stream",
     "text": [
      "\rProgress: 48.1% ... Training loss: 0.104 ... Validation loss: 0.242"
     ]
    },
    {
     "name": "stdout",
     "output_type": "stream",
     "text": [
      "\rProgress: 48.2% ... Training loss: 0.096 ... Validation loss: 0.158"
     ]
    },
    {
     "name": "stdout",
     "output_type": "stream",
     "text": [
      "\rProgress: 48.3% ... Training loss: 0.111 ... Validation loss: 0.224"
     ]
    },
    {
     "name": "stdout",
     "output_type": "stream",
     "text": [
      "\rProgress: 48.4% ... Training loss: 0.071 ... Validation loss: 0.164"
     ]
    },
    {
     "name": "stdout",
     "output_type": "stream",
     "text": [
      "\rProgress: 48.5% ... Training loss: 0.072 ... Validation loss: 0.173"
     ]
    },
    {
     "name": "stdout",
     "output_type": "stream",
     "text": [
      "\rProgress: 48.6% ... Training loss: 0.076 ... Validation loss: 0.163"
     ]
    },
    {
     "name": "stdout",
     "output_type": "stream",
     "text": [
      "\rProgress: 48.7% ... Training loss: 0.080 ... Validation loss: 0.216"
     ]
    },
    {
     "name": "stdout",
     "output_type": "stream",
     "text": [
      "\rProgress: 48.8% ... Training loss: 0.077 ... Validation loss: 0.169"
     ]
    },
    {
     "name": "stdout",
     "output_type": "stream",
     "text": [
      "\rProgress: 48.9% ... Training loss: 0.071 ... Validation loss: 0.199"
     ]
    },
    {
     "name": "stdout",
     "output_type": "stream",
     "text": [
      "\rProgress: 49.0% ... Training loss: 0.073 ... Validation loss: 0.185"
     ]
    },
    {
     "name": "stdout",
     "output_type": "stream",
     "text": [
      "\rProgress: 49.1% ... Training loss: 0.070 ... Validation loss: 0.169"
     ]
    },
    {
     "name": "stdout",
     "output_type": "stream",
     "text": [
      "\rProgress: 49.2% ... Training loss: 0.071 ... Validation loss: 0.183"
     ]
    },
    {
     "name": "stdout",
     "output_type": "stream",
     "text": [
      "\rProgress: 49.3% ... Training loss: 0.070 ... Validation loss: 0.177"
     ]
    },
    {
     "name": "stdout",
     "output_type": "stream",
     "text": [
      "\rProgress: 49.4% ... Training loss: 0.072 ... Validation loss: 0.202"
     ]
    },
    {
     "name": "stdout",
     "output_type": "stream",
     "text": [
      "\rProgress: 49.5% ... Training loss: 0.069 ... Validation loss: 0.174"
     ]
    },
    {
     "name": "stdout",
     "output_type": "stream",
     "text": [
      "\rProgress: 49.6% ... Training loss: 0.070 ... Validation loss: 0.183"
     ]
    },
    {
     "name": "stdout",
     "output_type": "stream",
     "text": [
      "\rProgress: 49.7% ... Training loss: 0.106 ... Validation loss: 0.161"
     ]
    },
    {
     "name": "stdout",
     "output_type": "stream",
     "text": [
      "\rProgress: 49.8% ... Training loss: 0.096 ... Validation loss: 0.237"
     ]
    },
    {
     "name": "stdout",
     "output_type": "stream",
     "text": [
      "\rProgress: 49.9% ... Training loss: 0.078 ... Validation loss: 0.153"
     ]
    },
    {
     "name": "stdout",
     "output_type": "stream",
     "text": [
      "\rProgress: 50.0% ... Training loss: 0.070 ... Validation loss: 0.167"
     ]
    },
    {
     "name": "stdout",
     "output_type": "stream",
     "text": [
      "\rProgress: 50.1% ... Training loss: 0.077 ... Validation loss: 0.171"
     ]
    },
    {
     "name": "stdout",
     "output_type": "stream",
     "text": [
      "\rProgress: 50.2% ... Training loss: 0.072 ... Validation loss: 0.200"
     ]
    },
    {
     "name": "stdout",
     "output_type": "stream",
     "text": [
      "\rProgress: 50.3% ... Training loss: 0.085 ... Validation loss: 0.162"
     ]
    },
    {
     "name": "stdout",
     "output_type": "stream",
     "text": [
      "\rProgress: 50.4% ... Training loss: 0.086 ... Validation loss: 0.207"
     ]
    },
    {
     "name": "stdout",
     "output_type": "stream",
     "text": [
      "\rProgress: 50.5% ... Training loss: 0.098 ... Validation loss: 0.152"
     ]
    },
    {
     "name": "stdout",
     "output_type": "stream",
     "text": [
      "\rProgress: 50.6% ... Training loss: 0.084 ... Validation loss: 0.186"
     ]
    },
    {
     "name": "stdout",
     "output_type": "stream",
     "text": [
      "\rProgress: 50.7% ... Training loss: 0.079 ... Validation loss: 0.164"
     ]
    },
    {
     "name": "stdout",
     "output_type": "stream",
     "text": [
      "\rProgress: 50.8% ... Training loss: 0.071 ... Validation loss: 0.162"
     ]
    },
    {
     "name": "stdout",
     "output_type": "stream",
     "text": [
      "\rProgress: 50.9% ... Training loss: 0.070 ... Validation loss: 0.180"
     ]
    },
    {
     "name": "stdout",
     "output_type": "stream",
     "text": [
      "\rProgress: 51.0% ... Training loss: 0.080 ... Validation loss: 0.203"
     ]
    },
    {
     "name": "stdout",
     "output_type": "stream",
     "text": [
      "\rProgress: 51.1% ... Training loss: 0.093 ... Validation loss: 0.162"
     ]
    },
    {
     "name": "stdout",
     "output_type": "stream",
     "text": [
      "\rProgress: 51.2% ... Training loss: 0.073 ... Validation loss: 0.194"
     ]
    },
    {
     "name": "stdout",
     "output_type": "stream",
     "text": [
      "\rProgress: 51.3% ... Training loss: 0.079 ... Validation loss: 0.156"
     ]
    },
    {
     "name": "stdout",
     "output_type": "stream",
     "text": [
      "\rProgress: 51.4% ... Training loss: 0.077 ... Validation loss: 0.168"
     ]
    },
    {
     "name": "stdout",
     "output_type": "stream",
     "text": [
      "\rProgress: 51.5% ... Training loss: 0.083 ... Validation loss: 0.200"
     ]
    },
    {
     "name": "stdout",
     "output_type": "stream",
     "text": [
      "\rProgress: 51.6% ... Training loss: 0.085 ... Validation loss: 0.154"
     ]
    },
    {
     "name": "stdout",
     "output_type": "stream",
     "text": [
      "\rProgress: 51.7% ... Training loss: 0.084 ... Validation loss: 0.201"
     ]
    },
    {
     "name": "stdout",
     "output_type": "stream",
     "text": [
      "\rProgress: 51.8% ... Training loss: 0.072 ... Validation loss: 0.157"
     ]
    },
    {
     "name": "stdout",
     "output_type": "stream",
     "text": [
      "\rProgress: 51.9% ... Training loss: 0.075 ... Validation loss: 0.209"
     ]
    },
    {
     "name": "stdout",
     "output_type": "stream",
     "text": [
      "\rProgress: 52.0% ... Training loss: 0.067 ... Validation loss: 0.157"
     ]
    },
    {
     "name": "stdout",
     "output_type": "stream",
     "text": [
      "\rProgress: 52.1% ... Training loss: 0.069 ... Validation loss: 0.177"
     ]
    },
    {
     "name": "stdout",
     "output_type": "stream",
     "text": [
      "\rProgress: 52.2% ... Training loss: 0.069 ... Validation loss: 0.161"
     ]
    },
    {
     "name": "stdout",
     "output_type": "stream",
     "text": [
      "\rProgress: 52.3% ... Training loss: 0.070 ... Validation loss: 0.176"
     ]
    },
    {
     "name": "stdout",
     "output_type": "stream",
     "text": [
      "\rProgress: 52.4% ... Training loss: 0.070 ... Validation loss: 0.176"
     ]
    },
    {
     "name": "stdout",
     "output_type": "stream",
     "text": [
      "\rProgress: 52.5% ... Training loss: 0.072 ... Validation loss: 0.175"
     ]
    },
    {
     "name": "stdout",
     "output_type": "stream",
     "text": [
      "\rProgress: 52.6% ... Training loss: 0.075 ... Validation loss: 0.166"
     ]
    },
    {
     "name": "stdout",
     "output_type": "stream",
     "text": [
      "\rProgress: 52.7% ... Training loss: 0.070 ... Validation loss: 0.146"
     ]
    },
    {
     "name": "stdout",
     "output_type": "stream",
     "text": [
      "\rProgress: 52.8% ... Training loss: 0.071 ... Validation loss: 0.147"
     ]
    },
    {
     "name": "stdout",
     "output_type": "stream",
     "text": [
      "\rProgress: 52.9% ... Training loss: 0.068 ... Validation loss: 0.153"
     ]
    },
    {
     "name": "stdout",
     "output_type": "stream",
     "text": [
      "\rProgress: 53.0% ... Training loss: 0.069 ... Validation loss: 0.158"
     ]
    },
    {
     "name": "stdout",
     "output_type": "stream",
     "text": [
      "\rProgress: 53.1% ... Training loss: 0.071 ... Validation loss: 0.156"
     ]
    },
    {
     "name": "stdout",
     "output_type": "stream",
     "text": [
      "\rProgress: 53.2% ... Training loss: 0.079 ... Validation loss: 0.160"
     ]
    },
    {
     "name": "stdout",
     "output_type": "stream",
     "text": [
      "\rProgress: 53.3% ... Training loss: 0.071 ... Validation loss: 0.143"
     ]
    },
    {
     "name": "stdout",
     "output_type": "stream",
     "text": [
      "\rProgress: 53.4% ... Training loss: 0.072 ... Validation loss: 0.160"
     ]
    },
    {
     "name": "stdout",
     "output_type": "stream",
     "text": [
      "\rProgress: 53.5% ... Training loss: 0.080 ... Validation loss: 0.148"
     ]
    },
    {
     "name": "stdout",
     "output_type": "stream",
     "text": [
      "\rProgress: 53.6% ... Training loss: 0.072 ... Validation loss: 0.163"
     ]
    },
    {
     "name": "stdout",
     "output_type": "stream",
     "text": [
      "\rProgress: 53.7% ... Training loss: 0.083 ... Validation loss: 0.153"
     ]
    },
    {
     "name": "stdout",
     "output_type": "stream",
     "text": [
      "\rProgress: 53.8% ... Training loss: 0.138 ... Validation loss: 0.268"
     ]
    },
    {
     "name": "stdout",
     "output_type": "stream",
     "text": [
      "\rProgress: 53.9% ... Training loss: 0.211 ... Validation loss: 0.181"
     ]
    },
    {
     "name": "stdout",
     "output_type": "stream",
     "text": [
      "\rProgress: 54.0% ... Training loss: 0.409 ... Validation loss: 0.444"
     ]
    },
    {
     "name": "stdout",
     "output_type": "stream",
     "text": [
      "\rProgress: 54.1% ... Training loss: 0.314 ... Validation loss: 0.329"
     ]
    },
    {
     "name": "stdout",
     "output_type": "stream",
     "text": [
      "\rProgress: 54.2% ... Training loss: 0.217 ... Validation loss: 0.220"
     ]
    },
    {
     "name": "stdout",
     "output_type": "stream",
     "text": [
      "\rProgress: 54.3% ... Training loss: 0.186 ... Validation loss: 0.201"
     ]
    },
    {
     "name": "stdout",
     "output_type": "stream",
     "text": [
      "\rProgress: 54.4% ... Training loss: 0.149 ... Validation loss: 0.181"
     ]
    },
    {
     "name": "stdout",
     "output_type": "stream",
     "text": [
      "\rProgress: 54.5% ... Training loss: 0.130 ... Validation loss: 0.177"
     ]
    },
    {
     "name": "stdout",
     "output_type": "stream",
     "text": [
      "\rProgress: 54.6% ... Training loss: 0.110 ... Validation loss: 0.163"
     ]
    },
    {
     "name": "stdout",
     "output_type": "stream",
     "text": [
      "\rProgress: 54.7% ... Training loss: 0.097 ... Validation loss: 0.204"
     ]
    },
    {
     "name": "stdout",
     "output_type": "stream",
     "text": [
      "\rProgress: 54.8% ... Training loss: 0.089 ... Validation loss: 0.165"
     ]
    },
    {
     "name": "stdout",
     "output_type": "stream",
     "text": [
      "\rProgress: 54.9% ... Training loss: 0.088 ... Validation loss: 0.170"
     ]
    },
    {
     "name": "stdout",
     "output_type": "stream",
     "text": [
      "\rProgress: 55.0% ... Training loss: 0.081 ... Validation loss: 0.165"
     ]
    },
    {
     "name": "stdout",
     "output_type": "stream",
     "text": [
      "\rProgress: 55.1% ... Training loss: 0.078 ... Validation loss: 0.163"
     ]
    },
    {
     "name": "stdout",
     "output_type": "stream",
     "text": [
      "\rProgress: 55.2% ... Training loss: 0.077 ... Validation loss: 0.166"
     ]
    },
    {
     "name": "stdout",
     "output_type": "stream",
     "text": [
      "\rProgress: 55.3% ... Training loss: 0.077 ... Validation loss: 0.176"
     ]
    },
    {
     "name": "stdout",
     "output_type": "stream",
     "text": [
      "\rProgress: 55.4% ... Training loss: 0.085 ... Validation loss: 0.157"
     ]
    },
    {
     "name": "stdout",
     "output_type": "stream",
     "text": [
      "\rProgress: 55.5% ... Training loss: 0.074 ... Validation loss: 0.164"
     ]
    },
    {
     "name": "stdout",
     "output_type": "stream",
     "text": [
      "\rProgress: 55.6% ... Training loss: 0.076 ... Validation loss: 0.152"
     ]
    },
    {
     "name": "stdout",
     "output_type": "stream",
     "text": [
      "\rProgress: 55.7% ... Training loss: 0.074 ... Validation loss: 0.172"
     ]
    },
    {
     "name": "stdout",
     "output_type": "stream",
     "text": [
      "\rProgress: 55.8% ... Training loss: 0.074 ... Validation loss: 0.165"
     ]
    },
    {
     "name": "stdout",
     "output_type": "stream",
     "text": [
      "\rProgress: 55.9% ... Training loss: 0.076 ... Validation loss: 0.178"
     ]
    },
    {
     "name": "stdout",
     "output_type": "stream",
     "text": [
      "\rProgress: 56.0% ... Training loss: 0.077 ... Validation loss: 0.152"
     ]
    },
    {
     "name": "stdout",
     "output_type": "stream",
     "text": [
      "\rProgress: 56.1% ... Training loss: 0.084 ... Validation loss: 0.179"
     ]
    },
    {
     "name": "stdout",
     "output_type": "stream",
     "text": [
      "\rProgress: 56.2% ... Training loss: 0.078 ... Validation loss: 0.156"
     ]
    },
    {
     "name": "stdout",
     "output_type": "stream",
     "text": [
      "\rProgress: 56.3% ... Training loss: 0.076 ... Validation loss: 0.182"
     ]
    },
    {
     "name": "stdout",
     "output_type": "stream",
     "text": [
      "\rProgress: 56.4% ... Training loss: 0.069 ... Validation loss: 0.155"
     ]
    },
    {
     "name": "stdout",
     "output_type": "stream",
     "text": [
      "\rProgress: 56.5% ... Training loss: 0.082 ... Validation loss: 0.193"
     ]
    },
    {
     "name": "stdout",
     "output_type": "stream",
     "text": [
      "\rProgress: 56.6% ... Training loss: 0.069 ... Validation loss: 0.163"
     ]
    },
    {
     "name": "stdout",
     "output_type": "stream",
     "text": [
      "\rProgress: 56.7% ... Training loss: 0.072 ... Validation loss: 0.160"
     ]
    },
    {
     "name": "stdout",
     "output_type": "stream",
     "text": [
      "\rProgress: 56.8% ... Training loss: 0.071 ... Validation loss: 0.180"
     ]
    },
    {
     "name": "stdout",
     "output_type": "stream",
     "text": [
      "\rProgress: 56.9% ... Training loss: 0.074 ... Validation loss: 0.184"
     ]
    },
    {
     "name": "stdout",
     "output_type": "stream",
     "text": [
      "\rProgress: 57.0% ... Training loss: 0.091 ... Validation loss: 0.153"
     ]
    },
    {
     "name": "stdout",
     "output_type": "stream",
     "text": [
      "\rProgress: 57.1% ... Training loss: 0.070 ... Validation loss: 0.163"
     ]
    },
    {
     "name": "stdout",
     "output_type": "stream",
     "text": [
      "\rProgress: 57.2% ... Training loss: 0.073 ... Validation loss: 0.198"
     ]
    },
    {
     "name": "stdout",
     "output_type": "stream",
     "text": [
      "\rProgress: 57.3% ... Training loss: 0.071 ... Validation loss: 0.177"
     ]
    },
    {
     "name": "stdout",
     "output_type": "stream",
     "text": [
      "\rProgress: 57.4% ... Training loss: 0.069 ... Validation loss: 0.177"
     ]
    },
    {
     "name": "stdout",
     "output_type": "stream",
     "text": [
      "\rProgress: 57.5% ... Training loss: 0.068 ... Validation loss: 0.190"
     ]
    },
    {
     "name": "stdout",
     "output_type": "stream",
     "text": [
      "\rProgress: 57.6% ... Training loss: 0.070 ... Validation loss: 0.177"
     ]
    },
    {
     "name": "stdout",
     "output_type": "stream",
     "text": [
      "\rProgress: 57.7% ... Training loss: 0.075 ... Validation loss: 0.211"
     ]
    },
    {
     "name": "stdout",
     "output_type": "stream",
     "text": [
      "\rProgress: 57.8% ... Training loss: 0.069 ... Validation loss: 0.209"
     ]
    },
    {
     "name": "stdout",
     "output_type": "stream",
     "text": [
      "\rProgress: 57.9% ... Training loss: 0.073 ... Validation loss: 0.158"
     ]
    },
    {
     "name": "stdout",
     "output_type": "stream",
     "text": [
      "\rProgress: 58.0% ... Training loss: 0.066 ... Validation loss: 0.191"
     ]
    },
    {
     "name": "stdout",
     "output_type": "stream",
     "text": [
      "\rProgress: 58.1% ... Training loss: 0.068 ... Validation loss: 0.178"
     ]
    },
    {
     "name": "stdout",
     "output_type": "stream",
     "text": [
      "\rProgress: 58.2% ... Training loss: 0.069 ... Validation loss: 0.174"
     ]
    },
    {
     "name": "stdout",
     "output_type": "stream",
     "text": [
      "\rProgress: 58.3% ... Training loss: 0.074 ... Validation loss: 0.189"
     ]
    },
    {
     "name": "stdout",
     "output_type": "stream",
     "text": [
      "\rProgress: 58.4% ... Training loss: 0.072 ... Validation loss: 0.169"
     ]
    },
    {
     "name": "stdout",
     "output_type": "stream",
     "text": [
      "\rProgress: 58.5% ... Training loss: 0.071 ... Validation loss: 0.157"
     ]
    },
    {
     "name": "stdout",
     "output_type": "stream",
     "text": [
      "\rProgress: 58.6% ... Training loss: 0.065 ... Validation loss: 0.164"
     ]
    },
    {
     "name": "stdout",
     "output_type": "stream",
     "text": [
      "\rProgress: 58.7% ... Training loss: 0.069 ... Validation loss: 0.174"
     ]
    },
    {
     "name": "stdout",
     "output_type": "stream",
     "text": [
      "\rProgress: 58.8% ... Training loss: 0.071 ... Validation loss: 0.160"
     ]
    },
    {
     "name": "stdout",
     "output_type": "stream",
     "text": [
      "\rProgress: 58.9% ... Training loss: 0.068 ... Validation loss: 0.167"
     ]
    },
    {
     "name": "stdout",
     "output_type": "stream",
     "text": [
      "\rProgress: 59.0% ... Training loss: 0.066 ... Validation loss: 0.153"
     ]
    },
    {
     "name": "stdout",
     "output_type": "stream",
     "text": [
      "\rProgress: 59.1% ... Training loss: 0.068 ... Validation loss: 0.149"
     ]
    },
    {
     "name": "stdout",
     "output_type": "stream",
     "text": [
      "\rProgress: 59.2% ... Training loss: 0.067 ... Validation loss: 0.149"
     ]
    },
    {
     "name": "stdout",
     "output_type": "stream",
     "text": [
      "\rProgress: 59.3% ... Training loss: 0.066 ... Validation loss: 0.167"
     ]
    },
    {
     "name": "stdout",
     "output_type": "stream",
     "text": [
      "\rProgress: 59.4% ... Training loss: 0.066 ... Validation loss: 0.173"
     ]
    },
    {
     "name": "stdout",
     "output_type": "stream",
     "text": [
      "\rProgress: 59.5% ... Training loss: 0.069 ... Validation loss: 0.159"
     ]
    },
    {
     "name": "stdout",
     "output_type": "stream",
     "text": [
      "\rProgress: 59.6% ... Training loss: 0.068 ... Validation loss: 0.157"
     ]
    },
    {
     "name": "stdout",
     "output_type": "stream",
     "text": [
      "\rProgress: 59.7% ... Training loss: 0.067 ... Validation loss: 0.148"
     ]
    },
    {
     "name": "stdout",
     "output_type": "stream",
     "text": [
      "\rProgress: 59.8% ... Training loss: 0.067 ... Validation loss: 0.167"
     ]
    },
    {
     "name": "stdout",
     "output_type": "stream",
     "text": [
      "\rProgress: 59.9% ... Training loss: 0.067 ... Validation loss: 0.165"
     ]
    },
    {
     "name": "stdout",
     "output_type": "stream",
     "text": [
      "\rProgress: 60.0% ... Training loss: 0.065 ... Validation loss: 0.155"
     ]
    },
    {
     "name": "stdout",
     "output_type": "stream",
     "text": [
      "\rProgress: 60.1% ... Training loss: 0.065 ... Validation loss: 0.152"
     ]
    },
    {
     "name": "stdout",
     "output_type": "stream",
     "text": [
      "\rProgress: 60.2% ... Training loss: 0.066 ... Validation loss: 0.146"
     ]
    },
    {
     "name": "stdout",
     "output_type": "stream",
     "text": [
      "\rProgress: 60.3% ... Training loss: 0.081 ... Validation loss: 0.167"
     ]
    },
    {
     "name": "stdout",
     "output_type": "stream",
     "text": [
      "\rProgress: 60.4% ... Training loss: 0.089 ... Validation loss: 0.245"
     ]
    },
    {
     "name": "stdout",
     "output_type": "stream",
     "text": [
      "\rProgress: 60.5% ... Training loss: 0.079 ... Validation loss: 0.145"
     ]
    },
    {
     "name": "stdout",
     "output_type": "stream",
     "text": [
      "\rProgress: 60.6% ... Training loss: 0.079 ... Validation loss: 0.161"
     ]
    },
    {
     "name": "stdout",
     "output_type": "stream",
     "text": [
      "\rProgress: 60.7% ... Training loss: 0.069 ... Validation loss: 0.144"
     ]
    },
    {
     "name": "stdout",
     "output_type": "stream",
     "text": [
      "\rProgress: 60.8% ... Training loss: 0.067 ... Validation loss: 0.160"
     ]
    },
    {
     "name": "stdout",
     "output_type": "stream",
     "text": [
      "\rProgress: 60.9% ... Training loss: 0.068 ... Validation loss: 0.151"
     ]
    },
    {
     "name": "stdout",
     "output_type": "stream",
     "text": [
      "\rProgress: 61.0% ... Training loss: 0.079 ... Validation loss: 0.175"
     ]
    },
    {
     "name": "stdout",
     "output_type": "stream",
     "text": [
      "\rProgress: 61.1% ... Training loss: 0.092 ... Validation loss: 0.148"
     ]
    },
    {
     "name": "stdout",
     "output_type": "stream",
     "text": [
      "\rProgress: 61.2% ... Training loss: 0.100 ... Validation loss: 0.202"
     ]
    },
    {
     "name": "stdout",
     "output_type": "stream",
     "text": [
      "\rProgress: 61.3% ... Training loss: 0.080 ... Validation loss: 0.143"
     ]
    },
    {
     "name": "stdout",
     "output_type": "stream",
     "text": [
      "\rProgress: 61.4% ... Training loss: 0.074 ... Validation loss: 0.165"
     ]
    },
    {
     "name": "stdout",
     "output_type": "stream",
     "text": [
      "\rProgress: 61.5% ... Training loss: 0.084 ... Validation loss: 0.167"
     ]
    },
    {
     "name": "stdout",
     "output_type": "stream",
     "text": [
      "\rProgress: 61.6% ... Training loss: 0.070 ... Validation loss: 0.155"
     ]
    },
    {
     "name": "stdout",
     "output_type": "stream",
     "text": [
      "\rProgress: 61.7% ... Training loss: 0.074 ... Validation loss: 0.143"
     ]
    },
    {
     "name": "stdout",
     "output_type": "stream",
     "text": [
      "\rProgress: 61.8% ... Training loss: 0.068 ... Validation loss: 0.140"
     ]
    },
    {
     "name": "stdout",
     "output_type": "stream",
     "text": [
      "\rProgress: 61.9% ... Training loss: 0.068 ... Validation loss: 0.140"
     ]
    },
    {
     "name": "stdout",
     "output_type": "stream",
     "text": [
      "\rProgress: 62.0% ... Training loss: 0.067 ... Validation loss: 0.153"
     ]
    },
    {
     "name": "stdout",
     "output_type": "stream",
     "text": [
      "\rProgress: 62.1% ... Training loss: 0.072 ... Validation loss: 0.155"
     ]
    },
    {
     "name": "stdout",
     "output_type": "stream",
     "text": [
      "\rProgress: 62.2% ... Training loss: 0.072 ... Validation loss: 0.141"
     ]
    },
    {
     "name": "stdout",
     "output_type": "stream",
     "text": [
      "\rProgress: 62.3% ... Training loss: 0.066 ... Validation loss: 0.169"
     ]
    },
    {
     "name": "stdout",
     "output_type": "stream",
     "text": [
      "\rProgress: 62.4% ... Training loss: 0.066 ... Validation loss: 0.164"
     ]
    },
    {
     "name": "stdout",
     "output_type": "stream",
     "text": [
      "\rProgress: 62.5% ... Training loss: 0.070 ... Validation loss: 0.168"
     ]
    },
    {
     "name": "stdout",
     "output_type": "stream",
     "text": [
      "\rProgress: 62.6% ... Training loss: 0.068 ... Validation loss: 0.146"
     ]
    },
    {
     "name": "stdout",
     "output_type": "stream",
     "text": [
      "\rProgress: 62.7% ... Training loss: 0.075 ... Validation loss: 0.172"
     ]
    },
    {
     "name": "stdout",
     "output_type": "stream",
     "text": [
      "\rProgress: 62.8% ... Training loss: 0.081 ... Validation loss: 0.141"
     ]
    },
    {
     "name": "stdout",
     "output_type": "stream",
     "text": [
      "\rProgress: 62.9% ... Training loss: 0.069 ... Validation loss: 0.169"
     ]
    },
    {
     "name": "stdout",
     "output_type": "stream",
     "text": [
      "\rProgress: 63.0% ... Training loss: 0.069 ... Validation loss: 0.168"
     ]
    },
    {
     "name": "stdout",
     "output_type": "stream",
     "text": [
      "\rProgress: 63.1% ... Training loss: 0.070 ... Validation loss: 0.192"
     ]
    },
    {
     "name": "stdout",
     "output_type": "stream",
     "text": [
      "\rProgress: 63.2% ... Training loss: 0.064 ... Validation loss: 0.171"
     ]
    },
    {
     "name": "stdout",
     "output_type": "stream",
     "text": [
      "\rProgress: 63.3% ... Training loss: 0.066 ... Validation loss: 0.169"
     ]
    },
    {
     "name": "stdout",
     "output_type": "stream",
     "text": [
      "\rProgress: 63.4% ... Training loss: 0.067 ... Validation loss: 0.160"
     ]
    },
    {
     "name": "stdout",
     "output_type": "stream",
     "text": [
      "\rProgress: 63.5% ... Training loss: 0.075 ... Validation loss: 0.178"
     ]
    },
    {
     "name": "stdout",
     "output_type": "stream",
     "text": [
      "\rProgress: 63.6% ... Training loss: 0.076 ... Validation loss: 0.153"
     ]
    },
    {
     "name": "stdout",
     "output_type": "stream",
     "text": [
      "\rProgress: 63.7% ... Training loss: 0.069 ... Validation loss: 0.182"
     ]
    },
    {
     "name": "stdout",
     "output_type": "stream",
     "text": [
      "\rProgress: 63.8% ... Training loss: 0.066 ... Validation loss: 0.156"
     ]
    },
    {
     "name": "stdout",
     "output_type": "stream",
     "text": [
      "\rProgress: 63.9% ... Training loss: 0.065 ... Validation loss: 0.176"
     ]
    },
    {
     "name": "stdout",
     "output_type": "stream",
     "text": [
      "\rProgress: 64.0% ... Training loss: 0.064 ... Validation loss: 0.179"
     ]
    },
    {
     "name": "stdout",
     "output_type": "stream",
     "text": [
      "\rProgress: 64.1% ... Training loss: 0.066 ... Validation loss: 0.156"
     ]
    },
    {
     "name": "stdout",
     "output_type": "stream",
     "text": [
      "\rProgress: 64.2% ... Training loss: 0.063 ... Validation loss: 0.151"
     ]
    },
    {
     "name": "stdout",
     "output_type": "stream",
     "text": [
      "\rProgress: 64.3% ... Training loss: 0.063 ... Validation loss: 0.163"
     ]
    },
    {
     "name": "stdout",
     "output_type": "stream",
     "text": [
      "\rProgress: 64.4% ... Training loss: 0.064 ... Validation loss: 0.162"
     ]
    },
    {
     "name": "stdout",
     "output_type": "stream",
     "text": [
      "\rProgress: 64.5% ... Training loss: 0.077 ... Validation loss: 0.148"
     ]
    },
    {
     "name": "stdout",
     "output_type": "stream",
     "text": [
      "\rProgress: 64.6% ... Training loss: 0.065 ... Validation loss: 0.145"
     ]
    },
    {
     "name": "stdout",
     "output_type": "stream",
     "text": [
      "\rProgress: 64.7% ... Training loss: 0.069 ... Validation loss: 0.180"
     ]
    },
    {
     "name": "stdout",
     "output_type": "stream",
     "text": [
      "\rProgress: 64.8% ... Training loss: 0.066 ... Validation loss: 0.169"
     ]
    },
    {
     "name": "stdout",
     "output_type": "stream",
     "text": [
      "\rProgress: 64.9% ... Training loss: 0.065 ... Validation loss: 0.172"
     ]
    },
    {
     "name": "stdout",
     "output_type": "stream",
     "text": [
      "\rProgress: 65.0% ... Training loss: 0.065 ... Validation loss: 0.177"
     ]
    },
    {
     "name": "stdout",
     "output_type": "stream",
     "text": [
      "\rProgress: 65.1% ... Training loss: 0.072 ... Validation loss: 0.184"
     ]
    },
    {
     "name": "stdout",
     "output_type": "stream",
     "text": [
      "\rProgress: 65.2% ... Training loss: 0.066 ... Validation loss: 0.166"
     ]
    },
    {
     "name": "stdout",
     "output_type": "stream",
     "text": [
      "\rProgress: 65.3% ... Training loss: 0.068 ... Validation loss: 0.177"
     ]
    },
    {
     "name": "stdout",
     "output_type": "stream",
     "text": [
      "\rProgress: 65.4% ... Training loss: 0.066 ... Validation loss: 0.146"
     ]
    },
    {
     "name": "stdout",
     "output_type": "stream",
     "text": [
      "\rProgress: 65.5% ... Training loss: 0.065 ... Validation loss: 0.144"
     ]
    },
    {
     "name": "stdout",
     "output_type": "stream",
     "text": [
      "\rProgress: 65.6% ... Training loss: 0.087 ... Validation loss: 0.212"
     ]
    },
    {
     "name": "stdout",
     "output_type": "stream",
     "text": [
      "\rProgress: 65.7% ... Training loss: 0.070 ... Validation loss: 0.183"
     ]
    },
    {
     "name": "stdout",
     "output_type": "stream",
     "text": [
      "\rProgress: 65.8% ... Training loss: 0.078 ... Validation loss: 0.154"
     ]
    },
    {
     "name": "stdout",
     "output_type": "stream",
     "text": [
      "\rProgress: 65.9% ... Training loss: 0.101 ... Validation loss: 0.234"
     ]
    },
    {
     "name": "stdout",
     "output_type": "stream",
     "text": [
      "\rProgress: 66.0% ... Training loss: 0.075 ... Validation loss: 0.159"
     ]
    },
    {
     "name": "stdout",
     "output_type": "stream",
     "text": [
      "\rProgress: 66.1% ... Training loss: 0.070 ... Validation loss: 0.195"
     ]
    },
    {
     "name": "stdout",
     "output_type": "stream",
     "text": [
      "\rProgress: 66.2% ... Training loss: 0.070 ... Validation loss: 0.147"
     ]
    },
    {
     "name": "stdout",
     "output_type": "stream",
     "text": [
      "\rProgress: 66.3% ... Training loss: 0.069 ... Validation loss: 0.165"
     ]
    },
    {
     "name": "stdout",
     "output_type": "stream",
     "text": [
      "\rProgress: 66.4% ... Training loss: 0.077 ... Validation loss: 0.160"
     ]
    },
    {
     "name": "stdout",
     "output_type": "stream",
     "text": [
      "\rProgress: 66.5% ... Training loss: 0.069 ... Validation loss: 0.163"
     ]
    },
    {
     "name": "stdout",
     "output_type": "stream",
     "text": [
      "\rProgress: 66.6% ... Training loss: 0.070 ... Validation loss: 0.152"
     ]
    },
    {
     "name": "stdout",
     "output_type": "stream",
     "text": [
      "\rProgress: 66.7% ... Training loss: 0.072 ... Validation loss: 0.186"
     ]
    },
    {
     "name": "stdout",
     "output_type": "stream",
     "text": [
      "\rProgress: 66.8% ... Training loss: 0.072 ... Validation loss: 0.165"
     ]
    },
    {
     "name": "stdout",
     "output_type": "stream",
     "text": [
      "\rProgress: 66.9% ... Training loss: 0.068 ... Validation loss: 0.152"
     ]
    },
    {
     "name": "stdout",
     "output_type": "stream",
     "text": [
      "\rProgress: 67.0% ... Training loss: 0.067 ... Validation loss: 0.183"
     ]
    },
    {
     "name": "stdout",
     "output_type": "stream",
     "text": [
      "\rProgress: 67.1% ... Training loss: 0.068 ... Validation loss: 0.152"
     ]
    },
    {
     "name": "stdout",
     "output_type": "stream",
     "text": [
      "\rProgress: 67.2% ... Training loss: 0.064 ... Validation loss: 0.160"
     ]
    },
    {
     "name": "stdout",
     "output_type": "stream",
     "text": [
      "\rProgress: 67.3% ... Training loss: 0.066 ... Validation loss: 0.161"
     ]
    },
    {
     "name": "stdout",
     "output_type": "stream",
     "text": [
      "\rProgress: 67.4% ... Training loss: 0.067 ... Validation loss: 0.153"
     ]
    },
    {
     "name": "stdout",
     "output_type": "stream",
     "text": [
      "\rProgress: 67.5% ... Training loss: 0.067 ... Validation loss: 0.163"
     ]
    },
    {
     "name": "stdout",
     "output_type": "stream",
     "text": [
      "\rProgress: 67.6% ... Training loss: 0.064 ... Validation loss: 0.157"
     ]
    },
    {
     "name": "stdout",
     "output_type": "stream",
     "text": [
      "\rProgress: 67.7% ... Training loss: 0.063 ... Validation loss: 0.153"
     ]
    },
    {
     "name": "stdout",
     "output_type": "stream",
     "text": [
      "\rProgress: 67.8% ... Training loss: 0.066 ... Validation loss: 0.155"
     ]
    },
    {
     "name": "stdout",
     "output_type": "stream",
     "text": [
      "\rProgress: 67.9% ... Training loss: 0.064 ... Validation loss: 0.161"
     ]
    },
    {
     "name": "stdout",
     "output_type": "stream",
     "text": [
      "\rProgress: 68.0% ... Training loss: 0.064 ... Validation loss: 0.168"
     ]
    },
    {
     "name": "stdout",
     "output_type": "stream",
     "text": [
      "\rProgress: 68.1% ... Training loss: 0.064 ... Validation loss: 0.160"
     ]
    },
    {
     "name": "stdout",
     "output_type": "stream",
     "text": [
      "\rProgress: 68.2% ... Training loss: 0.064 ... Validation loss: 0.167"
     ]
    },
    {
     "name": "stdout",
     "output_type": "stream",
     "text": [
      "\rProgress: 68.3% ... Training loss: 0.065 ... Validation loss: 0.159"
     ]
    },
    {
     "name": "stdout",
     "output_type": "stream",
     "text": [
      "\rProgress: 68.4% ... Training loss: 0.067 ... Validation loss: 0.150"
     ]
    },
    {
     "name": "stdout",
     "output_type": "stream",
     "text": [
      "\rProgress: 68.5% ... Training loss: 0.080 ... Validation loss: 0.148"
     ]
    },
    {
     "name": "stdout",
     "output_type": "stream",
     "text": [
      "\rProgress: 68.6% ... Training loss: 0.067 ... Validation loss: 0.152"
     ]
    },
    {
     "name": "stdout",
     "output_type": "stream",
     "text": [
      "\rProgress: 68.7% ... Training loss: 0.072 ... Validation loss: 0.153"
     ]
    },
    {
     "name": "stdout",
     "output_type": "stream",
     "text": [
      "\rProgress: 68.8% ... Training loss: 0.064 ... Validation loss: 0.142"
     ]
    },
    {
     "name": "stdout",
     "output_type": "stream",
     "text": [
      "\rProgress: 68.9% ... Training loss: 0.064 ... Validation loss: 0.144"
     ]
    },
    {
     "name": "stdout",
     "output_type": "stream",
     "text": [
      "\rProgress: 69.0% ... Training loss: 0.063 ... Validation loss: 0.149"
     ]
    },
    {
     "name": "stdout",
     "output_type": "stream",
     "text": [
      "\rProgress: 69.1% ... Training loss: 0.063 ... Validation loss: 0.160"
     ]
    },
    {
     "name": "stdout",
     "output_type": "stream",
     "text": [
      "\rProgress: 69.2% ... Training loss: 0.062 ... Validation loss: 0.160"
     ]
    },
    {
     "name": "stdout",
     "output_type": "stream",
     "text": [
      "\rProgress: 69.3% ... Training loss: 0.063 ... Validation loss: 0.151"
     ]
    },
    {
     "name": "stdout",
     "output_type": "stream",
     "text": [
      "\rProgress: 69.4% ... Training loss: 0.064 ... Validation loss: 0.148"
     ]
    },
    {
     "name": "stdout",
     "output_type": "stream",
     "text": [
      "\rProgress: 69.5% ... Training loss: 0.073 ... Validation loss: 0.164"
     ]
    },
    {
     "name": "stdout",
     "output_type": "stream",
     "text": [
      "\rProgress: 69.6% ... Training loss: 0.067 ... Validation loss: 0.145"
     ]
    },
    {
     "name": "stdout",
     "output_type": "stream",
     "text": [
      "\rProgress: 69.7% ... Training loss: 0.065 ... Validation loss: 0.147"
     ]
    },
    {
     "name": "stdout",
     "output_type": "stream",
     "text": [
      "\rProgress: 69.8% ... Training loss: 0.069 ... Validation loss: 0.173"
     ]
    },
    {
     "name": "stdout",
     "output_type": "stream",
     "text": [
      "\rProgress: 69.9% ... Training loss: 0.064 ... Validation loss: 0.156"
     ]
    },
    {
     "name": "stdout",
     "output_type": "stream",
     "text": [
      "\rProgress: 70.0% ... Training loss: 0.063 ... Validation loss: 0.148"
     ]
    },
    {
     "name": "stdout",
     "output_type": "stream",
     "text": [
      "\rProgress: 70.1% ... Training loss: 0.065 ... Validation loss: 0.141"
     ]
    },
    {
     "name": "stdout",
     "output_type": "stream",
     "text": [
      "\rProgress: 70.2% ... Training loss: 0.065 ... Validation loss: 0.142"
     ]
    },
    {
     "name": "stdout",
     "output_type": "stream",
     "text": [
      "\rProgress: 70.3% ... Training loss: 0.067 ... Validation loss: 0.158"
     ]
    },
    {
     "name": "stdout",
     "output_type": "stream",
     "text": [
      "\rProgress: 70.4% ... Training loss: 0.086 ... Validation loss: 0.142"
     ]
    },
    {
     "name": "stdout",
     "output_type": "stream",
     "text": [
      "\rProgress: 70.5% ... Training loss: 0.074 ... Validation loss: 0.206"
     ]
    },
    {
     "name": "stdout",
     "output_type": "stream",
     "text": [
      "\rProgress: 70.6% ... Training loss: 0.069 ... Validation loss: 0.144"
     ]
    },
    {
     "name": "stdout",
     "output_type": "stream",
     "text": [
      "\rProgress: 70.7% ... Training loss: 0.074 ... Validation loss: 0.188"
     ]
    },
    {
     "name": "stdout",
     "output_type": "stream",
     "text": [
      "\rProgress: 70.8% ... Training loss: 0.063 ... Validation loss: 0.151"
     ]
    },
    {
     "name": "stdout",
     "output_type": "stream",
     "text": [
      "\rProgress: 70.9% ... Training loss: 0.067 ... Validation loss: 0.169"
     ]
    },
    {
     "name": "stdout",
     "output_type": "stream",
     "text": [
      "\rProgress: 71.0% ... Training loss: 0.068 ... Validation loss: 0.140"
     ]
    },
    {
     "name": "stdout",
     "output_type": "stream",
     "text": [
      "\rProgress: 71.1% ... Training loss: 0.071 ... Validation loss: 0.174"
     ]
    },
    {
     "name": "stdout",
     "output_type": "stream",
     "text": [
      "\rProgress: 71.2% ... Training loss: 0.072 ... Validation loss: 0.138"
     ]
    },
    {
     "name": "stdout",
     "output_type": "stream",
     "text": [
      "\rProgress: 71.3% ... Training loss: 0.068 ... Validation loss: 0.172"
     ]
    },
    {
     "name": "stdout",
     "output_type": "stream",
     "text": [
      "\rProgress: 71.4% ... Training loss: 0.071 ... Validation loss: 0.168"
     ]
    },
    {
     "name": "stdout",
     "output_type": "stream",
     "text": [
      "\rProgress: 71.5% ... Training loss: 0.067 ... Validation loss: 0.152"
     ]
    },
    {
     "name": "stdout",
     "output_type": "stream",
     "text": [
      "\rProgress: 71.6% ... Training loss: 0.067 ... Validation loss: 0.165"
     ]
    },
    {
     "name": "stdout",
     "output_type": "stream",
     "text": [
      "\rProgress: 71.7% ... Training loss: 0.067 ... Validation loss: 0.149"
     ]
    },
    {
     "name": "stdout",
     "output_type": "stream",
     "text": [
      "\rProgress: 71.8% ... Training loss: 0.066 ... Validation loss: 0.156"
     ]
    },
    {
     "name": "stdout",
     "output_type": "stream",
     "text": [
      "\rProgress: 71.9% ... Training loss: 0.071 ... Validation loss: 0.144"
     ]
    },
    {
     "name": "stdout",
     "output_type": "stream",
     "text": [
      "\rProgress: 72.0% ... Training loss: 0.070 ... Validation loss: 0.182"
     ]
    },
    {
     "name": "stdout",
     "output_type": "stream",
     "text": [
      "\rProgress: 72.1% ... Training loss: 0.064 ... Validation loss: 0.160"
     ]
    },
    {
     "name": "stdout",
     "output_type": "stream",
     "text": [
      "\rProgress: 72.2% ... Training loss: 0.067 ... Validation loss: 0.165"
     ]
    },
    {
     "name": "stdout",
     "output_type": "stream",
     "text": [
      "\rProgress: 72.3% ... Training loss: 0.069 ... Validation loss: 0.151"
     ]
    },
    {
     "name": "stdout",
     "output_type": "stream",
     "text": [
      "\rProgress: 72.4% ... Training loss: 0.068 ... Validation loss: 0.169"
     ]
    },
    {
     "name": "stdout",
     "output_type": "stream",
     "text": [
      "\rProgress: 72.5% ... Training loss: 0.065 ... Validation loss: 0.163"
     ]
    },
    {
     "name": "stdout",
     "output_type": "stream",
     "text": [
      "\rProgress: 72.6% ... Training loss: 0.069 ... Validation loss: 0.174"
     ]
    },
    {
     "name": "stdout",
     "output_type": "stream",
     "text": [
      "\rProgress: 72.7% ... Training loss: 0.064 ... Validation loss: 0.160"
     ]
    },
    {
     "name": "stdout",
     "output_type": "stream",
     "text": [
      "\rProgress: 72.8% ... Training loss: 0.072 ... Validation loss: 0.170"
     ]
    },
    {
     "name": "stdout",
     "output_type": "stream",
     "text": [
      "\rProgress: 72.9% ... Training loss: 0.066 ... Validation loss: 0.156"
     ]
    },
    {
     "name": "stdout",
     "output_type": "stream",
     "text": [
      "\rProgress: 73.0% ... Training loss: 0.067 ... Validation loss: 0.147"
     ]
    },
    {
     "name": "stdout",
     "output_type": "stream",
     "text": [
      "\rProgress: 73.1% ... Training loss: 0.065 ... Validation loss: 0.178"
     ]
    },
    {
     "name": "stdout",
     "output_type": "stream",
     "text": [
      "\rProgress: 73.2% ... Training loss: 0.067 ... Validation loss: 0.174"
     ]
    },
    {
     "name": "stdout",
     "output_type": "stream",
     "text": [
      "\rProgress: 73.3% ... Training loss: 0.064 ... Validation loss: 0.157"
     ]
    },
    {
     "name": "stdout",
     "output_type": "stream",
     "text": [
      "\rProgress: 73.4% ... Training loss: 0.066 ... Validation loss: 0.145"
     ]
    },
    {
     "name": "stdout",
     "output_type": "stream",
     "text": [
      "\rProgress: 73.5% ... Training loss: 0.068 ... Validation loss: 0.169"
     ]
    },
    {
     "name": "stdout",
     "output_type": "stream",
     "text": [
      "\rProgress: 73.6% ... Training loss: 0.069 ... Validation loss: 0.135"
     ]
    },
    {
     "name": "stdout",
     "output_type": "stream",
     "text": [
      "\rProgress: 73.7% ... Training loss: 0.070 ... Validation loss: 0.171"
     ]
    },
    {
     "name": "stdout",
     "output_type": "stream",
     "text": [
      "\rProgress: 73.8% ... Training loss: 0.065 ... Validation loss: 0.136"
     ]
    },
    {
     "name": "stdout",
     "output_type": "stream",
     "text": [
      "\rProgress: 73.9% ... Training loss: 0.064 ... Validation loss: 0.149"
     ]
    },
    {
     "name": "stdout",
     "output_type": "stream",
     "text": [
      "\rProgress: 74.0% ... Training loss: 0.070 ... Validation loss: 0.134"
     ]
    },
    {
     "name": "stdout",
     "output_type": "stream",
     "text": [
      "\rProgress: 74.1% ... Training loss: 0.068 ... Validation loss: 0.138"
     ]
    },
    {
     "name": "stdout",
     "output_type": "stream",
     "text": [
      "\rProgress: 74.2% ... Training loss: 0.074 ... Validation loss: 0.150"
     ]
    },
    {
     "name": "stdout",
     "output_type": "stream",
     "text": [
      "\rProgress: 74.3% ... Training loss: 0.065 ... Validation loss: 0.133"
     ]
    },
    {
     "name": "stdout",
     "output_type": "stream",
     "text": [
      "\rProgress: 74.4% ... Training loss: 0.063 ... Validation loss: 0.137"
     ]
    },
    {
     "name": "stdout",
     "output_type": "stream",
     "text": [
      "\rProgress: 74.5% ... Training loss: 0.065 ... Validation loss: 0.140"
     ]
    },
    {
     "name": "stdout",
     "output_type": "stream",
     "text": [
      "\rProgress: 74.6% ... Training loss: 0.065 ... Validation loss: 0.141"
     ]
    },
    {
     "name": "stdout",
     "output_type": "stream",
     "text": [
      "\rProgress: 74.7% ... Training loss: 0.062 ... Validation loss: 0.142"
     ]
    },
    {
     "name": "stdout",
     "output_type": "stream",
     "text": [
      "\rProgress: 74.8% ... Training loss: 0.089 ... Validation loss: 0.143"
     ]
    },
    {
     "name": "stdout",
     "output_type": "stream",
     "text": [
      "\rProgress: 74.9% ... Training loss: 0.064 ... Validation loss: 0.144"
     ]
    },
    {
     "name": "stdout",
     "output_type": "stream",
     "text": [
      "\rProgress: 75.0% ... Training loss: 0.062 ... Validation loss: 0.140"
     ]
    },
    {
     "name": "stdout",
     "output_type": "stream",
     "text": [
      "\rProgress: 75.1% ... Training loss: 0.070 ... Validation loss: 0.134"
     ]
    },
    {
     "name": "stdout",
     "output_type": "stream",
     "text": [
      "\rProgress: 75.2% ... Training loss: 0.062 ... Validation loss: 0.149"
     ]
    },
    {
     "name": "stdout",
     "output_type": "stream",
     "text": [
      "\rProgress: 75.3% ... Training loss: 0.060 ... Validation loss: 0.143"
     ]
    },
    {
     "name": "stdout",
     "output_type": "stream",
     "text": [
      "\rProgress: 75.4% ... Training loss: 0.065 ... Validation loss: 0.155"
     ]
    },
    {
     "name": "stdout",
     "output_type": "stream",
     "text": [
      "\rProgress: 75.5% ... Training loss: 0.063 ... Validation loss: 0.143"
     ]
    },
    {
     "name": "stdout",
     "output_type": "stream",
     "text": [
      "\rProgress: 75.6% ... Training loss: 0.061 ... Validation loss: 0.143"
     ]
    },
    {
     "name": "stdout",
     "output_type": "stream",
     "text": [
      "\rProgress: 75.7% ... Training loss: 0.061 ... Validation loss: 0.147"
     ]
    },
    {
     "name": "stdout",
     "output_type": "stream",
     "text": [
      "\rProgress: 75.8% ... Training loss: 0.068 ... Validation loss: 0.147"
     ]
    },
    {
     "name": "stdout",
     "output_type": "stream",
     "text": [
      "\rProgress: 75.9% ... Training loss: 0.061 ... Validation loss: 0.151"
     ]
    },
    {
     "name": "stdout",
     "output_type": "stream",
     "text": [
      "\rProgress: 76.0% ... Training loss: 0.059 ... Validation loss: 0.149"
     ]
    },
    {
     "name": "stdout",
     "output_type": "stream",
     "text": [
      "\rProgress: 76.1% ... Training loss: 0.073 ... Validation loss: 0.144"
     ]
    },
    {
     "name": "stdout",
     "output_type": "stream",
     "text": [
      "\rProgress: 76.2% ... Training loss: 0.064 ... Validation loss: 0.154"
     ]
    },
    {
     "name": "stdout",
     "output_type": "stream",
     "text": [
      "\rProgress: 76.3% ... Training loss: 0.071 ... Validation loss: 0.135"
     ]
    },
    {
     "name": "stdout",
     "output_type": "stream",
     "text": [
      "\rProgress: 76.4% ... Training loss: 0.084 ... Validation loss: 0.198"
     ]
    },
    {
     "name": "stdout",
     "output_type": "stream",
     "text": [
      "\rProgress: 76.5% ... Training loss: 0.068 ... Validation loss: 0.148"
     ]
    },
    {
     "name": "stdout",
     "output_type": "stream",
     "text": [
      "\rProgress: 76.6% ... Training loss: 0.067 ... Validation loss: 0.162"
     ]
    },
    {
     "name": "stdout",
     "output_type": "stream",
     "text": [
      "\rProgress: 76.7% ... Training loss: 0.065 ... Validation loss: 0.148"
     ]
    },
    {
     "name": "stdout",
     "output_type": "stream",
     "text": [
      "\rProgress: 76.8% ... Training loss: 0.063 ... Validation loss: 0.168"
     ]
    },
    {
     "name": "stdout",
     "output_type": "stream",
     "text": [
      "\rProgress: 76.9% ... Training loss: 0.060 ... Validation loss: 0.153"
     ]
    },
    {
     "name": "stdout",
     "output_type": "stream",
     "text": [
      "\rProgress: 77.0% ... Training loss: 0.063 ... Validation loss: 0.164"
     ]
    },
    {
     "name": "stdout",
     "output_type": "stream",
     "text": [
      "\rProgress: 77.1% ... Training loss: 0.061 ... Validation loss: 0.149"
     ]
    },
    {
     "name": "stdout",
     "output_type": "stream",
     "text": [
      "\rProgress: 77.2% ... Training loss: 0.062 ... Validation loss: 0.161"
     ]
    },
    {
     "name": "stdout",
     "output_type": "stream",
     "text": [
      "\rProgress: 77.3% ... Training loss: 0.069 ... Validation loss: 0.179"
     ]
    },
    {
     "name": "stdout",
     "output_type": "stream",
     "text": [
      "\rProgress: 77.4% ... Training loss: 0.089 ... Validation loss: 0.148"
     ]
    },
    {
     "name": "stdout",
     "output_type": "stream",
     "text": [
      "\rProgress: 77.5% ... Training loss: 0.105 ... Validation loss: 0.215"
     ]
    },
    {
     "name": "stdout",
     "output_type": "stream",
     "text": [
      "\rProgress: 77.6% ... Training loss: 0.072 ... Validation loss: 0.145"
     ]
    },
    {
     "name": "stdout",
     "output_type": "stream",
     "text": [
      "\rProgress: 77.7% ... Training loss: 0.067 ... Validation loss: 0.171"
     ]
    },
    {
     "name": "stdout",
     "output_type": "stream",
     "text": [
      "\rProgress: 77.8% ... Training loss: 0.067 ... Validation loss: 0.146"
     ]
    },
    {
     "name": "stdout",
     "output_type": "stream",
     "text": [
      "\rProgress: 77.9% ... Training loss: 0.073 ... Validation loss: 0.135"
     ]
    },
    {
     "name": "stdout",
     "output_type": "stream",
     "text": [
      "\rProgress: 78.0% ... Training loss: 0.088 ... Validation loss: 0.203"
     ]
    },
    {
     "name": "stdout",
     "output_type": "stream",
     "text": [
      "\rProgress: 78.1% ... Training loss: 0.071 ... Validation loss: 0.134"
     ]
    },
    {
     "name": "stdout",
     "output_type": "stream",
     "text": [
      "\rProgress: 78.2% ... Training loss: 0.068 ... Validation loss: 0.144"
     ]
    },
    {
     "name": "stdout",
     "output_type": "stream",
     "text": [
      "\rProgress: 78.3% ... Training loss: 0.063 ... Validation loss: 0.138"
     ]
    },
    {
     "name": "stdout",
     "output_type": "stream",
     "text": [
      "\rProgress: 78.4% ... Training loss: 0.061 ... Validation loss: 0.142"
     ]
    },
    {
     "name": "stdout",
     "output_type": "stream",
     "text": [
      "\rProgress: 78.5% ... Training loss: 0.065 ... Validation loss: 0.154"
     ]
    },
    {
     "name": "stdout",
     "output_type": "stream",
     "text": [
      "\rProgress: 78.6% ... Training loss: 0.061 ... Validation loss: 0.132"
     ]
    },
    {
     "name": "stdout",
     "output_type": "stream",
     "text": [
      "\rProgress: 78.7% ... Training loss: 0.062 ... Validation loss: 0.136"
     ]
    },
    {
     "name": "stdout",
     "output_type": "stream",
     "text": [
      "\rProgress: 78.8% ... Training loss: 0.062 ... Validation loss: 0.159"
     ]
    },
    {
     "name": "stdout",
     "output_type": "stream",
     "text": [
      "\rProgress: 78.9% ... Training loss: 0.062 ... Validation loss: 0.146"
     ]
    },
    {
     "name": "stdout",
     "output_type": "stream",
     "text": [
      "\rProgress: 79.0% ... Training loss: 0.060 ... Validation loss: 0.158"
     ]
    },
    {
     "name": "stdout",
     "output_type": "stream",
     "text": [
      "\rProgress: 79.1% ... Training loss: 0.069 ... Validation loss: 0.169"
     ]
    },
    {
     "name": "stdout",
     "output_type": "stream",
     "text": [
      "\rProgress: 79.2% ... Training loss: 0.069 ... Validation loss: 0.149"
     ]
    },
    {
     "name": "stdout",
     "output_type": "stream",
     "text": [
      "\rProgress: 79.3% ... Training loss: 0.061 ... Validation loss: 0.153"
     ]
    },
    {
     "name": "stdout",
     "output_type": "stream",
     "text": [
      "\rProgress: 79.4% ... Training loss: 0.061 ... Validation loss: 0.160"
     ]
    },
    {
     "name": "stdout",
     "output_type": "stream",
     "text": [
      "\rProgress: 79.5% ... Training loss: 0.064 ... Validation loss: 0.173"
     ]
    },
    {
     "name": "stdout",
     "output_type": "stream",
     "text": [
      "\rProgress: 79.6% ... Training loss: 0.062 ... Validation loss: 0.160"
     ]
    },
    {
     "name": "stdout",
     "output_type": "stream",
     "text": [
      "\rProgress: 79.7% ... Training loss: 0.062 ... Validation loss: 0.149"
     ]
    },
    {
     "name": "stdout",
     "output_type": "stream",
     "text": [
      "\rProgress: 79.8% ... Training loss: 0.062 ... Validation loss: 0.154"
     ]
    },
    {
     "name": "stdout",
     "output_type": "stream",
     "text": [
      "\rProgress: 79.9% ... Training loss: 0.063 ... Validation loss: 0.156"
     ]
    },
    {
     "name": "stdout",
     "output_type": "stream",
     "text": [
      "\rProgress: 80.0% ... Training loss: 0.063 ... Validation loss: 0.148"
     ]
    },
    {
     "name": "stdout",
     "output_type": "stream",
     "text": [
      "\rProgress: 80.1% ... Training loss: 0.067 ... Validation loss: 0.146"
     ]
    },
    {
     "name": "stdout",
     "output_type": "stream",
     "text": [
      "\rProgress: 80.2% ... Training loss: 0.067 ... Validation loss: 0.160"
     ]
    },
    {
     "name": "stdout",
     "output_type": "stream",
     "text": [
      "\rProgress: 80.3% ... Training loss: 0.063 ... Validation loss: 0.143"
     ]
    },
    {
     "name": "stdout",
     "output_type": "stream",
     "text": [
      "\rProgress: 80.4% ... Training loss: 0.062 ... Validation loss: 0.143"
     ]
    },
    {
     "name": "stdout",
     "output_type": "stream",
     "text": [
      "\rProgress: 80.5% ... Training loss: 0.065 ... Validation loss: 0.141"
     ]
    },
    {
     "name": "stdout",
     "output_type": "stream",
     "text": [
      "\rProgress: 80.6% ... Training loss: 0.061 ... Validation loss: 0.153"
     ]
    },
    {
     "name": "stdout",
     "output_type": "stream",
     "text": [
      "\rProgress: 80.7% ... Training loss: 0.063 ... Validation loss: 0.153"
     ]
    },
    {
     "name": "stdout",
     "output_type": "stream",
     "text": [
      "\rProgress: 80.8% ... Training loss: 0.064 ... Validation loss: 0.153"
     ]
    },
    {
     "name": "stdout",
     "output_type": "stream",
     "text": [
      "\rProgress: 80.9% ... Training loss: 0.065 ... Validation loss: 0.140"
     ]
    },
    {
     "name": "stdout",
     "output_type": "stream",
     "text": [
      "\rProgress: 81.0% ... Training loss: 0.066 ... Validation loss: 0.170"
     ]
    },
    {
     "name": "stdout",
     "output_type": "stream",
     "text": [
      "\rProgress: 81.1% ... Training loss: 0.062 ... Validation loss: 0.149"
     ]
    },
    {
     "name": "stdout",
     "output_type": "stream",
     "text": [
      "\rProgress: 81.2% ... Training loss: 0.061 ... Validation loss: 0.160"
     ]
    },
    {
     "name": "stdout",
     "output_type": "stream",
     "text": [
      "\rProgress: 81.3% ... Training loss: 0.061 ... Validation loss: 0.150"
     ]
    },
    {
     "name": "stdout",
     "output_type": "stream",
     "text": [
      "\rProgress: 81.4% ... Training loss: 0.066 ... Validation loss: 0.148"
     ]
    },
    {
     "name": "stdout",
     "output_type": "stream",
     "text": [
      "\rProgress: 81.5% ... Training loss: 0.063 ... Validation loss: 0.141"
     ]
    },
    {
     "name": "stdout",
     "output_type": "stream",
     "text": [
      "\rProgress: 81.6% ... Training loss: 0.063 ... Validation loss: 0.155"
     ]
    },
    {
     "name": "stdout",
     "output_type": "stream",
     "text": [
      "\rProgress: 81.7% ... Training loss: 0.067 ... Validation loss: 0.138"
     ]
    },
    {
     "name": "stdout",
     "output_type": "stream",
     "text": [
      "\rProgress: 81.8% ... Training loss: 0.062 ... Validation loss: 0.157"
     ]
    },
    {
     "name": "stdout",
     "output_type": "stream",
     "text": [
      "\rProgress: 81.9% ... Training loss: 0.065 ... Validation loss: 0.171"
     ]
    },
    {
     "name": "stdout",
     "output_type": "stream",
     "text": [
      "\rProgress: 82.0% ... Training loss: 0.071 ... Validation loss: 0.142"
     ]
    },
    {
     "name": "stdout",
     "output_type": "stream",
     "text": [
      "\rProgress: 82.1% ... Training loss: 0.083 ... Validation loss: 0.194"
     ]
    },
    {
     "name": "stdout",
     "output_type": "stream",
     "text": [
      "\rProgress: 82.2% ... Training loss: 0.067 ... Validation loss: 0.169"
     ]
    },
    {
     "name": "stdout",
     "output_type": "stream",
     "text": [
      "\rProgress: 82.3% ... Training loss: 0.061 ... Validation loss: 0.150"
     ]
    },
    {
     "name": "stdout",
     "output_type": "stream",
     "text": [
      "\rProgress: 82.4% ... Training loss: 0.071 ... Validation loss: 0.147"
     ]
    },
    {
     "name": "stdout",
     "output_type": "stream",
     "text": [
      "\rProgress: 82.5% ... Training loss: 0.069 ... Validation loss: 0.163"
     ]
    },
    {
     "name": "stdout",
     "output_type": "stream",
     "text": [
      "\rProgress: 82.6% ... Training loss: 0.066 ... Validation loss: 0.141"
     ]
    },
    {
     "name": "stdout",
     "output_type": "stream",
     "text": [
      "\rProgress: 82.7% ... Training loss: 0.066 ... Validation loss: 0.160"
     ]
    },
    {
     "name": "stdout",
     "output_type": "stream",
     "text": [
      "\rProgress: 82.8% ... Training loss: 0.077 ... Validation loss: 0.183"
     ]
    },
    {
     "name": "stdout",
     "output_type": "stream",
     "text": [
      "\rProgress: 82.9% ... Training loss: 0.063 ... Validation loss: 0.150"
     ]
    },
    {
     "name": "stdout",
     "output_type": "stream",
     "text": [
      "\rProgress: 83.0% ... Training loss: 0.063 ... Validation loss: 0.159"
     ]
    },
    {
     "name": "stdout",
     "output_type": "stream",
     "text": [
      "\rProgress: 83.1% ... Training loss: 0.063 ... Validation loss: 0.169"
     ]
    },
    {
     "name": "stdout",
     "output_type": "stream",
     "text": [
      "\rProgress: 83.2% ... Training loss: 0.059 ... Validation loss: 0.152"
     ]
    },
    {
     "name": "stdout",
     "output_type": "stream",
     "text": [
      "\rProgress: 83.3% ... Training loss: 0.060 ... Validation loss: 0.139"
     ]
    },
    {
     "name": "stdout",
     "output_type": "stream",
     "text": [
      "\rProgress: 83.4% ... Training loss: 0.060 ... Validation loss: 0.152"
     ]
    },
    {
     "name": "stdout",
     "output_type": "stream",
     "text": [
      "\rProgress: 83.5% ... Training loss: 0.062 ... Validation loss: 0.157"
     ]
    },
    {
     "name": "stdout",
     "output_type": "stream",
     "text": [
      "\rProgress: 83.6% ... Training loss: 0.061 ... Validation loss: 0.141"
     ]
    },
    {
     "name": "stdout",
     "output_type": "stream",
     "text": [
      "\rProgress: 83.7% ... Training loss: 0.068 ... Validation loss: 0.170"
     ]
    },
    {
     "name": "stdout",
     "output_type": "stream",
     "text": [
      "\rProgress: 83.8% ... Training loss: 0.062 ... Validation loss: 0.141"
     ]
    },
    {
     "name": "stdout",
     "output_type": "stream",
     "text": [
      "\rProgress: 83.9% ... Training loss: 0.062 ... Validation loss: 0.144"
     ]
    },
    {
     "name": "stdout",
     "output_type": "stream",
     "text": [
      "\rProgress: 84.0% ... Training loss: 0.060 ... Validation loss: 0.137"
     ]
    },
    {
     "name": "stdout",
     "output_type": "stream",
     "text": [
      "\rProgress: 84.1% ... Training loss: 0.060 ... Validation loss: 0.140"
     ]
    },
    {
     "name": "stdout",
     "output_type": "stream",
     "text": [
      "\rProgress: 84.2% ... Training loss: 0.062 ... Validation loss: 0.135"
     ]
    },
    {
     "name": "stdout",
     "output_type": "stream",
     "text": [
      "\rProgress: 84.3% ... Training loss: 0.062 ... Validation loss: 0.159"
     ]
    },
    {
     "name": "stdout",
     "output_type": "stream",
     "text": [
      "\rProgress: 84.4% ... Training loss: 0.061 ... Validation loss: 0.156"
     ]
    },
    {
     "name": "stdout",
     "output_type": "stream",
     "text": [
      "\rProgress: 84.5% ... Training loss: 0.061 ... Validation loss: 0.162"
     ]
    },
    {
     "name": "stdout",
     "output_type": "stream",
     "text": [
      "\rProgress: 84.6% ... Training loss: 0.068 ... Validation loss: 0.148"
     ]
    },
    {
     "name": "stdout",
     "output_type": "stream",
     "text": [
      "\rProgress: 84.7% ... Training loss: 0.066 ... Validation loss: 0.185"
     ]
    },
    {
     "name": "stdout",
     "output_type": "stream",
     "text": [
      "\rProgress: 84.8% ... Training loss: 0.062 ... Validation loss: 0.151"
     ]
    },
    {
     "name": "stdout",
     "output_type": "stream",
     "text": [
      "\rProgress: 84.9% ... Training loss: 0.078 ... Validation loss: 0.176"
     ]
    },
    {
     "name": "stdout",
     "output_type": "stream",
     "text": [
      "\rProgress: 85.0% ... Training loss: 0.072 ... Validation loss: 0.135"
     ]
    },
    {
     "name": "stdout",
     "output_type": "stream",
     "text": [
      "\rProgress: 85.1% ... Training loss: 0.065 ... Validation loss: 0.152"
     ]
    },
    {
     "name": "stdout",
     "output_type": "stream",
     "text": [
      "\rProgress: 85.2% ... Training loss: 0.062 ... Validation loss: 0.146"
     ]
    },
    {
     "name": "stdout",
     "output_type": "stream",
     "text": [
      "\rProgress: 85.3% ... Training loss: 0.063 ... Validation loss: 0.170"
     ]
    },
    {
     "name": "stdout",
     "output_type": "stream",
     "text": [
      "\rProgress: 85.4% ... Training loss: 0.058 ... Validation loss: 0.147"
     ]
    },
    {
     "name": "stdout",
     "output_type": "stream",
     "text": [
      "\rProgress: 85.5% ... Training loss: 0.059 ... Validation loss: 0.153"
     ]
    },
    {
     "name": "stdout",
     "output_type": "stream",
     "text": [
      "\rProgress: 85.6% ... Training loss: 0.068 ... Validation loss: 0.176"
     ]
    },
    {
     "name": "stdout",
     "output_type": "stream",
     "text": [
      "\rProgress: 85.7% ... Training loss: 0.064 ... Validation loss: 0.149"
     ]
    },
    {
     "name": "stdout",
     "output_type": "stream",
     "text": [
      "\rProgress: 85.8% ... Training loss: 0.068 ... Validation loss: 0.171"
     ]
    },
    {
     "name": "stdout",
     "output_type": "stream",
     "text": [
      "\rProgress: 85.9% ... Training loss: 0.063 ... Validation loss: 0.140"
     ]
    },
    {
     "name": "stdout",
     "output_type": "stream",
     "text": [
      "\rProgress: 86.0% ... Training loss: 0.067 ... Validation loss: 0.153"
     ]
    },
    {
     "name": "stdout",
     "output_type": "stream",
     "text": [
      "\rProgress: 86.1% ... Training loss: 0.060 ... Validation loss: 0.143"
     ]
    },
    {
     "name": "stdout",
     "output_type": "stream",
     "text": [
      "\rProgress: 86.2% ... Training loss: 0.061 ... Validation loss: 0.138"
     ]
    },
    {
     "name": "stdout",
     "output_type": "stream",
     "text": [
      "\rProgress: 86.3% ... Training loss: 0.060 ... Validation loss: 0.141"
     ]
    },
    {
     "name": "stdout",
     "output_type": "stream",
     "text": [
      "\rProgress: 86.4% ... Training loss: 0.078 ... Validation loss: 0.142"
     ]
    },
    {
     "name": "stdout",
     "output_type": "stream",
     "text": [
      "\rProgress: 86.5% ... Training loss: 0.069 ... Validation loss: 0.143"
     ]
    },
    {
     "name": "stdout",
     "output_type": "stream",
     "text": [
      "\rProgress: 86.6% ... Training loss: 0.070 ... Validation loss: 0.166"
     ]
    },
    {
     "name": "stdout",
     "output_type": "stream",
     "text": [
      "\rProgress: 86.7% ... Training loss: 0.063 ... Validation loss: 0.145"
     ]
    },
    {
     "name": "stdout",
     "output_type": "stream",
     "text": [
      "\rProgress: 86.8% ... Training loss: 0.065 ... Validation loss: 0.154"
     ]
    },
    {
     "name": "stdout",
     "output_type": "stream",
     "text": [
      "\rProgress: 86.9% ... Training loss: 0.067 ... Validation loss: 0.139"
     ]
    },
    {
     "name": "stdout",
     "output_type": "stream",
     "text": [
      "\rProgress: 87.0% ... Training loss: 0.063 ... Validation loss: 0.143"
     ]
    },
    {
     "name": "stdout",
     "output_type": "stream",
     "text": [
      "\rProgress: 87.1% ... Training loss: 0.063 ... Validation loss: 0.144"
     ]
    },
    {
     "name": "stdout",
     "output_type": "stream",
     "text": [
      "\rProgress: 87.2% ... Training loss: 0.072 ... Validation loss: 0.160"
     ]
    },
    {
     "name": "stdout",
     "output_type": "stream",
     "text": [
      "\rProgress: 87.3% ... Training loss: 0.072 ... Validation loss: 0.134"
     ]
    },
    {
     "name": "stdout",
     "output_type": "stream",
     "text": [
      "\rProgress: 87.4% ... Training loss: 0.074 ... Validation loss: 0.137"
     ]
    },
    {
     "name": "stdout",
     "output_type": "stream",
     "text": [
      "\rProgress: 87.5% ... Training loss: 0.062 ... Validation loss: 0.163"
     ]
    },
    {
     "name": "stdout",
     "output_type": "stream",
     "text": [
      "\rProgress: 87.6% ... Training loss: 0.071 ... Validation loss: 0.141"
     ]
    },
    {
     "name": "stdout",
     "output_type": "stream",
     "text": [
      "\rProgress: 87.7% ... Training loss: 0.063 ... Validation loss: 0.165"
     ]
    },
    {
     "name": "stdout",
     "output_type": "stream",
     "text": [
      "\rProgress: 87.8% ... Training loss: 0.059 ... Validation loss: 0.144"
     ]
    },
    {
     "name": "stdout",
     "output_type": "stream",
     "text": [
      "\rProgress: 87.9% ... Training loss: 0.060 ... Validation loss: 0.162"
     ]
    },
    {
     "name": "stdout",
     "output_type": "stream",
     "text": [
      "\rProgress: 88.0% ... Training loss: 0.060 ... Validation loss: 0.157"
     ]
    },
    {
     "name": "stdout",
     "output_type": "stream",
     "text": [
      "\rProgress: 88.1% ... Training loss: 0.059 ... Validation loss: 0.159"
     ]
    },
    {
     "name": "stdout",
     "output_type": "stream",
     "text": [
      "\rProgress: 88.2% ... Training loss: 0.060 ... Validation loss: 0.141"
     ]
    },
    {
     "name": "stdout",
     "output_type": "stream",
     "text": [
      "\rProgress: 88.3% ... Training loss: 0.062 ... Validation loss: 0.137"
     ]
    },
    {
     "name": "stdout",
     "output_type": "stream",
     "text": [
      "\rProgress: 88.4% ... Training loss: 0.062 ... Validation loss: 0.150"
     ]
    },
    {
     "name": "stdout",
     "output_type": "stream",
     "text": [
      "\rProgress: 88.5% ... Training loss: 0.060 ... Validation loss: 0.148"
     ]
    },
    {
     "name": "stdout",
     "output_type": "stream",
     "text": [
      "\rProgress: 88.6% ... Training loss: 0.060 ... Validation loss: 0.145"
     ]
    },
    {
     "name": "stdout",
     "output_type": "stream",
     "text": [
      "\rProgress: 88.7% ... Training loss: 0.058 ... Validation loss: 0.145"
     ]
    },
    {
     "name": "stdout",
     "output_type": "stream",
     "text": [
      "\rProgress: 88.8% ... Training loss: 0.060 ... Validation loss: 0.139"
     ]
    },
    {
     "name": "stdout",
     "output_type": "stream",
     "text": [
      "\rProgress: 88.9% ... Training loss: 0.059 ... Validation loss: 0.141"
     ]
    },
    {
     "name": "stdout",
     "output_type": "stream",
     "text": [
      "\rProgress: 89.0% ... Training loss: 0.058 ... Validation loss: 0.144"
     ]
    },
    {
     "name": "stdout",
     "output_type": "stream",
     "text": [
      "\rProgress: 89.1% ... Training loss: 0.061 ... Validation loss: 0.144"
     ]
    },
    {
     "name": "stdout",
     "output_type": "stream",
     "text": [
      "\rProgress: 89.2% ... Training loss: 0.060 ... Validation loss: 0.135"
     ]
    },
    {
     "name": "stdout",
     "output_type": "stream",
     "text": [
      "\rProgress: 89.3% ... Training loss: 0.063 ... Validation loss: 0.137"
     ]
    },
    {
     "name": "stdout",
     "output_type": "stream",
     "text": [
      "\rProgress: 89.4% ... Training loss: 0.069 ... Validation loss: 0.157"
     ]
    },
    {
     "name": "stdout",
     "output_type": "stream",
     "text": [
      "\rProgress: 89.5% ... Training loss: 0.061 ... Validation loss: 0.141"
     ]
    },
    {
     "name": "stdout",
     "output_type": "stream",
     "text": [
      "\rProgress: 89.6% ... Training loss: 0.073 ... Validation loss: 0.169"
     ]
    },
    {
     "name": "stdout",
     "output_type": "stream",
     "text": [
      "\rProgress: 89.7% ... Training loss: 0.076 ... Validation loss: 0.143"
     ]
    },
    {
     "name": "stdout",
     "output_type": "stream",
     "text": [
      "\rProgress: 89.8% ... Training loss: 0.061 ... Validation loss: 0.137"
     ]
    },
    {
     "name": "stdout",
     "output_type": "stream",
     "text": [
      "\rProgress: 89.9% ... Training loss: 0.061 ... Validation loss: 0.132"
     ]
    },
    {
     "name": "stdout",
     "output_type": "stream",
     "text": [
      "\rProgress: 90.0% ... Training loss: 0.066 ... Validation loss: 0.147"
     ]
    },
    {
     "name": "stdout",
     "output_type": "stream",
     "text": [
      "\rProgress: 90.1% ... Training loss: 0.065 ... Validation loss: 0.138"
     ]
    },
    {
     "name": "stdout",
     "output_type": "stream",
     "text": [
      "\rProgress: 90.2% ... Training loss: 0.064 ... Validation loss: 0.144"
     ]
    },
    {
     "name": "stdout",
     "output_type": "stream",
     "text": [
      "\rProgress: 90.3% ... Training loss: 0.062 ... Validation loss: 0.139"
     ]
    },
    {
     "name": "stdout",
     "output_type": "stream",
     "text": [
      "\rProgress: 90.4% ... Training loss: 0.061 ... Validation loss: 0.152"
     ]
    },
    {
     "name": "stdout",
     "output_type": "stream",
     "text": [
      "\rProgress: 90.5% ... Training loss: 0.070 ... Validation loss: 0.136"
     ]
    },
    {
     "name": "stdout",
     "output_type": "stream",
     "text": [
      "\rProgress: 90.6% ... Training loss: 0.065 ... Validation loss: 0.145"
     ]
    },
    {
     "name": "stdout",
     "output_type": "stream",
     "text": [
      "\rProgress: 90.7% ... Training loss: 0.061 ... Validation loss: 0.140"
     ]
    },
    {
     "name": "stdout",
     "output_type": "stream",
     "text": [
      "\rProgress: 90.8% ... Training loss: 0.061 ... Validation loss: 0.148"
     ]
    },
    {
     "name": "stdout",
     "output_type": "stream",
     "text": [
      "\rProgress: 90.9% ... Training loss: 0.061 ... Validation loss: 0.137"
     ]
    },
    {
     "name": "stdout",
     "output_type": "stream",
     "text": [
      "\rProgress: 91.0% ... Training loss: 0.066 ... Validation loss: 0.131"
     ]
    },
    {
     "name": "stdout",
     "output_type": "stream",
     "text": [
      "\rProgress: 91.1% ... Training loss: 0.058 ... Validation loss: 0.132"
     ]
    },
    {
     "name": "stdout",
     "output_type": "stream",
     "text": [
      "\rProgress: 91.2% ... Training loss: 0.058 ... Validation loss: 0.146"
     ]
    },
    {
     "name": "stdout",
     "output_type": "stream",
     "text": [
      "\rProgress: 91.3% ... Training loss: 0.064 ... Validation loss: 0.135"
     ]
    },
    {
     "name": "stdout",
     "output_type": "stream",
     "text": [
      "\rProgress: 91.4% ... Training loss: 0.062 ... Validation loss: 0.144"
     ]
    },
    {
     "name": "stdout",
     "output_type": "stream",
     "text": [
      "\rProgress: 91.5% ... Training loss: 0.058 ... Validation loss: 0.136"
     ]
    },
    {
     "name": "stdout",
     "output_type": "stream",
     "text": [
      "\rProgress: 91.6% ... Training loss: 0.063 ... Validation loss: 0.151"
     ]
    },
    {
     "name": "stdout",
     "output_type": "stream",
     "text": [
      "\rProgress: 91.7% ... Training loss: 0.062 ... Validation loss: 0.137"
     ]
    },
    {
     "name": "stdout",
     "output_type": "stream",
     "text": [
      "\rProgress: 91.8% ... Training loss: 0.071 ... Validation loss: 0.218"
     ]
    },
    {
     "name": "stdout",
     "output_type": "stream",
     "text": [
      "\rProgress: 91.9% ... Training loss: 0.062 ... Validation loss: 0.147"
     ]
    },
    {
     "name": "stdout",
     "output_type": "stream",
     "text": [
      "\rProgress: 92.0% ... Training loss: 0.067 ... Validation loss: 0.129"
     ]
    },
    {
     "name": "stdout",
     "output_type": "stream",
     "text": [
      "\rProgress: 92.1% ... Training loss: 0.062 ... Validation loss: 0.144"
     ]
    },
    {
     "name": "stdout",
     "output_type": "stream",
     "text": [
      "\rProgress: 92.2% ... Training loss: 0.064 ... Validation loss: 0.145"
     ]
    },
    {
     "name": "stdout",
     "output_type": "stream",
     "text": [
      "\rProgress: 92.3% ... Training loss: 0.062 ... Validation loss: 0.138"
     ]
    },
    {
     "name": "stdout",
     "output_type": "stream",
     "text": [
      "\rProgress: 92.4% ... Training loss: 0.060 ... Validation loss: 0.143"
     ]
    },
    {
     "name": "stdout",
     "output_type": "stream",
     "text": [
      "\rProgress: 92.5% ... Training loss: 0.062 ... Validation loss: 0.151"
     ]
    },
    {
     "name": "stdout",
     "output_type": "stream",
     "text": [
      "\rProgress: 92.6% ... Training loss: 0.063 ... Validation loss: 0.153"
     ]
    },
    {
     "name": "stdout",
     "output_type": "stream",
     "text": [
      "\rProgress: 92.7% ... Training loss: 0.057 ... Validation loss: 0.144"
     ]
    },
    {
     "name": "stdout",
     "output_type": "stream",
     "text": [
      "\rProgress: 92.8% ... Training loss: 0.063 ... Validation loss: 0.147"
     ]
    },
    {
     "name": "stdout",
     "output_type": "stream",
     "text": [
      "\rProgress: 92.9% ... Training loss: 0.073 ... Validation loss: 0.192"
     ]
    },
    {
     "name": "stdout",
     "output_type": "stream",
     "text": [
      "\rProgress: 93.0% ... Training loss: 0.078 ... Validation loss: 0.136"
     ]
    },
    {
     "name": "stdout",
     "output_type": "stream",
     "text": [
      "\rProgress: 93.1% ... Training loss: 0.063 ... Validation loss: 0.156"
     ]
    },
    {
     "name": "stdout",
     "output_type": "stream",
     "text": [
      "\rProgress: 93.2% ... Training loss: 0.061 ... Validation loss: 0.148"
     ]
    },
    {
     "name": "stdout",
     "output_type": "stream",
     "text": [
      "\rProgress: 93.3% ... Training loss: 0.061 ... Validation loss: 0.134"
     ]
    },
    {
     "name": "stdout",
     "output_type": "stream",
     "text": [
      "\rProgress: 93.4% ... Training loss: 0.060 ... Validation loss: 0.162"
     ]
    },
    {
     "name": "stdout",
     "output_type": "stream",
     "text": [
      "\rProgress: 93.5% ... Training loss: 0.063 ... Validation loss: 0.135"
     ]
    },
    {
     "name": "stdout",
     "output_type": "stream",
     "text": [
      "\rProgress: 93.6% ... Training loss: 0.058 ... Validation loss: 0.138"
     ]
    },
    {
     "name": "stdout",
     "output_type": "stream",
     "text": [
      "\rProgress: 93.7% ... Training loss: 0.059 ... Validation loss: 0.139"
     ]
    },
    {
     "name": "stdout",
     "output_type": "stream",
     "text": [
      "\rProgress: 93.8% ... Training loss: 0.068 ... Validation loss: 0.142"
     ]
    },
    {
     "name": "stdout",
     "output_type": "stream",
     "text": [
      "\rProgress: 93.9% ... Training loss: 0.062 ... Validation loss: 0.149"
     ]
    },
    {
     "name": "stdout",
     "output_type": "stream",
     "text": [
      "\rProgress: 94.0% ... Training loss: 0.060 ... Validation loss: 0.147"
     ]
    },
    {
     "name": "stdout",
     "output_type": "stream",
     "text": [
      "\rProgress: 94.1% ... Training loss: 0.060 ... Validation loss: 0.142"
     ]
    },
    {
     "name": "stdout",
     "output_type": "stream",
     "text": [
      "\rProgress: 94.2% ... Training loss: 0.058 ... Validation loss: 0.151"
     ]
    },
    {
     "name": "stdout",
     "output_type": "stream",
     "text": [
      "\rProgress: 94.3% ... Training loss: 0.058 ... Validation loss: 0.140"
     ]
    },
    {
     "name": "stdout",
     "output_type": "stream",
     "text": [
      "\rProgress: 94.4% ... Training loss: 0.058 ... Validation loss: 0.147"
     ]
    },
    {
     "name": "stdout",
     "output_type": "stream",
     "text": [
      "\rProgress: 94.5% ... Training loss: 0.057 ... Validation loss: 0.148"
     ]
    },
    {
     "name": "stdout",
     "output_type": "stream",
     "text": [
      "\rProgress: 94.6% ... Training loss: 0.058 ... Validation loss: 0.139"
     ]
    },
    {
     "name": "stdout",
     "output_type": "stream",
     "text": [
      "\rProgress: 94.7% ... Training loss: 0.058 ... Validation loss: 0.148"
     ]
    },
    {
     "name": "stdout",
     "output_type": "stream",
     "text": [
      "\rProgress: 94.8% ... Training loss: 0.060 ... Validation loss: 0.140"
     ]
    },
    {
     "name": "stdout",
     "output_type": "stream",
     "text": [
      "\rProgress: 94.9% ... Training loss: 0.062 ... Validation loss: 0.150"
     ]
    },
    {
     "name": "stdout",
     "output_type": "stream",
     "text": [
      "\rProgress: 95.0% ... Training loss: 0.064 ... Validation loss: 0.147"
     ]
    },
    {
     "name": "stdout",
     "output_type": "stream",
     "text": [
      "\rProgress: 95.1% ... Training loss: 0.062 ... Validation loss: 0.158"
     ]
    },
    {
     "name": "stdout",
     "output_type": "stream",
     "text": [
      "\rProgress: 95.2% ... Training loss: 0.063 ... Validation loss: 0.144"
     ]
    },
    {
     "name": "stdout",
     "output_type": "stream",
     "text": [
      "\rProgress: 95.3% ... Training loss: 0.060 ... Validation loss: 0.150"
     ]
    },
    {
     "name": "stdout",
     "output_type": "stream",
     "text": [
      "\rProgress: 95.4% ... Training loss: 0.059 ... Validation loss: 0.147"
     ]
    },
    {
     "name": "stdout",
     "output_type": "stream",
     "text": [
      "\rProgress: 95.5% ... Training loss: 0.062 ... Validation loss: 0.146"
     ]
    },
    {
     "name": "stdout",
     "output_type": "stream",
     "text": [
      "\rProgress: 95.6% ... Training loss: 0.060 ... Validation loss: 0.151"
     ]
    },
    {
     "name": "stdout",
     "output_type": "stream",
     "text": [
      "\rProgress: 95.7% ... Training loss: 0.061 ... Validation loss: 0.137"
     ]
    },
    {
     "name": "stdout",
     "output_type": "stream",
     "text": [
      "\rProgress: 95.8% ... Training loss: 0.062 ... Validation loss: 0.149"
     ]
    },
    {
     "name": "stdout",
     "output_type": "stream",
     "text": [
      "\rProgress: 95.9% ... Training loss: 0.064 ... Validation loss: 0.140"
     ]
    },
    {
     "name": "stdout",
     "output_type": "stream",
     "text": [
      "\rProgress: 96.0% ... Training loss: 0.059 ... Validation loss: 0.139"
     ]
    },
    {
     "name": "stdout",
     "output_type": "stream",
     "text": [
      "\rProgress: 96.1% ... Training loss: 0.066 ... Validation loss: 0.144"
     ]
    },
    {
     "name": "stdout",
     "output_type": "stream",
     "text": [
      "\rProgress: 96.2% ... Training loss: 0.060 ... Validation loss: 0.138"
     ]
    },
    {
     "name": "stdout",
     "output_type": "stream",
     "text": [
      "\rProgress: 96.3% ... Training loss: 0.060 ... Validation loss: 0.139"
     ]
    },
    {
     "name": "stdout",
     "output_type": "stream",
     "text": [
      "\rProgress: 96.4% ... Training loss: 0.061 ... Validation loss: 0.140"
     ]
    },
    {
     "name": "stdout",
     "output_type": "stream",
     "text": [
      "\rProgress: 96.5% ... Training loss: 0.058 ... Validation loss: 0.136"
     ]
    },
    {
     "name": "stdout",
     "output_type": "stream",
     "text": [
      "\rProgress: 96.6% ... Training loss: 0.057 ... Validation loss: 0.139"
     ]
    },
    {
     "name": "stdout",
     "output_type": "stream",
     "text": [
      "\rProgress: 96.7% ... Training loss: 0.059 ... Validation loss: 0.148"
     ]
    },
    {
     "name": "stdout",
     "output_type": "stream",
     "text": [
      "\rProgress: 96.8% ... Training loss: 0.058 ... Validation loss: 0.144"
     ]
    },
    {
     "name": "stdout",
     "output_type": "stream",
     "text": [
      "\rProgress: 96.9% ... Training loss: 0.060 ... Validation loss: 0.132"
     ]
    },
    {
     "name": "stdout",
     "output_type": "stream",
     "text": [
      "\rProgress: 97.0% ... Training loss: 0.061 ... Validation loss: 0.155"
     ]
    },
    {
     "name": "stdout",
     "output_type": "stream",
     "text": [
      "\rProgress: 97.1% ... Training loss: 0.063 ... Validation loss: 0.137"
     ]
    },
    {
     "name": "stdout",
     "output_type": "stream",
     "text": [
      "\rProgress: 97.2% ... Training loss: 0.058 ... Validation loss: 0.145"
     ]
    },
    {
     "name": "stdout",
     "output_type": "stream",
     "text": [
      "\rProgress: 97.3% ... Training loss: 0.063 ... Validation loss: 0.161"
     ]
    },
    {
     "name": "stdout",
     "output_type": "stream",
     "text": [
      "\rProgress: 97.4% ... Training loss: 0.073 ... Validation loss: 0.145"
     ]
    },
    {
     "name": "stdout",
     "output_type": "stream",
     "text": [
      "\rProgress: 97.5% ... Training loss: 0.066 ... Validation loss: 0.148"
     ]
    },
    {
     "name": "stdout",
     "output_type": "stream",
     "text": [
      "\rProgress: 97.6% ... Training loss: 0.063 ... Validation loss: 0.146"
     ]
    },
    {
     "name": "stdout",
     "output_type": "stream",
     "text": [
      "\rProgress: 97.7% ... Training loss: 0.059 ... Validation loss: 0.142"
     ]
    },
    {
     "name": "stdout",
     "output_type": "stream",
     "text": [
      "\rProgress: 97.8% ... Training loss: 0.071 ... Validation loss: 0.198"
     ]
    },
    {
     "name": "stdout",
     "output_type": "stream",
     "text": [
      "\rProgress: 97.9% ... Training loss: 0.060 ... Validation loss: 0.151"
     ]
    },
    {
     "name": "stdout",
     "output_type": "stream",
     "text": [
      "\rProgress: 98.0% ... Training loss: 0.058 ... Validation loss: 0.151"
     ]
    },
    {
     "name": "stdout",
     "output_type": "stream",
     "text": [
      "\rProgress: 98.1% ... Training loss: 0.061 ... Validation loss: 0.145"
     ]
    },
    {
     "name": "stdout",
     "output_type": "stream",
     "text": [
      "\rProgress: 98.2% ... Training loss: 0.059 ... Validation loss: 0.163"
     ]
    },
    {
     "name": "stdout",
     "output_type": "stream",
     "text": [
      "\rProgress: 98.3% ... Training loss: 0.060 ... Validation loss: 0.144"
     ]
    },
    {
     "name": "stdout",
     "output_type": "stream",
     "text": [
      "\rProgress: 98.4% ... Training loss: 0.064 ... Validation loss: 0.170"
     ]
    },
    {
     "name": "stdout",
     "output_type": "stream",
     "text": [
      "\rProgress: 98.5% ... Training loss: 0.092 ... Validation loss: 0.140"
     ]
    },
    {
     "name": "stdout",
     "output_type": "stream",
     "text": [
      "\rProgress: 98.6% ... Training loss: 0.068 ... Validation loss: 0.173"
     ]
    },
    {
     "name": "stdout",
     "output_type": "stream",
     "text": [
      "\rProgress: 98.7% ... Training loss: 0.076 ... Validation loss: 0.137"
     ]
    },
    {
     "name": "stdout",
     "output_type": "stream",
     "text": [
      "\rProgress: 98.8% ... Training loss: 0.069 ... Validation loss: 0.171"
     ]
    },
    {
     "name": "stdout",
     "output_type": "stream",
     "text": [
      "\rProgress: 98.9% ... Training loss: 0.078 ... Validation loss: 0.134"
     ]
    },
    {
     "name": "stdout",
     "output_type": "stream",
     "text": [
      "\rProgress: 99.0% ... Training loss: 0.073 ... Validation loss: 0.184"
     ]
    },
    {
     "name": "stdout",
     "output_type": "stream",
     "text": [
      "\rProgress: 99.1% ... Training loss: 0.063 ... Validation loss: 0.152"
     ]
    },
    {
     "name": "stdout",
     "output_type": "stream",
     "text": [
      "\rProgress: 99.2% ... Training loss: 0.065 ... Validation loss: 0.178"
     ]
    },
    {
     "name": "stdout",
     "output_type": "stream",
     "text": [
      "\rProgress: 99.3% ... Training loss: 0.057 ... Validation loss: 0.149"
     ]
    },
    {
     "name": "stdout",
     "output_type": "stream",
     "text": [
      "\rProgress: 99.4% ... Training loss: 0.058 ... Validation loss: 0.146"
     ]
    },
    {
     "name": "stdout",
     "output_type": "stream",
     "text": [
      "\rProgress: 99.5% ... Training loss: 0.059 ... Validation loss: 0.160"
     ]
    },
    {
     "name": "stdout",
     "output_type": "stream",
     "text": [
      "\rProgress: 99.6% ... Training loss: 0.062 ... Validation loss: 0.153"
     ]
    },
    {
     "name": "stdout",
     "output_type": "stream",
     "text": [
      "\rProgress: 99.7% ... Training loss: 0.060 ... Validation loss: 0.138"
     ]
    },
    {
     "name": "stdout",
     "output_type": "stream",
     "text": [
      "\rProgress: 99.8% ... Training loss: 0.061 ... Validation loss: 0.148"
     ]
    },
    {
     "name": "stdout",
     "output_type": "stream",
     "text": [
      "\rProgress: 99.9% ... Training loss: 0.058 ... Validation loss: 0.133"
     ]
    }
   ],
   "source": [
    "import sys\n",
    "\n",
    "### Set the hyperparameters here ###\n",
    "iterations = 1000\n",
    "learning_rate = 0.0025\n",
    "hidden_nodes = 25\n",
    "output_nodes = 250\n",
    "\n",
    "N_i = train_features.shape[1]\n",
    "\n",
    "network = NeuralNetwork(N_i, hidden_nodes, output_nodes, learning_rate)\n",
    "losses = {'train': [], 'validation': []}\n",
    "for ii in range(iterations):\n",
    "    # Go through a random batch of 128 records from the training data set\n",
    "    batch = np.random.choice(train_features.index, size=128)\n",
    "    X, y = train_features.ix[batch].values, train_targets.ix[batch]['cnt']\n",
    "\n",
    "    network.train(X, y)\n",
    "\n",
    "    # Printing out the training progress\n",
    "    train_loss = MSE(network.run(train_features).T, train_targets['cnt'].values)\n",
    "    val_loss = MSE(network.run(val_features).T, val_targets['cnt'].values)\n",
    "    sys.stdout.write(\"\\rProgress: {:2.1f}\".format(100 * ii/float(iterations)) \\\n",
    "                     + \"% ... Training loss: \" + str(train_loss)[:5] \\\n",
    "                     + \" ... Validation loss: \" + str(val_loss)[:5])\n",
    "    sys.stdout.flush()\n",
    "    losses['train'].append(train_loss)\n",
    "    losses['validation'].append(val_loss)"
   ]
  },
  {
   "cell_type": "code",
   "execution_count": 31,
   "metadata": {
    "collapsed": false,
    "deletable": true,
    "editable": true
   },
   "outputs": [
    {
     "data": {
      "image/png": "[encoded data removed]",
      "text/plain": [
       "<matplotlib.figure.Figure at 0x7fafae492320>"
      ]
     },
     "metadata": {},
     "output_type": "display_data"
    }
   ],
   "source": [
    "plt.plot(losses['train'], label='Training loss')\n",
    "plt.plot(losses['validation'], label='Validation loss')\n",
    "plt.legend()\n",
    "_ = plt.ylim()"
   ]
  },
  {
   "cell_type": "markdown",
   "metadata": {
    "deletable": true,
    "editable": true
   },
   "source": [
    "## Check out your predictions\n",
    "\n",
    "Here, use the test data to view how well your network is modeling the data. If something is completely wrong here, make sure each step in your network is implemented correctly."
   ]
  },
  {
   "cell_type": "code",
   "execution_count": 33,
   "metadata": {
    "collapsed": false,
    "deletable": true,
    "editable": true
   },
   "outputs": [
    {
     "data": {
      "image/png": "[encoded data removed]",
      "text/plain": [
       "<matplotlib.figure.Figure at 0x7fafae3a0278>"
      ]
     },
     "metadata": {},
     "output_type": "display_data"
    }
   ],
   "source": [
    "fig, ax = plt.subplots(figsize=(8,4))\n",
    "\n",
    "mean, std = scaled_features['cnt']\n",
    "predictions = network.run(test_features).T*std + mean\n",
    "ax.plot(predictions[0], label='Prediction')\n",
    "ax.plot((test_targets['cnt']*std + mean).values, label='Data')\n",
    "ax.set_xlim(right=len(predictions))\n",
    "ax.legend()\n",
    "\n",
    "dates = pd.to_datetime(rides.ix[test_data.index]['dteday'])\n",
    "dates = dates.apply(lambda d: d.strftime('%b %d'))\n",
    "ax.set_xticks(np.arange(len(dates))[12::24])\n",
    "_ = ax.set_xticklabels(dates[12::24], rotation=45)"
   ]
  },
  {
   "cell_type": "markdown",
   "metadata": {
    "deletable": true,
    "editable": true
   },
   "source": [
    "## OPTIONAL: Thinking about your results(this question will not be evaluated in the rubric).\n",
    " \n",
    "Answer these questions about your results. How well does the model predict the data? Where does it fail? Why does it fail where it does?\n",
    "\n",
    "> **Note:** You can edit the text in this cell by double clicking on it. When you want to render the text, press control + enter\n",
    "\n",
    "#### Your answer below\n",
    "\n",
    "I think model predicts demand quite well. THe biggest problem comes from the difficult period of christmas and new year.  It fails quite big on Christmas Eve and following holidays. "
   ]
  }
 ],
 "metadata": {
  "anaconda-cloud": {},
  "kernelspec": {
   "display_name": "Python 3",
   "language": "python",
   "name": "python3"
  },
  "language_info": {
   "codemirror_mode": {
    "name": "ipython",
    "version": 3.0
   },
   "file_extension": ".py",
   "mimetype": "text/x-python",
   "name": "python",
   "nbconvert_exporter": "python",
   "pygments_lexer": "ipython3",
   "version": "3.6.1"
  }
 },
 "nbformat": 4,
 "nbformat_minor": 0
}